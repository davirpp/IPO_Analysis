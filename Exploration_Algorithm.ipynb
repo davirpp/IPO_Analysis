{
 "cells": [
  {
   "cell_type": "markdown",
   "metadata": {},
   "source": [
    "# Initial Data Exploration"
   ]
  },
  {
   "cell_type": "markdown",
   "metadata": {},
   "source": [
    "## Rentability"
   ]
  },
  {
   "cell_type": "code",
   "execution_count": 1,
   "metadata": {},
   "outputs": [],
   "source": [
    "import pandas as pd\n",
    "ipo_df = pd.read_csv(\"C:/Users/davir/davigit/Projeto_Intro_CD/datasets/COTAHIST_A2015_2021.csv\")\n",
    "ipo_details = pd.read_excel(\"C:/Users/davir/davigit/Projeto_Intro_CD/datasets/IPO_details.xlsx\")"
   ]
  },
  {
   "cell_type": "code",
   "execution_count": 2,
   "metadata": {
    "scrolled": true
   },
   "outputs": [
    {
     "data": {
      "text/html": [
       "<div>\n",
       "<style scoped>\n",
       "    .dataframe tbody tr th:only-of-type {\n",
       "        vertical-align: middle;\n",
       "    }\n",
       "\n",
       "    .dataframe tbody tr th {\n",
       "        vertical-align: top;\n",
       "    }\n",
       "\n",
       "    .dataframe thead th {\n",
       "        text-align: right;\n",
       "    }\n",
       "</style>\n",
       "<table border=\"1\" class=\"dataframe\">\n",
       "  <thead>\n",
       "    <tr style=\"text-align: right;\">\n",
       "      <th></th>\n",
       "      <th>date</th>\n",
       "      <th>codneg</th>\n",
       "      <th>preabe</th>\n",
       "      <th>preult</th>\n",
       "    </tr>\n",
       "  </thead>\n",
       "  <tbody>\n",
       "    <tr>\n",
       "      <th>0</th>\n",
       "      <td>2015-06-05</td>\n",
       "      <td>WIZS3</td>\n",
       "      <td>13.60</td>\n",
       "      <td>13.90</td>\n",
       "    </tr>\n",
       "    <tr>\n",
       "      <th>1</th>\n",
       "      <td>2015-06-08</td>\n",
       "      <td>WIZS3</td>\n",
       "      <td>14.11</td>\n",
       "      <td>13.78</td>\n",
       "    </tr>\n",
       "    <tr>\n",
       "      <th>2</th>\n",
       "      <td>2015-06-09</td>\n",
       "      <td>WIZS3</td>\n",
       "      <td>13.78</td>\n",
       "      <td>13.65</td>\n",
       "    </tr>\n",
       "    <tr>\n",
       "      <th>3</th>\n",
       "      <td>2015-06-10</td>\n",
       "      <td>WIZS3</td>\n",
       "      <td>13.70</td>\n",
       "      <td>14.00</td>\n",
       "    </tr>\n",
       "    <tr>\n",
       "      <th>4</th>\n",
       "      <td>2015-06-11</td>\n",
       "      <td>WIZS3</td>\n",
       "      <td>14.01</td>\n",
       "      <td>14.26</td>\n",
       "    </tr>\n",
       "    <tr>\n",
       "      <th>...</th>\n",
       "      <td>...</td>\n",
       "      <td>...</td>\n",
       "      <td>...</td>\n",
       "      <td>...</td>\n",
       "    </tr>\n",
       "    <tr>\n",
       "      <th>22518</th>\n",
       "      <td>2021-06-09</td>\n",
       "      <td>TFCO4</td>\n",
       "      <td>13.45</td>\n",
       "      <td>13.45</td>\n",
       "    </tr>\n",
       "    <tr>\n",
       "      <th>22519</th>\n",
       "      <td>2021-06-09</td>\n",
       "      <td>VAMO3</td>\n",
       "      <td>52.41</td>\n",
       "      <td>51.96</td>\n",
       "    </tr>\n",
       "    <tr>\n",
       "      <th>22520</th>\n",
       "      <td>2021-06-09</td>\n",
       "      <td>VIVA3</td>\n",
       "      <td>31.37</td>\n",
       "      <td>31.66</td>\n",
       "    </tr>\n",
       "    <tr>\n",
       "      <th>22521</th>\n",
       "      <td>2021-06-09</td>\n",
       "      <td>WEST3</td>\n",
       "      <td>8.83</td>\n",
       "      <td>8.77</td>\n",
       "    </tr>\n",
       "    <tr>\n",
       "      <th>22522</th>\n",
       "      <td>2021-06-09</td>\n",
       "      <td>WIZS3</td>\n",
       "      <td>13.15</td>\n",
       "      <td>13.04</td>\n",
       "    </tr>\n",
       "  </tbody>\n",
       "</table>\n",
       "<p>22523 rows × 4 columns</p>\n",
       "</div>"
      ],
      "text/plain": [
       "             date codneg  preabe  preult\n",
       "0      2015-06-05  WIZS3   13.60   13.90\n",
       "1      2015-06-08  WIZS3   14.11   13.78\n",
       "2      2015-06-09  WIZS3   13.78   13.65\n",
       "3      2015-06-10  WIZS3   13.70   14.00\n",
       "4      2015-06-11  WIZS3   14.01   14.26\n",
       "...           ...    ...     ...     ...\n",
       "22518  2021-06-09  TFCO4   13.45   13.45\n",
       "22519  2021-06-09  VAMO3   52.41   51.96\n",
       "22520  2021-06-09  VIVA3   31.37   31.66\n",
       "22521  2021-06-09  WEST3    8.83    8.77\n",
       "22522  2021-06-09  WIZS3   13.15   13.04\n",
       "\n",
       "[22523 rows x 4 columns]"
      ]
     },
     "execution_count": 2,
     "metadata": {},
     "output_type": "execute_result"
    }
   ],
   "source": [
    "ipo_df"
   ]
  },
  {
   "cell_type": "code",
   "execution_count": 3,
   "metadata": {},
   "outputs": [
    {
     "data": {
      "text/html": [
       "<div>\n",
       "<style scoped>\n",
       "    .dataframe tbody tr th:only-of-type {\n",
       "        vertical-align: middle;\n",
       "    }\n",
       "\n",
       "    .dataframe tbody tr th {\n",
       "        vertical-align: top;\n",
       "    }\n",
       "\n",
       "    .dataframe thead th {\n",
       "        text-align: right;\n",
       "    }\n",
       "</style>\n",
       "<table border=\"1\" class=\"dataframe\">\n",
       "  <thead>\n",
       "    <tr style=\"text-align: right;\">\n",
       "      <th></th>\n",
       "      <th>Tickers</th>\n",
       "      <th>Preco_fixado</th>\n",
       "      <th>Total_Investidores</th>\n",
       "      <th>Volume</th>\n",
       "      <th>Varejo</th>\n",
       "      <th>Institucional</th>\n",
       "      <th>Estrangeiros</th>\n",
       "      <th>Outros</th>\n",
       "      <th>Min_faixa</th>\n",
       "      <th>Max_faixa</th>\n",
       "    </tr>\n",
       "  </thead>\n",
       "  <tbody>\n",
       "    <tr>\n",
       "      <th>0</th>\n",
       "      <td>WIZS3</td>\n",
       "      <td>12.33</td>\n",
       "      <td>4527</td>\n",
       "      <td>6.028000e+08</td>\n",
       "      <td>0.098221</td>\n",
       "      <td>0.374098</td>\n",
       "      <td>0.521481</td>\n",
       "      <td>0.006200</td>\n",
       "      <td>11.25</td>\n",
       "      <td>11.60</td>\n",
       "    </tr>\n",
       "    <tr>\n",
       "      <th>1</th>\n",
       "      <td>AALR3</td>\n",
       "      <td>20.00</td>\n",
       "      <td>2035</td>\n",
       "      <td>6.741976e+08</td>\n",
       "      <td>0.093510</td>\n",
       "      <td>0.369668</td>\n",
       "      <td>0.530330</td>\n",
       "      <td>0.006491</td>\n",
       "      <td>19.00</td>\n",
       "      <td>22.00</td>\n",
       "    </tr>\n",
       "    <tr>\n",
       "      <th>2</th>\n",
       "      <td>MOVI3</td>\n",
       "      <td>7.50</td>\n",
       "      <td>1373</td>\n",
       "      <td>6.000838e+08</td>\n",
       "      <td>0.093400</td>\n",
       "      <td>0.308660</td>\n",
       "      <td>0.450425</td>\n",
       "      <td>0.147514</td>\n",
       "      <td>7.50</td>\n",
       "      <td>8.90</td>\n",
       "    </tr>\n",
       "    <tr>\n",
       "      <th>3</th>\n",
       "      <td>PARD3</td>\n",
       "      <td>19.00</td>\n",
       "      <td>5042</td>\n",
       "      <td>8.776688e+08</td>\n",
       "      <td>0.100529</td>\n",
       "      <td>0.480254</td>\n",
       "      <td>0.413150</td>\n",
       "      <td>0.006067</td>\n",
       "      <td>18.71</td>\n",
       "      <td>22.71</td>\n",
       "    </tr>\n",
       "    <tr>\n",
       "      <th>4</th>\n",
       "      <td>AZUL4</td>\n",
       "      <td>21.00</td>\n",
       "      <td>1753</td>\n",
       "      <td>2.021037e+09</td>\n",
       "      <td>0.063674</td>\n",
       "      <td>0.076148</td>\n",
       "      <td>0.858268</td>\n",
       "      <td>0.001910</td>\n",
       "      <td>19.00</td>\n",
       "      <td>23.00</td>\n",
       "    </tr>\n",
       "    <tr>\n",
       "      <th>...</th>\n",
       "      <td>...</td>\n",
       "      <td>...</td>\n",
       "      <td>...</td>\n",
       "      <td>...</td>\n",
       "      <td>...</td>\n",
       "      <td>...</td>\n",
       "      <td>...</td>\n",
       "      <td>...</td>\n",
       "      <td>...</td>\n",
       "      <td>...</td>\n",
       "    </tr>\n",
       "    <tr>\n",
       "      <th>64</th>\n",
       "      <td>GGPS3</td>\n",
       "      <td>12.00</td>\n",
       "      <td>0</td>\n",
       "      <td>2.164502e+09</td>\n",
       "      <td>0.000000</td>\n",
       "      <td>0.000000</td>\n",
       "      <td>0.000000</td>\n",
       "      <td>0.000000</td>\n",
       "      <td>13.00</td>\n",
       "      <td>15.50</td>\n",
       "    </tr>\n",
       "    <tr>\n",
       "      <th>65</th>\n",
       "      <td>SOJA3</td>\n",
       "      <td>9.90</td>\n",
       "      <td>0</td>\n",
       "      <td>4.000000e+08</td>\n",
       "      <td>0.000000</td>\n",
       "      <td>0.000000</td>\n",
       "      <td>0.000000</td>\n",
       "      <td>0.000000</td>\n",
       "      <td>9.90</td>\n",
       "      <td>12.60</td>\n",
       "    </tr>\n",
       "    <tr>\n",
       "      <th>66</th>\n",
       "      <td>CXSE3</td>\n",
       "      <td>9.67</td>\n",
       "      <td>0</td>\n",
       "      <td>4.351500e+09</td>\n",
       "      <td>0.000000</td>\n",
       "      <td>0.000000</td>\n",
       "      <td>0.000000</td>\n",
       "      <td>0.000000</td>\n",
       "      <td>9.33</td>\n",
       "      <td>12.67</td>\n",
       "    </tr>\n",
       "    <tr>\n",
       "      <th>67</th>\n",
       "      <td>MODL11</td>\n",
       "      <td>20.01</td>\n",
       "      <td>0</td>\n",
       "      <td>3.064532e+09</td>\n",
       "      <td>0.000000</td>\n",
       "      <td>0.000000</td>\n",
       "      <td>0.000000</td>\n",
       "      <td>0.000000</td>\n",
       "      <td>24.30</td>\n",
       "      <td>32.82</td>\n",
       "    </tr>\n",
       "    <tr>\n",
       "      <th>68</th>\n",
       "      <td>RECV3</td>\n",
       "      <td>14.75</td>\n",
       "      <td>0</td>\n",
       "      <td>0.000000e+00</td>\n",
       "      <td>0.000000</td>\n",
       "      <td>0.000000</td>\n",
       "      <td>0.000000</td>\n",
       "      <td>0.000000</td>\n",
       "      <td>15.50</td>\n",
       "      <td>19.50</td>\n",
       "    </tr>\n",
       "  </tbody>\n",
       "</table>\n",
       "<p>69 rows × 10 columns</p>\n",
       "</div>"
      ],
      "text/plain": [
       "   Tickers  Preco_fixado  Total_Investidores        Volume    Varejo  \\\n",
       "0    WIZS3         12.33                4527  6.028000e+08  0.098221   \n",
       "1    AALR3         20.00                2035  6.741976e+08  0.093510   \n",
       "2    MOVI3          7.50                1373  6.000838e+08  0.093400   \n",
       "3    PARD3         19.00                5042  8.776688e+08  0.100529   \n",
       "4    AZUL4         21.00                1753  2.021037e+09  0.063674   \n",
       "..     ...           ...                 ...           ...       ...   \n",
       "64   GGPS3         12.00                   0  2.164502e+09  0.000000   \n",
       "65   SOJA3          9.90                   0  4.000000e+08  0.000000   \n",
       "66   CXSE3          9.67                   0  4.351500e+09  0.000000   \n",
       "67  MODL11         20.01                   0  3.064532e+09  0.000000   \n",
       "68   RECV3         14.75                   0  0.000000e+00  0.000000   \n",
       "\n",
       "    Institucional  Estrangeiros    Outros  Min_faixa  Max_faixa  \n",
       "0        0.374098      0.521481  0.006200      11.25      11.60  \n",
       "1        0.369668      0.530330  0.006491      19.00      22.00  \n",
       "2        0.308660      0.450425  0.147514       7.50       8.90  \n",
       "3        0.480254      0.413150  0.006067      18.71      22.71  \n",
       "4        0.076148      0.858268  0.001910      19.00      23.00  \n",
       "..            ...           ...       ...        ...        ...  \n",
       "64       0.000000      0.000000  0.000000      13.00      15.50  \n",
       "65       0.000000      0.000000  0.000000       9.90      12.60  \n",
       "66       0.000000      0.000000  0.000000       9.33      12.67  \n",
       "67       0.000000      0.000000  0.000000      24.30      32.82  \n",
       "68       0.000000      0.000000  0.000000      15.50      19.50  \n",
       "\n",
       "[69 rows x 10 columns]"
      ]
     },
     "execution_count": 3,
     "metadata": {},
     "output_type": "execute_result"
    }
   ],
   "source": [
    "ipo_details"
   ]
  },
  {
   "cell_type": "code",
   "execution_count": 10,
   "metadata": {
    "scrolled": false
   },
   "outputs": [],
   "source": [
    "tickers = list(ipo_details.Tickers)\n",
    "preco_fixado = list(ipo_details['Preco_fixado'])\n",
    "dict_tickers = dict(zip(tickers, preco_fixado))"
   ]
  },
  {
   "cell_type": "code",
   "execution_count": 11,
   "metadata": {},
   "outputs": [
    {
     "data": {
      "text/html": [
       "<div>\n",
       "<style scoped>\n",
       "    .dataframe tbody tr th:only-of-type {\n",
       "        vertical-align: middle;\n",
       "    }\n",
       "\n",
       "    .dataframe tbody tr th {\n",
       "        vertical-align: top;\n",
       "    }\n",
       "\n",
       "    .dataframe thead th {\n",
       "        text-align: right;\n",
       "    }\n",
       "</style>\n",
       "<table border=\"1\" class=\"dataframe\">\n",
       "  <thead>\n",
       "    <tr style=\"text-align: right;\">\n",
       "      <th></th>\n",
       "      <th>tickers</th>\n",
       "      <th>date</th>\n",
       "    </tr>\n",
       "  </thead>\n",
       "  <tbody>\n",
       "    <tr>\n",
       "      <th>0</th>\n",
       "      <td>WIZS3</td>\n",
       "      <td>2015-06-05</td>\n",
       "    </tr>\n",
       "    <tr>\n",
       "      <th>1</th>\n",
       "      <td>AALR3</td>\n",
       "      <td>2016-10-28</td>\n",
       "    </tr>\n",
       "    <tr>\n",
       "      <th>2</th>\n",
       "      <td>MOVI3</td>\n",
       "      <td>2017-02-08</td>\n",
       "    </tr>\n",
       "    <tr>\n",
       "      <th>3</th>\n",
       "      <td>PARD3</td>\n",
       "      <td>2017-02-14</td>\n",
       "    </tr>\n",
       "    <tr>\n",
       "      <th>4</th>\n",
       "      <td>AZUL4</td>\n",
       "      <td>2017-04-11</td>\n",
       "    </tr>\n",
       "  </tbody>\n",
       "</table>\n",
       "</div>"
      ],
      "text/plain": [
       "  tickers       date\n",
       "0   WIZS3 2015-06-05\n",
       "1   AALR3 2016-10-28\n",
       "2   MOVI3 2017-02-08\n",
       "3   PARD3 2017-02-14\n",
       "4   AZUL4 2017-04-11"
      ]
     },
     "execution_count": 11,
     "metadata": {},
     "output_type": "execute_result"
    }
   ],
   "source": [
    "date_list = []\n",
    "for ticker in tickers:\n",
    "    df = ipo_df[ipo_df.codneg==ticker]\n",
    "    date_list.append(df[\"date\"].iloc[0])\n",
    "    \n",
    "date_ipo_df = pd.DataFrame(list(zip(tickers, date_list)), columns=[\"tickers\", \"date\"])\n",
    "date_ipo_df[\"date\"] = pd.to_datetime(date_ipo_df[\"date\"], format='%Y-%m-%d')\n",
    "date_ipo_df.head()"
   ]
  },
  {
   "cell_type": "code",
   "execution_count": 12,
   "metadata": {},
   "outputs": [],
   "source": [
    "def rentability(ticker, dias_uteis, dict_ticker=dict_tickers, data=ipo_df):\n",
    "    ticker = ticker.upper()\n",
    "    df = data[data.codneg==ticker]\n",
    "    df = df.reset_index(drop=True)\n",
    "    variation = ((df[\"preult\"].iloc[dias_uteis-1]/dict_ticker[ticker])-1)*100\n",
    "    return variation"
   ]
  },
  {
   "cell_type": "code",
   "execution_count": 32,
   "metadata": {
    "scrolled": true
   },
   "outputs": [],
   "source": [
    "ipos_2015 = date_ipo_df[(date_ipo_df['date'] >= '2015-01-01') & (date_ipo_df['date'] <= '2015-12-31')]\n",
    "ipos_2016 = date_ipo_df[(date_ipo_df['date'] >= '2016-01-01') & (date_ipo_df['date'] <= '2016-12-31')]\n",
    "ipos_2017 = date_ipo_df[(date_ipo_df['date'] >= '2017-01-01') & (date_ipo_df['date'] <= '2017-12-31')]\n",
    "ipos_2018 = date_ipo_df[(date_ipo_df['date'] >= '2018-01-01') & (date_ipo_df['date'] <= '2018-12-31')]\n",
    "ipos_2019 = date_ipo_df[(date_ipo_df['date'] >= '2019-01-01') & (date_ipo_df['date'] <= '2019-12-31')]\n",
    "ipos_2020 = date_ipo_df[(date_ipo_df['date'] >= '2020-01-01') & (date_ipo_df['date'] <= '2020-12-31')]\n",
    "ipos_2021 = date_ipo_df[(date_ipo_df['date'] >= '2021-01-01') & (date_ipo_df['date'] <= '2021-06-09')]"
   ]
  },
  {
   "cell_type": "code",
   "execution_count": 33,
   "metadata": {},
   "outputs": [
    {
     "data": {
      "text/html": [
       "<div>\n",
       "<style scoped>\n",
       "    .dataframe tbody tr th:only-of-type {\n",
       "        vertical-align: middle;\n",
       "    }\n",
       "\n",
       "    .dataframe tbody tr th {\n",
       "        vertical-align: top;\n",
       "    }\n",
       "\n",
       "    .dataframe thead th {\n",
       "        text-align: right;\n",
       "    }\n",
       "</style>\n",
       "<table border=\"1\" class=\"dataframe\">\n",
       "  <thead>\n",
       "    <tr style=\"text-align: right;\">\n",
       "      <th></th>\n",
       "      <th>tickers</th>\n",
       "      <th>date</th>\n",
       "    </tr>\n",
       "  </thead>\n",
       "  <tbody>\n",
       "    <tr>\n",
       "      <th>0</th>\n",
       "      <td>WIZS3</td>\n",
       "      <td>2015-06-05</td>\n",
       "    </tr>\n",
       "    <tr>\n",
       "      <th>1</th>\n",
       "      <td>AALR3</td>\n",
       "      <td>2016-10-28</td>\n",
       "    </tr>\n",
       "    <tr>\n",
       "      <th>2</th>\n",
       "      <td>MOVI3</td>\n",
       "      <td>2017-02-08</td>\n",
       "    </tr>\n",
       "    <tr>\n",
       "      <th>3</th>\n",
       "      <td>PARD3</td>\n",
       "      <td>2017-02-14</td>\n",
       "    </tr>\n",
       "    <tr>\n",
       "      <th>4</th>\n",
       "      <td>AZUL4</td>\n",
       "      <td>2017-04-11</td>\n",
       "    </tr>\n",
       "    <tr>\n",
       "      <th>...</th>\n",
       "      <td>...</td>\n",
       "      <td>...</td>\n",
       "    </tr>\n",
       "    <tr>\n",
       "      <th>64</th>\n",
       "      <td>GGPS3</td>\n",
       "      <td>2021-04-26</td>\n",
       "    </tr>\n",
       "    <tr>\n",
       "      <th>65</th>\n",
       "      <td>SOJA3</td>\n",
       "      <td>2021-04-29</td>\n",
       "    </tr>\n",
       "    <tr>\n",
       "      <th>66</th>\n",
       "      <td>CXSE3</td>\n",
       "      <td>2021-04-29</td>\n",
       "    </tr>\n",
       "    <tr>\n",
       "      <th>67</th>\n",
       "      <td>MODL11</td>\n",
       "      <td>2021-04-30</td>\n",
       "    </tr>\n",
       "    <tr>\n",
       "      <th>68</th>\n",
       "      <td>RECV3</td>\n",
       "      <td>2021-05-05</td>\n",
       "    </tr>\n",
       "  </tbody>\n",
       "</table>\n",
       "<p>69 rows × 2 columns</p>\n",
       "</div>"
      ],
      "text/plain": [
       "   tickers       date\n",
       "0    WIZS3 2015-06-05\n",
       "1    AALR3 2016-10-28\n",
       "2    MOVI3 2017-02-08\n",
       "3    PARD3 2017-02-14\n",
       "4    AZUL4 2017-04-11\n",
       "..     ...        ...\n",
       "64   GGPS3 2021-04-26\n",
       "65   SOJA3 2021-04-29\n",
       "66   CXSE3 2021-04-29\n",
       "67  MODL11 2021-04-30\n",
       "68   RECV3 2021-05-05\n",
       "\n",
       "[69 rows x 2 columns]"
      ]
     },
     "execution_count": 33,
     "metadata": {},
     "output_type": "execute_result"
    }
   ],
   "source": [
    "date_ipo_df"
   ]
  },
  {
   "cell_type": "markdown",
   "metadata": {},
   "source": [
    "## 2015"
   ]
  },
  {
   "cell_type": "code",
   "execution_count": 34,
   "metadata": {
    "scrolled": false
   },
   "outputs": [
    {
     "data": {
      "text/html": [
       "<div>\n",
       "<style scoped>\n",
       "    .dataframe tbody tr th:only-of-type {\n",
       "        vertical-align: middle;\n",
       "    }\n",
       "\n",
       "    .dataframe tbody tr th {\n",
       "        vertical-align: top;\n",
       "    }\n",
       "\n",
       "    .dataframe thead th {\n",
       "        text-align: right;\n",
       "    }\n",
       "</style>\n",
       "<table border=\"1\" class=\"dataframe\">\n",
       "  <thead>\n",
       "    <tr style=\"text-align: right;\">\n",
       "      <th></th>\n",
       "      <th>1D</th>\n",
       "      <th>15D</th>\n",
       "      <th>1M</th>\n",
       "      <th>today</th>\n",
       "      <th>year</th>\n",
       "    </tr>\n",
       "  </thead>\n",
       "  <tbody>\n",
       "    <tr>\n",
       "      <th>count</th>\n",
       "      <td>1.000000</td>\n",
       "      <td>1.000000</td>\n",
       "      <td>1.000000</td>\n",
       "      <td>1.000000</td>\n",
       "      <td>1.0</td>\n",
       "    </tr>\n",
       "    <tr>\n",
       "      <th>mean</th>\n",
       "      <td>12.733171</td>\n",
       "      <td>18.410381</td>\n",
       "      <td>14.111922</td>\n",
       "      <td>5.271695</td>\n",
       "      <td>2015.0</td>\n",
       "    </tr>\n",
       "    <tr>\n",
       "      <th>std</th>\n",
       "      <td>NaN</td>\n",
       "      <td>NaN</td>\n",
       "      <td>NaN</td>\n",
       "      <td>NaN</td>\n",
       "      <td>NaN</td>\n",
       "    </tr>\n",
       "    <tr>\n",
       "      <th>min</th>\n",
       "      <td>12.733171</td>\n",
       "      <td>18.410381</td>\n",
       "      <td>14.111922</td>\n",
       "      <td>5.271695</td>\n",
       "      <td>2015.0</td>\n",
       "    </tr>\n",
       "    <tr>\n",
       "      <th>25%</th>\n",
       "      <td>12.733171</td>\n",
       "      <td>18.410381</td>\n",
       "      <td>14.111922</td>\n",
       "      <td>5.271695</td>\n",
       "      <td>2015.0</td>\n",
       "    </tr>\n",
       "    <tr>\n",
       "      <th>50%</th>\n",
       "      <td>12.733171</td>\n",
       "      <td>18.410381</td>\n",
       "      <td>14.111922</td>\n",
       "      <td>5.271695</td>\n",
       "      <td>2015.0</td>\n",
       "    </tr>\n",
       "    <tr>\n",
       "      <th>75%</th>\n",
       "      <td>12.733171</td>\n",
       "      <td>18.410381</td>\n",
       "      <td>14.111922</td>\n",
       "      <td>5.271695</td>\n",
       "      <td>2015.0</td>\n",
       "    </tr>\n",
       "    <tr>\n",
       "      <th>max</th>\n",
       "      <td>12.733171</td>\n",
       "      <td>18.410381</td>\n",
       "      <td>14.111922</td>\n",
       "      <td>5.271695</td>\n",
       "      <td>2015.0</td>\n",
       "    </tr>\n",
       "  </tbody>\n",
       "</table>\n",
       "</div>"
      ],
      "text/plain": [
       "              1D        15D         1M     today    year\n",
       "count   1.000000   1.000000   1.000000  1.000000     1.0\n",
       "mean   12.733171  18.410381  14.111922  5.271695  2015.0\n",
       "std          NaN        NaN        NaN       NaN     NaN\n",
       "min    12.733171  18.410381  14.111922  5.271695  2015.0\n",
       "25%    12.733171  18.410381  14.111922  5.271695  2015.0\n",
       "50%    12.733171  18.410381  14.111922  5.271695  2015.0\n",
       "75%    12.733171  18.410381  14.111922  5.271695  2015.0\n",
       "max    12.733171  18.410381  14.111922  5.271695  2015.0"
      ]
     },
     "execution_count": 34,
     "metadata": {},
     "output_type": "execute_result"
    }
   ],
   "source": [
    "rent_df_15 = pd.DataFrame(columns=[\"1D\", \"15D\", \"1M\", \"today\"])\n",
    "time = [1, 10, 20, -1]\n",
    "tickers_15 = ipos_2015[\"tickers\"]\n",
    "for t in tickers_15:\n",
    "    rent_df_15.loc[t] = [rentability(t, c) for c in time]\n",
    "rent_df_15['year'] = 2015\n",
    "rent_df_15.describe()"
   ]
  },
  {
   "cell_type": "code",
   "execution_count": 35,
   "metadata": {},
   "outputs": [
    {
     "data": {
      "text/plain": [
       "<AxesSubplot:>"
      ]
     },
     "execution_count": 35,
     "metadata": {},
     "output_type": "execute_result"
    },
    {
     "data": {
      "image/png": "[encoded data removed]",
      "text/plain": [
       "<Figure size 432x288 with 1 Axes>"
      ]
     },
     "metadata": {
      "needs_background": "light"
     },
     "output_type": "display_data"
    }
   ],
   "source": [
    "rent_df_15.boxplot(column=['1D', '15D', '1M', 'today'])"
   ]
  },
  {
   "cell_type": "markdown",
   "metadata": {},
   "source": [
    "## 2016"
   ]
  },
  {
   "cell_type": "code",
   "execution_count": 36,
   "metadata": {
    "scrolled": true
   },
   "outputs": [
    {
     "data": {
      "text/html": [
       "<div>\n",
       "<style scoped>\n",
       "    .dataframe tbody tr th:only-of-type {\n",
       "        vertical-align: middle;\n",
       "    }\n",
       "\n",
       "    .dataframe tbody tr th {\n",
       "        vertical-align: top;\n",
       "    }\n",
       "\n",
       "    .dataframe thead th {\n",
       "        text-align: right;\n",
       "    }\n",
       "</style>\n",
       "<table border=\"1\" class=\"dataframe\">\n",
       "  <thead>\n",
       "    <tr style=\"text-align: right;\">\n",
       "      <th></th>\n",
       "      <th>1D</th>\n",
       "      <th>15D</th>\n",
       "      <th>1M</th>\n",
       "      <th>today</th>\n",
       "      <th>year</th>\n",
       "    </tr>\n",
       "  </thead>\n",
       "  <tbody>\n",
       "    <tr>\n",
       "      <th>count</th>\n",
       "      <td>1.0</td>\n",
       "      <td>1.00</td>\n",
       "      <td>1.0</td>\n",
       "      <td>1.0</td>\n",
       "      <td>1.0</td>\n",
       "    </tr>\n",
       "    <tr>\n",
       "      <th>mean</th>\n",
       "      <td>-4.0</td>\n",
       "      <td>-23.75</td>\n",
       "      <td>-20.0</td>\n",
       "      <td>-43.1</td>\n",
       "      <td>2016.0</td>\n",
       "    </tr>\n",
       "    <tr>\n",
       "      <th>std</th>\n",
       "      <td>NaN</td>\n",
       "      <td>NaN</td>\n",
       "      <td>NaN</td>\n",
       "      <td>NaN</td>\n",
       "      <td>NaN</td>\n",
       "    </tr>\n",
       "    <tr>\n",
       "      <th>min</th>\n",
       "      <td>-4.0</td>\n",
       "      <td>-23.75</td>\n",
       "      <td>-20.0</td>\n",
       "      <td>-43.1</td>\n",
       "      <td>2016.0</td>\n",
       "    </tr>\n",
       "    <tr>\n",
       "      <th>25%</th>\n",
       "      <td>-4.0</td>\n",
       "      <td>-23.75</td>\n",
       "      <td>-20.0</td>\n",
       "      <td>-43.1</td>\n",
       "      <td>2016.0</td>\n",
       "    </tr>\n",
       "    <tr>\n",
       "      <th>50%</th>\n",
       "      <td>-4.0</td>\n",
       "      <td>-23.75</td>\n",
       "      <td>-20.0</td>\n",
       "      <td>-43.1</td>\n",
       "      <td>2016.0</td>\n",
       "    </tr>\n",
       "    <tr>\n",
       "      <th>75%</th>\n",
       "      <td>-4.0</td>\n",
       "      <td>-23.75</td>\n",
       "      <td>-20.0</td>\n",
       "      <td>-43.1</td>\n",
       "      <td>2016.0</td>\n",
       "    </tr>\n",
       "    <tr>\n",
       "      <th>max</th>\n",
       "      <td>-4.0</td>\n",
       "      <td>-23.75</td>\n",
       "      <td>-20.0</td>\n",
       "      <td>-43.1</td>\n",
       "      <td>2016.0</td>\n",
       "    </tr>\n",
       "  </tbody>\n",
       "</table>\n",
       "</div>"
      ],
      "text/plain": [
       "        1D    15D    1M  today    year\n",
       "count  1.0   1.00   1.0    1.0     1.0\n",
       "mean  -4.0 -23.75 -20.0  -43.1  2016.0\n",
       "std    NaN    NaN   NaN    NaN     NaN\n",
       "min   -4.0 -23.75 -20.0  -43.1  2016.0\n",
       "25%   -4.0 -23.75 -20.0  -43.1  2016.0\n",
       "50%   -4.0 -23.75 -20.0  -43.1  2016.0\n",
       "75%   -4.0 -23.75 -20.0  -43.1  2016.0\n",
       "max   -4.0 -23.75 -20.0  -43.1  2016.0"
      ]
     },
     "execution_count": 36,
     "metadata": {},
     "output_type": "execute_result"
    }
   ],
   "source": [
    "rent_df_16 = pd.DataFrame(columns=[\"1D\", \"15D\", \"1M\",])\n",
    "time = [1, 10, 20, -1]\n",
    "tickers_16 = ipos_2016[\"tickers\"]\n",
    "for t in tickers_16:\n",
    "    rent_df_16.loc[t] = [rentability(t, c) for c in time]\n",
    "rent_df_16['year'] = 2016\n",
    "rent_df_16.describe()"
   ]
  },
  {
   "cell_type": "code",
   "execution_count": 37,
   "metadata": {},
   "outputs": [
    {
     "data": {
      "text/plain": [
       "<AxesSubplot:>"
      ]
     },
     "execution_count": 37,
     "metadata": {},
     "output_type": "execute_result"
    },
    {
     "data": {
      "image/png": "[encoded data removed]",
      "text/plain": [
       "<Figure size 432x288 with 1 Axes>"
      ]
     },
     "metadata": {
      "needs_background": "light"
     },
     "output_type": "display_data"
    }
   ],
   "source": [
    "rent_df_16.boxplot(column=['1D', '15D', '1M', 'today'])"
   ]
  },
  {
   "cell_type": "markdown",
   "metadata": {},
   "source": [
    "## 2017"
   ]
  },
  {
   "cell_type": "code",
   "execution_count": 38,
   "metadata": {
    "scrolled": true
   },
   "outputs": [
    {
     "data": {
      "text/html": [
       "<div>\n",
       "<style scoped>\n",
       "    .dataframe tbody tr th:only-of-type {\n",
       "        vertical-align: middle;\n",
       "    }\n",
       "\n",
       "    .dataframe tbody tr th {\n",
       "        vertical-align: top;\n",
       "    }\n",
       "\n",
       "    .dataframe thead th {\n",
       "        text-align: right;\n",
       "    }\n",
       "</style>\n",
       "<table border=\"1\" class=\"dataframe\">\n",
       "  <thead>\n",
       "    <tr style=\"text-align: right;\">\n",
       "      <th></th>\n",
       "      <th>1D</th>\n",
       "      <th>15D</th>\n",
       "      <th>1M</th>\n",
       "      <th>today</th>\n",
       "      <th>year</th>\n",
       "    </tr>\n",
       "  </thead>\n",
       "  <tbody>\n",
       "    <tr>\n",
       "      <th>count</th>\n",
       "      <td>9.000000</td>\n",
       "      <td>9.000000</td>\n",
       "      <td>9.000000</td>\n",
       "      <td>9.000000</td>\n",
       "      <td>9.0</td>\n",
       "    </tr>\n",
       "    <tr>\n",
       "      <th>mean</th>\n",
       "      <td>3.354082</td>\n",
       "      <td>4.711792</td>\n",
       "      <td>6.391514</td>\n",
       "      <td>54.912199</td>\n",
       "      <td>2017.0</td>\n",
       "    </tr>\n",
       "    <tr>\n",
       "      <th>std</th>\n",
       "      <td>4.595710</td>\n",
       "      <td>6.849881</td>\n",
       "      <td>8.824979</td>\n",
       "      <td>84.264692</td>\n",
       "      <td>0.0</td>\n",
       "    </tr>\n",
       "    <tr>\n",
       "      <th>min</th>\n",
       "      <td>-2.666667</td>\n",
       "      <td>-5.000000</td>\n",
       "      <td>-5.555556</td>\n",
       "      <td>-77.643172</td>\n",
       "      <td>2017.0</td>\n",
       "    </tr>\n",
       "    <tr>\n",
       "      <th>25%</th>\n",
       "      <td>-0.666667</td>\n",
       "      <td>-0.555556</td>\n",
       "      <td>0.533333</td>\n",
       "      <td>10.111111</td>\n",
       "      <td>2017.0</td>\n",
       "    </tr>\n",
       "    <tr>\n",
       "      <th>50%</th>\n",
       "      <td>5.769231</td>\n",
       "      <td>4.258443</td>\n",
       "      <td>5.315789</td>\n",
       "      <td>52.266667</td>\n",
       "      <td>2017.0</td>\n",
       "    </tr>\n",
       "    <tr>\n",
       "      <th>75%</th>\n",
       "      <td>6.666667</td>\n",
       "      <td>8.910256</td>\n",
       "      <td>11.538462</td>\n",
       "      <td>131.190476</td>\n",
       "      <td>2017.0</td>\n",
       "    </tr>\n",
       "    <tr>\n",
       "      <th>max</th>\n",
       "      <td>8.947368</td>\n",
       "      <td>14.866667</td>\n",
       "      <td>20.238095</td>\n",
       "      <td>156.800000</td>\n",
       "      <td>2017.0</td>\n",
       "    </tr>\n",
       "  </tbody>\n",
       "</table>\n",
       "</div>"
      ],
      "text/plain": [
       "             1D        15D         1M       today    year\n",
       "count  9.000000   9.000000   9.000000    9.000000     9.0\n",
       "mean   3.354082   4.711792   6.391514   54.912199  2017.0\n",
       "std    4.595710   6.849881   8.824979   84.264692     0.0\n",
       "min   -2.666667  -5.000000  -5.555556  -77.643172  2017.0\n",
       "25%   -0.666667  -0.555556   0.533333   10.111111  2017.0\n",
       "50%    5.769231   4.258443   5.315789   52.266667  2017.0\n",
       "75%    6.666667   8.910256  11.538462  131.190476  2017.0\n",
       "max    8.947368  14.866667  20.238095  156.800000  2017.0"
      ]
     },
     "execution_count": 38,
     "metadata": {},
     "output_type": "execute_result"
    }
   ],
   "source": [
    "rent_df_17 = pd.DataFrame(columns=[\"1D\", \"15D\", \"1M\", \"today\"])\n",
    "time = [1, 10, 20, -1]\n",
    "tickers_17 = ipos_2017[\"tickers\"]\n",
    "for t in tickers_17:\n",
    "    rent_df_17.loc[t] = [rentability(t, c) for c in time]\n",
    "rent_df_17['year'] = 2017\n",
    "rent_df_17.describe()"
   ]
  },
  {
   "cell_type": "code",
   "execution_count": 39,
   "metadata": {},
   "outputs": [
    {
     "data": {
      "text/plain": [
       "<AxesSubplot:>"
      ]
     },
     "execution_count": 39,
     "metadata": {},
     "output_type": "execute_result"
    },
    {
     "data": {
      "image/png": "[encoded data removed]",
      "text/plain": [
       "<Figure size 432x288 with 1 Axes>"
      ]
     },
     "metadata": {
      "needs_background": "light"
     },
     "output_type": "display_data"
    }
   ],
   "source": [
    "rent_df_17.boxplot(column=['1D', '15D', '1M', 'today'])"
   ]
  },
  {
   "cell_type": "markdown",
   "metadata": {},
   "source": [
    "## 2018"
   ]
  },
  {
   "cell_type": "code",
   "execution_count": 40,
   "metadata": {
    "scrolled": true
   },
   "outputs": [
    {
     "data": {
      "text/html": [
       "<div>\n",
       "<style scoped>\n",
       "    .dataframe tbody tr th:only-of-type {\n",
       "        vertical-align: middle;\n",
       "    }\n",
       "\n",
       "    .dataframe tbody tr th {\n",
       "        vertical-align: top;\n",
       "    }\n",
       "\n",
       "    .dataframe thead th {\n",
       "        text-align: right;\n",
       "    }\n",
       "</style>\n",
       "<table border=\"1\" class=\"dataframe\">\n",
       "  <thead>\n",
       "    <tr style=\"text-align: right;\">\n",
       "      <th></th>\n",
       "      <th>1D</th>\n",
       "      <th>15D</th>\n",
       "      <th>1M</th>\n",
       "      <th>today</th>\n",
       "      <th>year</th>\n",
       "    </tr>\n",
       "  </thead>\n",
       "  <tbody>\n",
       "    <tr>\n",
       "      <th>count</th>\n",
       "      <td>3.000000</td>\n",
       "      <td>3.000000</td>\n",
       "      <td>3.000000</td>\n",
       "      <td>3.000000</td>\n",
       "      <td>3.0</td>\n",
       "    </tr>\n",
       "    <tr>\n",
       "      <th>mean</th>\n",
       "      <td>14.984230</td>\n",
       "      <td>12.557339</td>\n",
       "      <td>15.639884</td>\n",
       "      <td>135.068732</td>\n",
       "      <td>2018.0</td>\n",
       "    </tr>\n",
       "    <tr>\n",
       "      <th>std</th>\n",
       "      <td>13.444859</td>\n",
       "      <td>12.147631</td>\n",
       "      <td>30.967431</td>\n",
       "      <td>251.508510</td>\n",
       "      <td>0.0</td>\n",
       "    </tr>\n",
       "    <tr>\n",
       "      <th>min</th>\n",
       "      <td>-0.540541</td>\n",
       "      <td>-0.432432</td>\n",
       "      <td>-19.459459</td>\n",
       "      <td>-32.765957</td>\n",
       "      <td>2018.0</td>\n",
       "    </tr>\n",
       "    <tr>\n",
       "      <th>25%</th>\n",
       "      <td>11.093366</td>\n",
       "      <td>7.017826</td>\n",
       "      <td>3.906634</td>\n",
       "      <td>-9.518114</td>\n",
       "      <td>2018.0</td>\n",
       "    </tr>\n",
       "    <tr>\n",
       "      <th>50%</th>\n",
       "      <td>22.727273</td>\n",
       "      <td>14.468085</td>\n",
       "      <td>27.272727</td>\n",
       "      <td>13.729730</td>\n",
       "      <td>2018.0</td>\n",
       "    </tr>\n",
       "    <tr>\n",
       "      <th>75%</th>\n",
       "      <td>22.746615</td>\n",
       "      <td>19.052224</td>\n",
       "      <td>33.189555</td>\n",
       "      <td>218.986077</td>\n",
       "      <td>2018.0</td>\n",
       "    </tr>\n",
       "    <tr>\n",
       "      <th>max</th>\n",
       "      <td>22.765957</td>\n",
       "      <td>23.636364</td>\n",
       "      <td>39.106383</td>\n",
       "      <td>424.242424</td>\n",
       "      <td>2018.0</td>\n",
       "    </tr>\n",
       "  </tbody>\n",
       "</table>\n",
       "</div>"
      ],
      "text/plain": [
       "              1D        15D         1M       today    year\n",
       "count   3.000000   3.000000   3.000000    3.000000     3.0\n",
       "mean   14.984230  12.557339  15.639884  135.068732  2018.0\n",
       "std    13.444859  12.147631  30.967431  251.508510     0.0\n",
       "min    -0.540541  -0.432432 -19.459459  -32.765957  2018.0\n",
       "25%    11.093366   7.017826   3.906634   -9.518114  2018.0\n",
       "50%    22.727273  14.468085  27.272727   13.729730  2018.0\n",
       "75%    22.746615  19.052224  33.189555  218.986077  2018.0\n",
       "max    22.765957  23.636364  39.106383  424.242424  2018.0"
      ]
     },
     "execution_count": 40,
     "metadata": {},
     "output_type": "execute_result"
    }
   ],
   "source": [
    "rent_df_18 = pd.DataFrame(columns=[\"1D\", \"15D\", \"1M\", \"today\"])\n",
    "time = [1, 10, 20, -1]\n",
    "tickers_18 = ipos_2018[\"tickers\"]\n",
    "for t in tickers_18:\n",
    "    rent_df_18.loc[t] = [rentability(t, c) for c in time]\n",
    "rent_df_18['year'] = 2018\n",
    "rent_df_18.describe()"
   ]
  },
  {
   "cell_type": "code",
   "execution_count": 41,
   "metadata": {},
   "outputs": [
    {
     "data": {
      "text/plain": [
       "<AxesSubplot:>"
      ]
     },
     "execution_count": 41,
     "metadata": {},
     "output_type": "execute_result"
    },
    {
     "data": {
      "image/png": "[encoded data removed]",
      "text/plain": [
       "<Figure size 432x288 with 1 Axes>"
      ]
     },
     "metadata": {
      "needs_background": "light"
     },
     "output_type": "display_data"
    }
   ],
   "source": [
    "rent_df_18.boxplot(column=['1D', '15D', '1M', 'today'])"
   ]
  },
  {
   "cell_type": "markdown",
   "metadata": {},
   "source": [
    "## 2019"
   ]
  },
  {
   "cell_type": "code",
   "execution_count": 42,
   "metadata": {},
   "outputs": [
    {
     "data": {
      "text/html": [
       "<div>\n",
       "<style scoped>\n",
       "    .dataframe tbody tr th:only-of-type {\n",
       "        vertical-align: middle;\n",
       "    }\n",
       "\n",
       "    .dataframe tbody tr th {\n",
       "        vertical-align: top;\n",
       "    }\n",
       "\n",
       "    .dataframe thead th {\n",
       "        text-align: right;\n",
       "    }\n",
       "</style>\n",
       "<table border=\"1\" class=\"dataframe\">\n",
       "  <thead>\n",
       "    <tr style=\"text-align: right;\">\n",
       "      <th></th>\n",
       "      <th>1D</th>\n",
       "      <th>15D</th>\n",
       "      <th>1M</th>\n",
       "      <th>today</th>\n",
       "      <th>year</th>\n",
       "    </tr>\n",
       "  </thead>\n",
       "  <tbody>\n",
       "    <tr>\n",
       "      <th>count</th>\n",
       "      <td>5.000000</td>\n",
       "      <td>5.000000</td>\n",
       "      <td>5.000000</td>\n",
       "      <td>5.000000</td>\n",
       "      <td>5.0</td>\n",
       "    </tr>\n",
       "    <tr>\n",
       "      <th>mean</th>\n",
       "      <td>-3.453271</td>\n",
       "      <td>-1.695585</td>\n",
       "      <td>-2.110681</td>\n",
       "      <td>34.423225</td>\n",
       "      <td>2019.0</td>\n",
       "    </tr>\n",
       "    <tr>\n",
       "      <th>std</th>\n",
       "      <td>13.997895</td>\n",
       "      <td>12.635760</td>\n",
       "      <td>10.706540</td>\n",
       "      <td>91.947323</td>\n",
       "      <td>0.0</td>\n",
       "    </tr>\n",
       "    <tr>\n",
       "      <th>min</th>\n",
       "      <td>-27.586207</td>\n",
       "      <td>-19.396552</td>\n",
       "      <td>-15.603448</td>\n",
       "      <td>-56.465517</td>\n",
       "      <td>2019.0</td>\n",
       "    </tr>\n",
       "    <tr>\n",
       "      <th>25%</th>\n",
       "      <td>-1.600000</td>\n",
       "      <td>-6.880000</td>\n",
       "      <td>-7.520000</td>\n",
       "      <td>-9.333333</td>\n",
       "      <td>2019.0</td>\n",
       "    </tr>\n",
       "    <tr>\n",
       "      <th>50%</th>\n",
       "      <td>0.458333</td>\n",
       "      <td>-2.000000</td>\n",
       "      <td>-0.848485</td>\n",
       "      <td>19.808307</td>\n",
       "      <td>2019.0</td>\n",
       "    </tr>\n",
       "    <tr>\n",
       "      <th>75%</th>\n",
       "      <td>3.090909</td>\n",
       "      <td>6.060606</td>\n",
       "      <td>0.000000</td>\n",
       "      <td>30.666667</td>\n",
       "      <td>2019.0</td>\n",
       "    </tr>\n",
       "    <tr>\n",
       "      <th>max</th>\n",
       "      <td>8.370607</td>\n",
       "      <td>13.738019</td>\n",
       "      <td>13.418530</td>\n",
       "      <td>187.440000</td>\n",
       "      <td>2019.0</td>\n",
       "    </tr>\n",
       "  </tbody>\n",
       "</table>\n",
       "</div>"
      ],
      "text/plain": [
       "              1D        15D         1M       today    year\n",
       "count   5.000000   5.000000   5.000000    5.000000     5.0\n",
       "mean   -3.453271  -1.695585  -2.110681   34.423225  2019.0\n",
       "std    13.997895  12.635760  10.706540   91.947323     0.0\n",
       "min   -27.586207 -19.396552 -15.603448  -56.465517  2019.0\n",
       "25%    -1.600000  -6.880000  -7.520000   -9.333333  2019.0\n",
       "50%     0.458333  -2.000000  -0.848485   19.808307  2019.0\n",
       "75%     3.090909   6.060606   0.000000   30.666667  2019.0\n",
       "max     8.370607  13.738019  13.418530  187.440000  2019.0"
      ]
     },
     "execution_count": 42,
     "metadata": {},
     "output_type": "execute_result"
    }
   ],
   "source": [
    "rent_df_19 = pd.DataFrame(columns=[\"1D\", \"15D\", \"1M\", \"today\"])\n",
    "time = [1, 10, 20, -1]\n",
    "tickers_19 = ipos_2019[\"tickers\"]\n",
    "for t in tickers_19:\n",
    "    rent_df_19.loc[t] = [rentability(t, c) for c in time]\n",
    "rent_df_19['year'] = 2019\n",
    "rent_df_19.describe()"
   ]
  },
  {
   "cell_type": "code",
   "execution_count": 43,
   "metadata": {
    "scrolled": true
   },
   "outputs": [
    {
     "data": {
      "text/plain": [
       "<AxesSubplot:>"
      ]
     },
     "execution_count": 43,
     "metadata": {},
     "output_type": "execute_result"
    },
    {
     "data": {
      "image/png": "[encoded data removed]",
      "text/plain": [
       "<Figure size 432x288 with 1 Axes>"
      ]
     },
     "metadata": {
      "needs_background": "light"
     },
     "output_type": "display_data"
    }
   ],
   "source": [
    "rent_df_19.boxplot(column=['1D', '15D', '1M', 'today'])"
   ]
  },
  {
   "cell_type": "markdown",
   "metadata": {},
   "source": [
    "## 2020"
   ]
  },
  {
   "cell_type": "code",
   "execution_count": 44,
   "metadata": {},
   "outputs": [
    {
     "data": {
      "text/html": [
       "<div>\n",
       "<style scoped>\n",
       "    .dataframe tbody tr th:only-of-type {\n",
       "        vertical-align: middle;\n",
       "    }\n",
       "\n",
       "    .dataframe tbody tr th {\n",
       "        vertical-align: top;\n",
       "    }\n",
       "\n",
       "    .dataframe thead th {\n",
       "        text-align: right;\n",
       "    }\n",
       "</style>\n",
       "<table border=\"1\" class=\"dataframe\">\n",
       "  <thead>\n",
       "    <tr style=\"text-align: right;\">\n",
       "      <th></th>\n",
       "      <th>1D</th>\n",
       "      <th>15D</th>\n",
       "      <th>1M</th>\n",
       "      <th>today</th>\n",
       "      <th>year</th>\n",
       "    </tr>\n",
       "  </thead>\n",
       "  <tbody>\n",
       "    <tr>\n",
       "      <th>count</th>\n",
       "      <td>27.000000</td>\n",
       "      <td>27.000000</td>\n",
       "      <td>27.000000</td>\n",
       "      <td>27.000000</td>\n",
       "      <td>27.0</td>\n",
       "    </tr>\n",
       "    <tr>\n",
       "      <th>mean</th>\n",
       "      <td>4.899335</td>\n",
       "      <td>6.625880</td>\n",
       "      <td>6.053839</td>\n",
       "      <td>25.887281</td>\n",
       "      <td>2020.0</td>\n",
       "    </tr>\n",
       "    <tr>\n",
       "      <th>std</th>\n",
       "      <td>11.071188</td>\n",
       "      <td>20.330873</td>\n",
       "      <td>34.456192</td>\n",
       "      <td>65.297738</td>\n",
       "      <td>0.0</td>\n",
       "    </tr>\n",
       "    <tr>\n",
       "      <th>min</th>\n",
       "      <td>-9.047619</td>\n",
       "      <td>-27.764706</td>\n",
       "      <td>-42.736842</td>\n",
       "      <td>-53.684211</td>\n",
       "      <td>2020.0</td>\n",
       "    </tr>\n",
       "    <tr>\n",
       "      <th>25%</th>\n",
       "      <td>-1.808279</td>\n",
       "      <td>-9.566014</td>\n",
       "      <td>-10.695767</td>\n",
       "      <td>-14.840149</td>\n",
       "      <td>2020.0</td>\n",
       "    </tr>\n",
       "    <tr>\n",
       "      <th>50%</th>\n",
       "      <td>0.000000</td>\n",
       "      <td>6.719368</td>\n",
       "      <td>3.490909</td>\n",
       "      <td>4.585366</td>\n",
       "      <td>2020.0</td>\n",
       "    </tr>\n",
       "    <tr>\n",
       "      <th>75%</th>\n",
       "      <td>13.289038</td>\n",
       "      <td>16.782580</td>\n",
       "      <td>12.768865</td>\n",
       "      <td>53.510992</td>\n",
       "      <td>2020.0</td>\n",
       "    </tr>\n",
       "    <tr>\n",
       "      <th>max</th>\n",
       "      <td>34.000000</td>\n",
       "      <td>57.777778</td>\n",
       "      <td>153.555556</td>\n",
       "      <td>270.000000</td>\n",
       "      <td>2020.0</td>\n",
       "    </tr>\n",
       "  </tbody>\n",
       "</table>\n",
       "</div>"
      ],
      "text/plain": [
       "              1D        15D          1M       today    year\n",
       "count  27.000000  27.000000   27.000000   27.000000    27.0\n",
       "mean    4.899335   6.625880    6.053839   25.887281  2020.0\n",
       "std    11.071188  20.330873   34.456192   65.297738     0.0\n",
       "min    -9.047619 -27.764706  -42.736842  -53.684211  2020.0\n",
       "25%    -1.808279  -9.566014  -10.695767  -14.840149  2020.0\n",
       "50%     0.000000   6.719368    3.490909    4.585366  2020.0\n",
       "75%    13.289038  16.782580   12.768865   53.510992  2020.0\n",
       "max    34.000000  57.777778  153.555556  270.000000  2020.0"
      ]
     },
     "execution_count": 44,
     "metadata": {},
     "output_type": "execute_result"
    }
   ],
   "source": [
    "rent_df_20 = pd.DataFrame(columns=[\"1D\", \"15D\", \"1M\", \"today\"])\n",
    "time = [1, 10, 20, -1]\n",
    "tickers_20 = ipos_2020[\"tickers\"]\n",
    "for t in tickers_20:\n",
    "    rent_df_20.loc[t] = [rentability(t, c) for c in time]\n",
    "rent_df_20['year'] = 2020\n",
    "rent_df_20.describe()"
   ]
  },
  {
   "cell_type": "code",
   "execution_count": 45,
   "metadata": {},
   "outputs": [
    {
     "data": {
      "text/plain": [
       "<AxesSubplot:>"
      ]
     },
     "execution_count": 45,
     "metadata": {},
     "output_type": "execute_result"
    },
    {
     "data": {
      "image/png": "[encoded data removed]",
      "text/plain": [
       "<Figure size 432x288 with 1 Axes>"
      ]
     },
     "metadata": {
      "needs_background": "light"
     },
     "output_type": "display_data"
    }
   ],
   "source": [
    "rent_df_20.boxplot(column=['1D', '15D', '1M', 'today'])"
   ]
  },
  {
   "cell_type": "markdown",
   "metadata": {},
   "source": [
    "## 2021"
   ]
  },
  {
   "cell_type": "code",
   "execution_count": 46,
   "metadata": {},
   "outputs": [
    {
     "data": {
      "text/html": [
       "<div>\n",
       "<style scoped>\n",
       "    .dataframe tbody tr th:only-of-type {\n",
       "        vertical-align: middle;\n",
       "    }\n",
       "\n",
       "    .dataframe tbody tr th {\n",
       "        vertical-align: top;\n",
       "    }\n",
       "\n",
       "    .dataframe thead th {\n",
       "        text-align: right;\n",
       "    }\n",
       "</style>\n",
       "<table border=\"1\" class=\"dataframe\">\n",
       "  <thead>\n",
       "    <tr style=\"text-align: right;\">\n",
       "      <th></th>\n",
       "      <th>1D</th>\n",
       "      <th>15D</th>\n",
       "      <th>today</th>\n",
       "      <th>year</th>\n",
       "    </tr>\n",
       "  </thead>\n",
       "  <tbody>\n",
       "    <tr>\n",
       "      <th>count</th>\n",
       "      <td>23.000000</td>\n",
       "      <td>23.000000</td>\n",
       "      <td>23.000000</td>\n",
       "      <td>23.0</td>\n",
       "    </tr>\n",
       "    <tr>\n",
       "      <th>mean</th>\n",
       "      <td>9.338796</td>\n",
       "      <td>6.204570</td>\n",
       "      <td>13.003686</td>\n",
       "      <td>2021.0</td>\n",
       "    </tr>\n",
       "    <tr>\n",
       "      <th>std</th>\n",
       "      <td>23.493599</td>\n",
       "      <td>17.800533</td>\n",
       "      <td>33.797745</td>\n",
       "      <td>0.0</td>\n",
       "    </tr>\n",
       "    <tr>\n",
       "      <th>min</th>\n",
       "      <td>-13.152053</td>\n",
       "      <td>-20.643729</td>\n",
       "      <td>-32.538462</td>\n",
       "      <td>2021.0</td>\n",
       "    </tr>\n",
       "    <tr>\n",
       "      <th>25%</th>\n",
       "      <td>-3.198499</td>\n",
       "      <td>-5.916157</td>\n",
       "      <td>-11.635209</td>\n",
       "      <td>2021.0</td>\n",
       "    </tr>\n",
       "    <tr>\n",
       "      <th>50%</th>\n",
       "      <td>2.391629</td>\n",
       "      <td>1.666667</td>\n",
       "      <td>9.529412</td>\n",
       "      <td>2021.0</td>\n",
       "    </tr>\n",
       "    <tr>\n",
       "      <th>75%</th>\n",
       "      <td>13.061183</td>\n",
       "      <td>12.416667</td>\n",
       "      <td>20.076131</td>\n",
       "      <td>2021.0</td>\n",
       "    </tr>\n",
       "    <tr>\n",
       "      <th>max</th>\n",
       "      <td>96.969697</td>\n",
       "      <td>52.020202</td>\n",
       "      <td>101.884615</td>\n",
       "      <td>2021.0</td>\n",
       "    </tr>\n",
       "  </tbody>\n",
       "</table>\n",
       "</div>"
      ],
      "text/plain": [
       "              1D        15D       today    year\n",
       "count  23.000000  23.000000   23.000000    23.0\n",
       "mean    9.338796   6.204570   13.003686  2021.0\n",
       "std    23.493599  17.800533   33.797745     0.0\n",
       "min   -13.152053 -20.643729  -32.538462  2021.0\n",
       "25%    -3.198499  -5.916157  -11.635209  2021.0\n",
       "50%     2.391629   1.666667    9.529412  2021.0\n",
       "75%    13.061183  12.416667   20.076131  2021.0\n",
       "max    96.969697  52.020202  101.884615  2021.0"
      ]
     },
     "execution_count": 46,
     "metadata": {},
     "output_type": "execute_result"
    }
   ],
   "source": [
    "rent_df_21 = pd.DataFrame(columns=[\"1D\", \"15D\",\"today\"])\n",
    "time = [1, 10,-1]\n",
    "tickers_21 = ipos_2021[\"tickers\"]\n",
    "for t in tickers_21:\n",
    "    rent_df_21.loc[t] = [rentability(t, c) for c in time]\n",
    "rent_df_21['year'] = 2021\n",
    "rent_df_21.describe()"
   ]
  },
  {
   "cell_type": "code",
   "execution_count": 47,
   "metadata": {},
   "outputs": [
    {
     "data": {
      "text/plain": [
       "<AxesSubplot:>"
      ]
     },
     "execution_count": 47,
     "metadata": {},
     "output_type": "execute_result"
    },
    {
     "data": {
      "image/png": "[encoded data removed]",
      "text/plain": [
       "<Figure size 432x288 with 1 Axes>"
      ]
     },
     "metadata": {
      "needs_background": "light"
     },
     "output_type": "display_data"
    }
   ],
   "source": [
    "rent_df_21.boxplot(column=['1D', '15D', 'today'])"
   ]
  },
  {
   "cell_type": "markdown",
   "metadata": {},
   "source": [
    "## 2015 to 2021"
   ]
  },
  {
   "cell_type": "code",
   "execution_count": 48,
   "metadata": {},
   "outputs": [
    {
     "data": {
      "text/html": [
       "<div>\n",
       "<style scoped>\n",
       "    .dataframe tbody tr th:only-of-type {\n",
       "        vertical-align: middle;\n",
       "    }\n",
       "\n",
       "    .dataframe tbody tr th {\n",
       "        vertical-align: top;\n",
       "    }\n",
       "\n",
       "    .dataframe thead th {\n",
       "        text-align: right;\n",
       "    }\n",
       "</style>\n",
       "<table border=\"1\" class=\"dataframe\">\n",
       "  <thead>\n",
       "    <tr style=\"text-align: right;\">\n",
       "      <th></th>\n",
       "      <th>1D</th>\n",
       "      <th>15D</th>\n",
       "      <th>today</th>\n",
       "    </tr>\n",
       "  </thead>\n",
       "  <tbody>\n",
       "    <tr>\n",
       "      <th>count</th>\n",
       "      <td>69.000000</td>\n",
       "      <td>69.000000</td>\n",
       "      <td>69.000000</td>\n",
       "    </tr>\n",
       "    <tr>\n",
       "      <th>mean</th>\n",
       "      <td>5.995371</td>\n",
       "      <td>5.621224</td>\n",
       "      <td>29.445582</td>\n",
       "    </tr>\n",
       "    <tr>\n",
       "      <th>std</th>\n",
       "      <td>16.192957</td>\n",
       "      <td>17.366194</td>\n",
       "      <td>77.170551</td>\n",
       "    </tr>\n",
       "    <tr>\n",
       "      <th>min</th>\n",
       "      <td>-27.586207</td>\n",
       "      <td>-27.764706</td>\n",
       "      <td>-77.643172</td>\n",
       "    </tr>\n",
       "    <tr>\n",
       "      <th>25%</th>\n",
       "      <td>-1.851852</td>\n",
       "      <td>-6.470588</td>\n",
       "      <td>-13.293353</td>\n",
       "    </tr>\n",
       "    <tr>\n",
       "      <th>50%</th>\n",
       "      <td>0.458333</td>\n",
       "      <td>4.216867</td>\n",
       "      <td>10.111111</td>\n",
       "    </tr>\n",
       "    <tr>\n",
       "      <th>75%</th>\n",
       "      <td>8.947368</td>\n",
       "      <td>14.500000</td>\n",
       "      <td>49.166667</td>\n",
       "    </tr>\n",
       "    <tr>\n",
       "      <th>max</th>\n",
       "      <td>96.969697</td>\n",
       "      <td>57.777778</td>\n",
       "      <td>424.242424</td>\n",
       "    </tr>\n",
       "  </tbody>\n",
       "</table>\n",
       "</div>"
      ],
      "text/plain": [
       "              1D        15D       today\n",
       "count  69.000000  69.000000   69.000000\n",
       "mean    5.995371   5.621224   29.445582\n",
       "std    16.192957  17.366194   77.170551\n",
       "min   -27.586207 -27.764706  -77.643172\n",
       "25%    -1.851852  -6.470588  -13.293353\n",
       "50%     0.458333   4.216867   10.111111\n",
       "75%     8.947368  14.500000   49.166667\n",
       "max    96.969697  57.777778  424.242424"
      ]
     },
     "execution_count": 48,
     "metadata": {},
     "output_type": "execute_result"
    }
   ],
   "source": [
    "rent_df = pd.DataFrame(columns=[\"1D\", \"15D\", \"today\"])\n",
    "time = [1, 10, -1]\n",
    "for t in tickers:\n",
    "    rent_df.loc[t] = [rentability(t, c) for c in time]\n",
    "rent_df.describe()"
   ]
  },
  {
   "cell_type": "code",
   "execution_count": 49,
   "metadata": {
    "scrolled": false
   },
   "outputs": [
    {
     "data": {
      "text/plain": [
       "<AxesSubplot:>"
      ]
     },
     "execution_count": 49,
     "metadata": {},
     "output_type": "execute_result"
    },
    {
     "data": {
      "image/png": "[encoded data removed]",
      "text/plain": [
       "<Figure size 432x288 with 1 Axes>"
      ]
     },
     "metadata": {
      "needs_background": "light"
     },
     "output_type": "display_data"
    }
   ],
   "source": [
    "rent_df.boxplot(column=['1D', '15D', 'today'])"
   ]
  },
  {
   "cell_type": "code",
   "execution_count": null,
   "metadata": {},
   "outputs": [],
   "source": []
  }
 ],
 "metadata": {
  "kernelspec": {
   "display_name": "Python 3",
   "language": "python",
   "name": "python3"
  },
  "language_info": {
   "codemirror_mode": {
    "name": "ipython",
    "version": 3
   },
   "file_extension": ".py",
   "mimetype": "text/x-python",
   "name": "python",
   "nbconvert_exporter": "python",
   "pygments_lexer": "ipython3",
   "version": "3.8.5"
  }
 },
 "nbformat": 4,
 "nbformat_minor": 4
}
