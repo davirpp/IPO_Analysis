{
 "cells": [
  {
   "cell_type": "markdown",
   "metadata": {},
   "source": [
    "# Initial Data Exploration"
   ]
  },
  {
   "cell_type": "markdown",
   "metadata": {},
   "source": [
    "## Rentability"
   ]
  },
  {
   "cell_type": "code",
   "execution_count": 1,
   "metadata": {},
   "outputs": [],
   "source": [
    "import pandas as pd\n",
    "ipo_df = pd.read_csv(\"C:/Users/davir/davigit/Projeto_Intro_CD/datasets/COTAHIST_A2015_2021.csv\")\n",
    "ipo_details = pd.read_excel(\"C:/Users/davir/davigit/Projeto_Intro_CD/datasets/IPO_details.xlsx\")"
   ]
  },
  {
   "cell_type": "code",
   "execution_count": 2,
   "metadata": {
    "scrolled": true
   },
   "outputs": [
    {
     "data": {
      "text/html": [
       "<div>\n",
       "<style scoped>\n",
       "    .dataframe tbody tr th:only-of-type {\n",
       "        vertical-align: middle;\n",
       "    }\n",
       "\n",
       "    .dataframe tbody tr th {\n",
       "        vertical-align: top;\n",
       "    }\n",
       "\n",
       "    .dataframe thead th {\n",
       "        text-align: right;\n",
       "    }\n",
       "</style>\n",
       "<table border=\"1\" class=\"dataframe\">\n",
       "  <thead>\n",
       "    <tr style=\"text-align: right;\">\n",
       "      <th></th>\n",
       "      <th>date</th>\n",
       "      <th>codneg</th>\n",
       "      <th>preabe</th>\n",
       "      <th>preult</th>\n",
       "    </tr>\n",
       "  </thead>\n",
       "  <tbody>\n",
       "    <tr>\n",
       "      <th>0</th>\n",
       "      <td>2015-03-10</td>\n",
       "      <td>PSVM11</td>\n",
       "      <td>3.39</td>\n",
       "      <td>3.39</td>\n",
       "    </tr>\n",
       "    <tr>\n",
       "      <th>1</th>\n",
       "      <td>2015-03-11</td>\n",
       "      <td>PSVM11</td>\n",
       "      <td>3.38</td>\n",
       "      <td>3.38</td>\n",
       "    </tr>\n",
       "    <tr>\n",
       "      <th>2</th>\n",
       "      <td>2015-03-13</td>\n",
       "      <td>PSVM11</td>\n",
       "      <td>3.39</td>\n",
       "      <td>3.39</td>\n",
       "    </tr>\n",
       "    <tr>\n",
       "      <th>3</th>\n",
       "      <td>2015-03-31</td>\n",
       "      <td>PSVM11</td>\n",
       "      <td>2.00</td>\n",
       "      <td>2.00</td>\n",
       "    </tr>\n",
       "    <tr>\n",
       "      <th>4</th>\n",
       "      <td>2015-04-01</td>\n",
       "      <td>PSVM11</td>\n",
       "      <td>2.00</td>\n",
       "      <td>2.00</td>\n",
       "    </tr>\n",
       "    <tr>\n",
       "      <th>...</th>\n",
       "      <td>...</td>\n",
       "      <td>...</td>\n",
       "      <td>...</td>\n",
       "      <td>...</td>\n",
       "    </tr>\n",
       "    <tr>\n",
       "      <th>22429</th>\n",
       "      <td>2021-05-24</td>\n",
       "      <td>VAMO3</td>\n",
       "      <td>48.38</td>\n",
       "      <td>48.50</td>\n",
       "    </tr>\n",
       "    <tr>\n",
       "      <th>22430</th>\n",
       "      <td>2021-05-24</td>\n",
       "      <td>VIVA3</td>\n",
       "      <td>27.57</td>\n",
       "      <td>27.90</td>\n",
       "    </tr>\n",
       "    <tr>\n",
       "      <th>22431</th>\n",
       "      <td>2021-05-24</td>\n",
       "      <td>WEST3</td>\n",
       "      <td>7.75</td>\n",
       "      <td>7.55</td>\n",
       "    </tr>\n",
       "    <tr>\n",
       "      <th>22432</th>\n",
       "      <td>2021-05-24</td>\n",
       "      <td>WIZS3</td>\n",
       "      <td>11.73</td>\n",
       "      <td>11.34</td>\n",
       "    </tr>\n",
       "    <tr>\n",
       "      <th>22433</th>\n",
       "      <td>2021-05-24</td>\n",
       "      <td>PSVM11</td>\n",
       "      <td>6.16</td>\n",
       "      <td>6.14</td>\n",
       "    </tr>\n",
       "  </tbody>\n",
       "</table>\n",
       "<p>22434 rows × 4 columns</p>\n",
       "</div>"
      ],
      "text/plain": [
       "             date  codneg  preabe  preult\n",
       "0      2015-03-10  PSVM11    3.39    3.39\n",
       "1      2015-03-11  PSVM11    3.38    3.38\n",
       "2      2015-03-13  PSVM11    3.39    3.39\n",
       "3      2015-03-31  PSVM11    2.00    2.00\n",
       "4      2015-04-01  PSVM11    2.00    2.00\n",
       "...           ...     ...     ...     ...\n",
       "22429  2021-05-24   VAMO3   48.38   48.50\n",
       "22430  2021-05-24   VIVA3   27.57   27.90\n",
       "22431  2021-05-24   WEST3    7.75    7.55\n",
       "22432  2021-05-24   WIZS3   11.73   11.34\n",
       "22433  2021-05-24  PSVM11    6.16    6.14\n",
       "\n",
       "[22434 rows x 4 columns]"
      ]
     },
     "execution_count": 2,
     "metadata": {},
     "output_type": "execute_result"
    }
   ],
   "source": [
    "ipo_df"
   ]
  },
  {
   "cell_type": "code",
   "execution_count": 3,
   "metadata": {},
   "outputs": [
    {
     "data": {
      "text/html": [
       "<div>\n",
       "<style scoped>\n",
       "    .dataframe tbody tr th:only-of-type {\n",
       "        vertical-align: middle;\n",
       "    }\n",
       "\n",
       "    .dataframe tbody tr th {\n",
       "        vertical-align: top;\n",
       "    }\n",
       "\n",
       "    .dataframe thead th {\n",
       "        text-align: right;\n",
       "    }\n",
       "</style>\n",
       "<table border=\"1\" class=\"dataframe\">\n",
       "  <thead>\n",
       "    <tr style=\"text-align: right;\">\n",
       "      <th></th>\n",
       "      <th>TICKER</th>\n",
       "      <th>PREÇO POR AÇÃO</th>\n",
       "      <th>Nº TOTAL DE INVESTIDORES</th>\n",
       "      <th>VOLUME TOTAL (R$)</th>\n",
       "      <th>VAREJO</th>\n",
       "      <th>INSTITUCIONAL</th>\n",
       "      <th>ESTRANGEIROS</th>\n",
       "      <th>OUTROS</th>\n",
       "    </tr>\n",
       "  </thead>\n",
       "  <tbody>\n",
       "    <tr>\n",
       "      <th>0</th>\n",
       "      <td>PSVM11</td>\n",
       "      <td>2.22</td>\n",
       "      <td>0</td>\n",
       "      <td>0.000000e+00</td>\n",
       "      <td>0.000000</td>\n",
       "      <td>0.000000</td>\n",
       "      <td>0.000000</td>\n",
       "      <td>0.000000</td>\n",
       "    </tr>\n",
       "    <tr>\n",
       "      <th>1</th>\n",
       "      <td>WIZS3</td>\n",
       "      <td>12.33</td>\n",
       "      <td>4527</td>\n",
       "      <td>6.028000e+08</td>\n",
       "      <td>0.098221</td>\n",
       "      <td>0.374098</td>\n",
       "      <td>0.521481</td>\n",
       "      <td>0.006200</td>\n",
       "    </tr>\n",
       "    <tr>\n",
       "      <th>2</th>\n",
       "      <td>AALR3</td>\n",
       "      <td>20.00</td>\n",
       "      <td>2035</td>\n",
       "      <td>6.741976e+08</td>\n",
       "      <td>0.093510</td>\n",
       "      <td>0.369668</td>\n",
       "      <td>0.530330</td>\n",
       "      <td>0.006491</td>\n",
       "    </tr>\n",
       "    <tr>\n",
       "      <th>3</th>\n",
       "      <td>MOVI3</td>\n",
       "      <td>7.50</td>\n",
       "      <td>1373</td>\n",
       "      <td>6.000838e+08</td>\n",
       "      <td>0.093400</td>\n",
       "      <td>0.308660</td>\n",
       "      <td>0.450425</td>\n",
       "      <td>0.147514</td>\n",
       "    </tr>\n",
       "    <tr>\n",
       "      <th>4</th>\n",
       "      <td>PARD3</td>\n",
       "      <td>19.00</td>\n",
       "      <td>5042</td>\n",
       "      <td>8.776688e+08</td>\n",
       "      <td>0.100529</td>\n",
       "      <td>0.480254</td>\n",
       "      <td>0.413150</td>\n",
       "      <td>0.006067</td>\n",
       "    </tr>\n",
       "    <tr>\n",
       "      <th>...</th>\n",
       "      <td>...</td>\n",
       "      <td>...</td>\n",
       "      <td>...</td>\n",
       "      <td>...</td>\n",
       "      <td>...</td>\n",
       "      <td>...</td>\n",
       "      <td>...</td>\n",
       "      <td>...</td>\n",
       "    </tr>\n",
       "    <tr>\n",
       "      <th>65</th>\n",
       "      <td>GGPS3</td>\n",
       "      <td>12.00</td>\n",
       "      <td>0</td>\n",
       "      <td>2.164502e+09</td>\n",
       "      <td>0.000000</td>\n",
       "      <td>0.000000</td>\n",
       "      <td>0.000000</td>\n",
       "      <td>0.000000</td>\n",
       "    </tr>\n",
       "    <tr>\n",
       "      <th>66</th>\n",
       "      <td>SOJA3</td>\n",
       "      <td>9.90</td>\n",
       "      <td>0</td>\n",
       "      <td>4.000000e+08</td>\n",
       "      <td>0.000000</td>\n",
       "      <td>0.000000</td>\n",
       "      <td>0.000000</td>\n",
       "      <td>0.000000</td>\n",
       "    </tr>\n",
       "    <tr>\n",
       "      <th>67</th>\n",
       "      <td>CXSE3</td>\n",
       "      <td>9.67</td>\n",
       "      <td>0</td>\n",
       "      <td>4.351500e+09</td>\n",
       "      <td>0.000000</td>\n",
       "      <td>0.000000</td>\n",
       "      <td>0.000000</td>\n",
       "      <td>0.000000</td>\n",
       "    </tr>\n",
       "    <tr>\n",
       "      <th>68</th>\n",
       "      <td>MODL11</td>\n",
       "      <td>20.01</td>\n",
       "      <td>0</td>\n",
       "      <td>3.064532e+09</td>\n",
       "      <td>0.000000</td>\n",
       "      <td>0.000000</td>\n",
       "      <td>0.000000</td>\n",
       "      <td>0.000000</td>\n",
       "    </tr>\n",
       "    <tr>\n",
       "      <th>69</th>\n",
       "      <td>RECV3</td>\n",
       "      <td>14.75</td>\n",
       "      <td>0</td>\n",
       "      <td>0.000000e+00</td>\n",
       "      <td>0.000000</td>\n",
       "      <td>0.000000</td>\n",
       "      <td>0.000000</td>\n",
       "      <td>0.000000</td>\n",
       "    </tr>\n",
       "  </tbody>\n",
       "</table>\n",
       "<p>70 rows × 8 columns</p>\n",
       "</div>"
      ],
      "text/plain": [
       "    TICKER  PREÇO POR AÇÃO  Nº TOTAL DE INVESTIDORES  VOLUME TOTAL (R$)  \\\n",
       "0   PSVM11            2.22                         0       0.000000e+00   \n",
       "1    WIZS3           12.33                      4527       6.028000e+08   \n",
       "2    AALR3           20.00                      2035       6.741976e+08   \n",
       "3    MOVI3            7.50                      1373       6.000838e+08   \n",
       "4    PARD3           19.00                      5042       8.776688e+08   \n",
       "..     ...             ...                       ...                ...   \n",
       "65   GGPS3           12.00                         0       2.164502e+09   \n",
       "66   SOJA3            9.90                         0       4.000000e+08   \n",
       "67   CXSE3            9.67                         0       4.351500e+09   \n",
       "68  MODL11           20.01                         0       3.064532e+09   \n",
       "69   RECV3           14.75                         0       0.000000e+00   \n",
       "\n",
       "      VAREJO  INSTITUCIONAL  ESTRANGEIROS    OUTROS  \n",
       "0   0.000000       0.000000      0.000000  0.000000  \n",
       "1   0.098221       0.374098      0.521481  0.006200  \n",
       "2   0.093510       0.369668      0.530330  0.006491  \n",
       "3   0.093400       0.308660      0.450425  0.147514  \n",
       "4   0.100529       0.480254      0.413150  0.006067  \n",
       "..       ...            ...           ...       ...  \n",
       "65  0.000000       0.000000      0.000000  0.000000  \n",
       "66  0.000000       0.000000      0.000000  0.000000  \n",
       "67  0.000000       0.000000      0.000000  0.000000  \n",
       "68  0.000000       0.000000      0.000000  0.000000  \n",
       "69  0.000000       0.000000      0.000000  0.000000  \n",
       "\n",
       "[70 rows x 8 columns]"
      ]
     },
     "execution_count": 3,
     "metadata": {},
     "output_type": "execute_result"
    }
   ],
   "source": [
    "ipo_details"
   ]
  },
  {
   "cell_type": "code",
   "execution_count": 4,
   "metadata": {
    "scrolled": false
   },
   "outputs": [],
   "source": [
    "tickers = list(ipo_details.TICKER)\n",
    "abertura = list(ipo_details['PREÇO POR AÇÃO'])\n",
    "dict_tickers = dict(zip(tickers, abertura))"
   ]
  },
  {
   "cell_type": "code",
   "execution_count": 5,
   "metadata": {},
   "outputs": [
    {
     "data": {
      "text/html": [
       "<div>\n",
       "<style scoped>\n",
       "    .dataframe tbody tr th:only-of-type {\n",
       "        vertical-align: middle;\n",
       "    }\n",
       "\n",
       "    .dataframe tbody tr th {\n",
       "        vertical-align: top;\n",
       "    }\n",
       "\n",
       "    .dataframe thead th {\n",
       "        text-align: right;\n",
       "    }\n",
       "</style>\n",
       "<table border=\"1\" class=\"dataframe\">\n",
       "  <thead>\n",
       "    <tr style=\"text-align: right;\">\n",
       "      <th></th>\n",
       "      <th>tickers</th>\n",
       "      <th>date</th>\n",
       "    </tr>\n",
       "  </thead>\n",
       "  <tbody>\n",
       "    <tr>\n",
       "      <th>0</th>\n",
       "      <td>PSVM11</td>\n",
       "      <td>2015-03-10</td>\n",
       "    </tr>\n",
       "    <tr>\n",
       "      <th>1</th>\n",
       "      <td>WIZS3</td>\n",
       "      <td>2015-06-05</td>\n",
       "    </tr>\n",
       "    <tr>\n",
       "      <th>2</th>\n",
       "      <td>AALR3</td>\n",
       "      <td>2016-10-28</td>\n",
       "    </tr>\n",
       "    <tr>\n",
       "      <th>3</th>\n",
       "      <td>MOVI3</td>\n",
       "      <td>2017-02-08</td>\n",
       "    </tr>\n",
       "    <tr>\n",
       "      <th>4</th>\n",
       "      <td>PARD3</td>\n",
       "      <td>2017-02-14</td>\n",
       "    </tr>\n",
       "  </tbody>\n",
       "</table>\n",
       "</div>"
      ],
      "text/plain": [
       "  tickers       date\n",
       "0  PSVM11 2015-03-10\n",
       "1   WIZS3 2015-06-05\n",
       "2   AALR3 2016-10-28\n",
       "3   MOVI3 2017-02-08\n",
       "4   PARD3 2017-02-14"
      ]
     },
     "execution_count": 5,
     "metadata": {},
     "output_type": "execute_result"
    }
   ],
   "source": [
    "date_list = []\n",
    "for ticker in tickers:\n",
    "    df = ipo_df[ipo_df.codneg==ticker]\n",
    "    date_list.append(df[\"date\"].iloc[0])\n",
    "    \n",
    "date_ipo_df = pd.DataFrame(list(zip(tickers, date_list)), columns=[\"tickers\", \"date\"])\n",
    "date_ipo_df[\"date\"] = pd.to_datetime(date_ipo_df[\"date\"], format='%Y-%m-%d')\n",
    "date_ipo_df.head()"
   ]
  },
  {
   "cell_type": "code",
   "execution_count": 6,
   "metadata": {},
   "outputs": [],
   "source": [
    "def rentability(ticker, dias_uteis, dict_ticker=dict_tickers, data=ipo_df):\n",
    "    ticker = ticker.upper()\n",
    "    df = data[data.codneg==ticker]\n",
    "    df = df.reset_index(drop=True)\n",
    "    variation = ((df[\"preult\"].iloc[dias_uteis-1]/dict_ticker[ticker])-1)*100\n",
    "    return variation"
   ]
  },
  {
   "cell_type": "code",
   "execution_count": 7,
   "metadata": {
    "scrolled": true
   },
   "outputs": [],
   "source": [
    "ipos_2015 = date_ipo_df[(date_ipo_df['date'] >= '2015-01-01') & (date_ipo_df['date'] <= '2015-12-31')]\n",
    "ipos_2016 = date_ipo_df[(date_ipo_df['date'] >= '2016-01-01') & (date_ipo_df['date'] <= '2016-12-31')]\n",
    "ipos_2017 = date_ipo_df[(date_ipo_df['date'] >= '2017-01-01') & (date_ipo_df['date'] <= '2017-12-31')]\n",
    "ipos_2018 = date_ipo_df[(date_ipo_df['date'] >= '2018-01-01') & (date_ipo_df['date'] <= '2018-12-31')]\n",
    "ipos_2019 = date_ipo_df[(date_ipo_df['date'] >= '2019-01-01') & (date_ipo_df['date'] <= '2019-12-31')]\n",
    "ipos_2020 = date_ipo_df[(date_ipo_df['date'] >= '2020-01-01') & (date_ipo_df['date'] <= '2020-12-31')]\n",
    "ipos_2021 = date_ipo_df[(date_ipo_df['date'] >= '2021-01-01') & (date_ipo_df['date'] <= '2021-05-24')]"
   ]
  },
  {
   "cell_type": "markdown",
   "metadata": {},
   "source": [
    "## 2015"
   ]
  },
  {
   "cell_type": "code",
   "execution_count": 8,
   "metadata": {
    "scrolled": false
   },
   "outputs": [
    {
     "data": {
      "text/html": [
       "<div>\n",
       "<style scoped>\n",
       "    .dataframe tbody tr th:only-of-type {\n",
       "        vertical-align: middle;\n",
       "    }\n",
       "\n",
       "    .dataframe tbody tr th {\n",
       "        vertical-align: top;\n",
       "    }\n",
       "\n",
       "    .dataframe thead th {\n",
       "        text-align: right;\n",
       "    }\n",
       "</style>\n",
       "<table border=\"1\" class=\"dataframe\">\n",
       "  <thead>\n",
       "    <tr style=\"text-align: right;\">\n",
       "      <th></th>\n",
       "      <th>1D</th>\n",
       "      <th>15D</th>\n",
       "      <th>1M</th>\n",
       "      <th>today</th>\n",
       "      <th>year</th>\n",
       "    </tr>\n",
       "  </thead>\n",
       "  <tbody>\n",
       "    <tr>\n",
       "      <th>count</th>\n",
       "      <td>2.000000</td>\n",
       "      <td>2.000000</td>\n",
       "      <td>2.000000</td>\n",
       "      <td>2.000000</td>\n",
       "      <td>2.0</td>\n",
       "    </tr>\n",
       "    <tr>\n",
       "      <th>mean</th>\n",
       "      <td>32.717937</td>\n",
       "      <td>17.763749</td>\n",
       "      <td>21.245150</td>\n",
       "      <td>86.206462</td>\n",
       "      <td>2015.0</td>\n",
       "    </tr>\n",
       "    <tr>\n",
       "      <th>std</th>\n",
       "      <td>28.262727</td>\n",
       "      <td>0.914476</td>\n",
       "      <td>10.087908</td>\n",
       "      <td>129.713741</td>\n",
       "      <td>0.0</td>\n",
       "    </tr>\n",
       "    <tr>\n",
       "      <th>min</th>\n",
       "      <td>12.733171</td>\n",
       "      <td>17.117117</td>\n",
       "      <td>14.111922</td>\n",
       "      <td>-5.515004</td>\n",
       "      <td>2015.0</td>\n",
       "    </tr>\n",
       "    <tr>\n",
       "      <th>25%</th>\n",
       "      <td>22.725554</td>\n",
       "      <td>17.440433</td>\n",
       "      <td>17.678536</td>\n",
       "      <td>40.345729</td>\n",
       "      <td>2015.0</td>\n",
       "    </tr>\n",
       "    <tr>\n",
       "      <th>50%</th>\n",
       "      <td>32.717937</td>\n",
       "      <td>17.763749</td>\n",
       "      <td>21.245150</td>\n",
       "      <td>86.206462</td>\n",
       "      <td>2015.0</td>\n",
       "    </tr>\n",
       "    <tr>\n",
       "      <th>75%</th>\n",
       "      <td>42.710320</td>\n",
       "      <td>18.087065</td>\n",
       "      <td>24.811764</td>\n",
       "      <td>132.067195</td>\n",
       "      <td>2015.0</td>\n",
       "    </tr>\n",
       "    <tr>\n",
       "      <th>max</th>\n",
       "      <td>52.702703</td>\n",
       "      <td>18.410381</td>\n",
       "      <td>28.378378</td>\n",
       "      <td>177.927928</td>\n",
       "      <td>2015.0</td>\n",
       "    </tr>\n",
       "  </tbody>\n",
       "</table>\n",
       "</div>"
      ],
      "text/plain": [
       "              1D        15D         1M       today    year\n",
       "count   2.000000   2.000000   2.000000    2.000000     2.0\n",
       "mean   32.717937  17.763749  21.245150   86.206462  2015.0\n",
       "std    28.262727   0.914476  10.087908  129.713741     0.0\n",
       "min    12.733171  17.117117  14.111922   -5.515004  2015.0\n",
       "25%    22.725554  17.440433  17.678536   40.345729  2015.0\n",
       "50%    32.717937  17.763749  21.245150   86.206462  2015.0\n",
       "75%    42.710320  18.087065  24.811764  132.067195  2015.0\n",
       "max    52.702703  18.410381  28.378378  177.927928  2015.0"
      ]
     },
     "execution_count": 8,
     "metadata": {},
     "output_type": "execute_result"
    }
   ],
   "source": [
    "rent_df_15 = pd.DataFrame(columns=[\"1D\", \"15D\", \"1M\", \"today\"])\n",
    "time = [1, 10, 20, -1]\n",
    "tickers_15 = ipos_2015[\"tickers\"]\n",
    "for t in tickers_15:\n",
    "    rent_df_15.loc[t] = [rentability(t, c) for c in time]\n",
    "rent_df_15['year'] = 2015\n",
    "rent_df_15.describe()"
   ]
  },
  {
   "cell_type": "code",
   "execution_count": 9,
   "metadata": {},
   "outputs": [
    {
     "data": {
      "text/plain": [
       "<AxesSubplot:>"
      ]
     },
     "execution_count": 9,
     "metadata": {},
     "output_type": "execute_result"
    },
    {
     "data": {
      "image/png": "[encoded data removed]",
      "text/plain": [
       "<Figure size 432x288 with 1 Axes>"
      ]
     },
     "metadata": {
      "needs_background": "light"
     },
     "output_type": "display_data"
    }
   ],
   "source": [
    "rent_df_15.boxplot(column=['1D', '15D', '1M', 'today'])"
   ]
  },
  {
   "cell_type": "markdown",
   "metadata": {},
   "source": [
    "## 2016"
   ]
  },
  {
   "cell_type": "code",
   "execution_count": 10,
   "metadata": {
    "scrolled": true
   },
   "outputs": [
    {
     "data": {
      "text/html": [
       "<div>\n",
       "<style scoped>\n",
       "    .dataframe tbody tr th:only-of-type {\n",
       "        vertical-align: middle;\n",
       "    }\n",
       "\n",
       "    .dataframe tbody tr th {\n",
       "        vertical-align: top;\n",
       "    }\n",
       "\n",
       "    .dataframe thead th {\n",
       "        text-align: right;\n",
       "    }\n",
       "</style>\n",
       "<table border=\"1\" class=\"dataframe\">\n",
       "  <thead>\n",
       "    <tr style=\"text-align: right;\">\n",
       "      <th></th>\n",
       "      <th>1D</th>\n",
       "      <th>15D</th>\n",
       "      <th>1M</th>\n",
       "      <th>today</th>\n",
       "      <th>year</th>\n",
       "    </tr>\n",
       "  </thead>\n",
       "  <tbody>\n",
       "    <tr>\n",
       "      <th>count</th>\n",
       "      <td>1.0</td>\n",
       "      <td>1.00</td>\n",
       "      <td>1.0</td>\n",
       "      <td>1.00</td>\n",
       "      <td>1.0</td>\n",
       "    </tr>\n",
       "    <tr>\n",
       "      <th>mean</th>\n",
       "      <td>-4.0</td>\n",
       "      <td>-23.75</td>\n",
       "      <td>-20.0</td>\n",
       "      <td>-44.05</td>\n",
       "      <td>2016.0</td>\n",
       "    </tr>\n",
       "    <tr>\n",
       "      <th>std</th>\n",
       "      <td>NaN</td>\n",
       "      <td>NaN</td>\n",
       "      <td>NaN</td>\n",
       "      <td>NaN</td>\n",
       "      <td>NaN</td>\n",
       "    </tr>\n",
       "    <tr>\n",
       "      <th>min</th>\n",
       "      <td>-4.0</td>\n",
       "      <td>-23.75</td>\n",
       "      <td>-20.0</td>\n",
       "      <td>-44.05</td>\n",
       "      <td>2016.0</td>\n",
       "    </tr>\n",
       "    <tr>\n",
       "      <th>25%</th>\n",
       "      <td>-4.0</td>\n",
       "      <td>-23.75</td>\n",
       "      <td>-20.0</td>\n",
       "      <td>-44.05</td>\n",
       "      <td>2016.0</td>\n",
       "    </tr>\n",
       "    <tr>\n",
       "      <th>50%</th>\n",
       "      <td>-4.0</td>\n",
       "      <td>-23.75</td>\n",
       "      <td>-20.0</td>\n",
       "      <td>-44.05</td>\n",
       "      <td>2016.0</td>\n",
       "    </tr>\n",
       "    <tr>\n",
       "      <th>75%</th>\n",
       "      <td>-4.0</td>\n",
       "      <td>-23.75</td>\n",
       "      <td>-20.0</td>\n",
       "      <td>-44.05</td>\n",
       "      <td>2016.0</td>\n",
       "    </tr>\n",
       "    <tr>\n",
       "      <th>max</th>\n",
       "      <td>-4.0</td>\n",
       "      <td>-23.75</td>\n",
       "      <td>-20.0</td>\n",
       "      <td>-44.05</td>\n",
       "      <td>2016.0</td>\n",
       "    </tr>\n",
       "  </tbody>\n",
       "</table>\n",
       "</div>"
      ],
      "text/plain": [
       "        1D    15D    1M  today    year\n",
       "count  1.0   1.00   1.0   1.00     1.0\n",
       "mean  -4.0 -23.75 -20.0 -44.05  2016.0\n",
       "std    NaN    NaN   NaN    NaN     NaN\n",
       "min   -4.0 -23.75 -20.0 -44.05  2016.0\n",
       "25%   -4.0 -23.75 -20.0 -44.05  2016.0\n",
       "50%   -4.0 -23.75 -20.0 -44.05  2016.0\n",
       "75%   -4.0 -23.75 -20.0 -44.05  2016.0\n",
       "max   -4.0 -23.75 -20.0 -44.05  2016.0"
      ]
     },
     "execution_count": 10,
     "metadata": {},
     "output_type": "execute_result"
    }
   ],
   "source": [
    "rent_df_16 = pd.DataFrame(columns=[\"1D\", \"15D\", \"1M\", \"today\"])\n",
    "time = [1, 10, 20, -1]\n",
    "tickers_16 = ipos_2016[\"tickers\"]\n",
    "for t in tickers_16:\n",
    "    rent_df_16.loc[t] = [rentability(t, c) for c in time]\n",
    "rent_df_16['year'] = 2016\n",
    "rent_df_16.describe()"
   ]
  },
  {
   "cell_type": "code",
   "execution_count": 11,
   "metadata": {},
   "outputs": [
    {
     "data": {
      "text/plain": [
       "<AxesSubplot:>"
      ]
     },
     "execution_count": 11,
     "metadata": {},
     "output_type": "execute_result"
    },
    {
     "data": {
      "image/png": "[encoded data removed]",
      "text/plain": [
       "<Figure size 432x288 with 1 Axes>"
      ]
     },
     "metadata": {
      "needs_background": "light"
     },
     "output_type": "display_data"
    }
   ],
   "source": [
    "rent_df_16.boxplot(column=['1D', '15D', '1M', 'today'])"
   ]
  },
  {
   "cell_type": "markdown",
   "metadata": {},
   "source": [
    "## 2017"
   ]
  },
  {
   "cell_type": "code",
   "execution_count": 12,
   "metadata": {
    "scrolled": true
   },
   "outputs": [
    {
     "data": {
      "text/html": [
       "<div>\n",
       "<style scoped>\n",
       "    .dataframe tbody tr th:only-of-type {\n",
       "        vertical-align: middle;\n",
       "    }\n",
       "\n",
       "    .dataframe tbody tr th {\n",
       "        vertical-align: top;\n",
       "    }\n",
       "\n",
       "    .dataframe thead th {\n",
       "        text-align: right;\n",
       "    }\n",
       "</style>\n",
       "<table border=\"1\" class=\"dataframe\">\n",
       "  <thead>\n",
       "    <tr style=\"text-align: right;\">\n",
       "      <th></th>\n",
       "      <th>1D</th>\n",
       "      <th>15D</th>\n",
       "      <th>1M</th>\n",
       "      <th>today</th>\n",
       "      <th>year</th>\n",
       "    </tr>\n",
       "  </thead>\n",
       "  <tbody>\n",
       "    <tr>\n",
       "      <th>count</th>\n",
       "      <td>9.000000</td>\n",
       "      <td>9.000000</td>\n",
       "      <td>9.000000</td>\n",
       "      <td>9.000000</td>\n",
       "      <td>9.0</td>\n",
       "    </tr>\n",
       "    <tr>\n",
       "      <th>mean</th>\n",
       "      <td>3.354082</td>\n",
       "      <td>4.711792</td>\n",
       "      <td>6.391514</td>\n",
       "      <td>41.873696</td>\n",
       "      <td>2017.0</td>\n",
       "    </tr>\n",
       "    <tr>\n",
       "      <th>std</th>\n",
       "      <td>4.595710</td>\n",
       "      <td>6.849881</td>\n",
       "      <td>8.824979</td>\n",
       "      <td>75.001673</td>\n",
       "      <td>0.0</td>\n",
       "    </tr>\n",
       "    <tr>\n",
       "      <th>min</th>\n",
       "      <td>-2.666667</td>\n",
       "      <td>-5.000000</td>\n",
       "      <td>-5.555556</td>\n",
       "      <td>-77.936858</td>\n",
       "      <td>2017.0</td>\n",
       "    </tr>\n",
       "    <tr>\n",
       "      <th>25%</th>\n",
       "      <td>-0.666667</td>\n",
       "      <td>-0.555556</td>\n",
       "      <td>0.533333</td>\n",
       "      <td>7.111111</td>\n",
       "      <td>2017.0</td>\n",
       "    </tr>\n",
       "    <tr>\n",
       "      <th>50%</th>\n",
       "      <td>5.769231</td>\n",
       "      <td>4.258443</td>\n",
       "      <td>5.315789</td>\n",
       "      <td>41.333333</td>\n",
       "      <td>2017.0</td>\n",
       "    </tr>\n",
       "    <tr>\n",
       "      <th>75%</th>\n",
       "      <td>6.666667</td>\n",
       "      <td>8.910256</td>\n",
       "      <td>11.538462</td>\n",
       "      <td>95.142857</td>\n",
       "      <td>2017.0</td>\n",
       "    </tr>\n",
       "    <tr>\n",
       "      <th>max</th>\n",
       "      <td>8.947368</td>\n",
       "      <td>14.866667</td>\n",
       "      <td>20.238095</td>\n",
       "      <td>136.346154</td>\n",
       "      <td>2017.0</td>\n",
       "    </tr>\n",
       "  </tbody>\n",
       "</table>\n",
       "</div>"
      ],
      "text/plain": [
       "             1D        15D         1M       today    year\n",
       "count  9.000000   9.000000   9.000000    9.000000     9.0\n",
       "mean   3.354082   4.711792   6.391514   41.873696  2017.0\n",
       "std    4.595710   6.849881   8.824979   75.001673     0.0\n",
       "min   -2.666667  -5.000000  -5.555556  -77.936858  2017.0\n",
       "25%   -0.666667  -0.555556   0.533333    7.111111  2017.0\n",
       "50%    5.769231   4.258443   5.315789   41.333333  2017.0\n",
       "75%    6.666667   8.910256  11.538462   95.142857  2017.0\n",
       "max    8.947368  14.866667  20.238095  136.346154  2017.0"
      ]
     },
     "execution_count": 12,
     "metadata": {},
     "output_type": "execute_result"
    }
   ],
   "source": [
    "rent_df_17 = pd.DataFrame(columns=[\"1D\", \"15D\", \"1M\", \"today\"])\n",
    "time = [1, 10, 20, -1]\n",
    "tickers_17 = ipos_2017[\"tickers\"]\n",
    "for t in tickers_17:\n",
    "    rent_df_17.loc[t] = [rentability(t, c) for c in time]\n",
    "rent_df_17['year'] = 2017\n",
    "rent_df_17.describe()"
   ]
  },
  {
   "cell_type": "code",
   "execution_count": 13,
   "metadata": {},
   "outputs": [
    {
     "data": {
      "text/plain": [
       "<AxesSubplot:>"
      ]
     },
     "execution_count": 13,
     "metadata": {},
     "output_type": "execute_result"
    },
    {
     "data": {
      "image/png": "[encoded data removed]",
      "text/plain": [
       "<Figure size 432x288 with 1 Axes>"
      ]
     },
     "metadata": {
      "needs_background": "light"
     },
     "output_type": "display_data"
    }
   ],
   "source": [
    "rent_df_17.boxplot(column=['1D', '15D', '1M', 'today'])"
   ]
  },
  {
   "cell_type": "markdown",
   "metadata": {},
   "source": [
    "## 2018"
   ]
  },
  {
   "cell_type": "code",
   "execution_count": 14,
   "metadata": {
    "scrolled": true
   },
   "outputs": [
    {
     "data": {
      "text/html": [
       "<div>\n",
       "<style scoped>\n",
       "    .dataframe tbody tr th:only-of-type {\n",
       "        vertical-align: middle;\n",
       "    }\n",
       "\n",
       "    .dataframe tbody tr th {\n",
       "        vertical-align: top;\n",
       "    }\n",
       "\n",
       "    .dataframe thead th {\n",
       "        text-align: right;\n",
       "    }\n",
       "</style>\n",
       "<table border=\"1\" class=\"dataframe\">\n",
       "  <thead>\n",
       "    <tr style=\"text-align: right;\">\n",
       "      <th></th>\n",
       "      <th>1D</th>\n",
       "      <th>15D</th>\n",
       "      <th>1M</th>\n",
       "      <th>today</th>\n",
       "      <th>year</th>\n",
       "    </tr>\n",
       "  </thead>\n",
       "  <tbody>\n",
       "    <tr>\n",
       "      <th>count</th>\n",
       "      <td>3.000000</td>\n",
       "      <td>3.000000</td>\n",
       "      <td>3.000000</td>\n",
       "      <td>3.000000</td>\n",
       "      <td>3.0</td>\n",
       "    </tr>\n",
       "    <tr>\n",
       "      <th>mean</th>\n",
       "      <td>14.984230</td>\n",
       "      <td>12.557339</td>\n",
       "      <td>15.639884</td>\n",
       "      <td>197.949629</td>\n",
       "      <td>2018.0</td>\n",
       "    </tr>\n",
       "    <tr>\n",
       "      <th>std</th>\n",
       "      <td>13.444859</td>\n",
       "      <td>12.147631</td>\n",
       "      <td>30.967431</td>\n",
       "      <td>223.461858</td>\n",
       "      <td>0.0</td>\n",
       "    </tr>\n",
       "    <tr>\n",
       "      <th>min</th>\n",
       "      <td>-0.540541</td>\n",
       "      <td>-0.432432</td>\n",
       "      <td>-19.459459</td>\n",
       "      <td>-35.489362</td>\n",
       "      <td>2018.0</td>\n",
       "    </tr>\n",
       "    <tr>\n",
       "      <th>25%</th>\n",
       "      <td>11.093366</td>\n",
       "      <td>7.017826</td>\n",
       "      <td>3.906634</td>\n",
       "      <td>91.985049</td>\n",
       "      <td>2018.0</td>\n",
       "    </tr>\n",
       "    <tr>\n",
       "      <th>50%</th>\n",
       "      <td>22.727273</td>\n",
       "      <td>14.468085</td>\n",
       "      <td>27.272727</td>\n",
       "      <td>219.459459</td>\n",
       "      <td>2018.0</td>\n",
       "    </tr>\n",
       "    <tr>\n",
       "      <th>75%</th>\n",
       "      <td>22.746615</td>\n",
       "      <td>19.052224</td>\n",
       "      <td>33.189555</td>\n",
       "      <td>314.669124</td>\n",
       "      <td>2018.0</td>\n",
       "    </tr>\n",
       "    <tr>\n",
       "      <th>max</th>\n",
       "      <td>22.765957</td>\n",
       "      <td>23.636364</td>\n",
       "      <td>39.106383</td>\n",
       "      <td>409.878788</td>\n",
       "      <td>2018.0</td>\n",
       "    </tr>\n",
       "  </tbody>\n",
       "</table>\n",
       "</div>"
      ],
      "text/plain": [
       "              1D        15D         1M       today    year\n",
       "count   3.000000   3.000000   3.000000    3.000000     3.0\n",
       "mean   14.984230  12.557339  15.639884  197.949629  2018.0\n",
       "std    13.444859  12.147631  30.967431  223.461858     0.0\n",
       "min    -0.540541  -0.432432 -19.459459  -35.489362  2018.0\n",
       "25%    11.093366   7.017826   3.906634   91.985049  2018.0\n",
       "50%    22.727273  14.468085  27.272727  219.459459  2018.0\n",
       "75%    22.746615  19.052224  33.189555  314.669124  2018.0\n",
       "max    22.765957  23.636364  39.106383  409.878788  2018.0"
      ]
     },
     "execution_count": 14,
     "metadata": {},
     "output_type": "execute_result"
    }
   ],
   "source": [
    "rent_df_18 = pd.DataFrame(columns=[\"1D\", \"15D\", \"1M\", \"today\"])\n",
    "time = [1, 10, 20, -1]\n",
    "tickers_18 = ipos_2018[\"tickers\"]\n",
    "for t in tickers_18:\n",
    "    rent_df_18.loc[t] = [rentability(t, c) for c in time]\n",
    "rent_df_18['year'] = 2018\n",
    "rent_df_18.describe()"
   ]
  },
  {
   "cell_type": "code",
   "execution_count": 15,
   "metadata": {},
   "outputs": [
    {
     "data": {
      "text/plain": [
       "<AxesSubplot:>"
      ]
     },
     "execution_count": 15,
     "metadata": {},
     "output_type": "execute_result"
    },
    {
     "data": {
      "image/png": "[encoded data removed]",
      "text/plain": [
       "<Figure size 432x288 with 1 Axes>"
      ]
     },
     "metadata": {
      "needs_background": "light"
     },
     "output_type": "display_data"
    }
   ],
   "source": [
    "rent_df_18.boxplot(column=['1D', '15D', '1M', 'today'])"
   ]
  },
  {
   "cell_type": "markdown",
   "metadata": {},
   "source": [
    "## 2019"
   ]
  },
  {
   "cell_type": "code",
   "execution_count": 16,
   "metadata": {},
   "outputs": [
    {
     "data": {
      "text/html": [
       "<div>\n",
       "<style scoped>\n",
       "    .dataframe tbody tr th:only-of-type {\n",
       "        vertical-align: middle;\n",
       "    }\n",
       "\n",
       "    .dataframe tbody tr th {\n",
       "        vertical-align: top;\n",
       "    }\n",
       "\n",
       "    .dataframe thead th {\n",
       "        text-align: right;\n",
       "    }\n",
       "</style>\n",
       "<table border=\"1\" class=\"dataframe\">\n",
       "  <thead>\n",
       "    <tr style=\"text-align: right;\">\n",
       "      <th></th>\n",
       "      <th>1D</th>\n",
       "      <th>15D</th>\n",
       "      <th>1M</th>\n",
       "      <th>today</th>\n",
       "      <th>year</th>\n",
       "    </tr>\n",
       "  </thead>\n",
       "  <tbody>\n",
       "    <tr>\n",
       "      <th>count</th>\n",
       "      <td>5.000000</td>\n",
       "      <td>5.000000</td>\n",
       "      <td>5.000000</td>\n",
       "      <td>5.000000</td>\n",
       "      <td>5.0</td>\n",
       "    </tr>\n",
       "    <tr>\n",
       "      <th>mean</th>\n",
       "      <td>-3.453271</td>\n",
       "      <td>-1.695585</td>\n",
       "      <td>-2.110681</td>\n",
       "      <td>15.744672</td>\n",
       "      <td>2019.0</td>\n",
       "    </tr>\n",
       "    <tr>\n",
       "      <th>std</th>\n",
       "      <td>13.997895</td>\n",
       "      <td>12.635760</td>\n",
       "      <td>10.706540</td>\n",
       "      <td>70.704679</td>\n",
       "      <td>0.0</td>\n",
       "    </tr>\n",
       "    <tr>\n",
       "      <th>min</th>\n",
       "      <td>-27.586207</td>\n",
       "      <td>-19.396552</td>\n",
       "      <td>-15.603448</td>\n",
       "      <td>-60.862069</td>\n",
       "      <td>2019.0</td>\n",
       "    </tr>\n",
       "    <tr>\n",
       "      <th>25%</th>\n",
       "      <td>-1.600000</td>\n",
       "      <td>-6.880000</td>\n",
       "      <td>-7.520000</td>\n",
       "      <td>-16.727273</td>\n",
       "      <td>2019.0</td>\n",
       "    </tr>\n",
       "    <tr>\n",
       "      <th>50%</th>\n",
       "      <td>0.458333</td>\n",
       "      <td>-2.000000</td>\n",
       "      <td>-0.848485</td>\n",
       "      <td>11.437700</td>\n",
       "      <td>2019.0</td>\n",
       "    </tr>\n",
       "    <tr>\n",
       "      <th>75%</th>\n",
       "      <td>3.090909</td>\n",
       "      <td>6.060606</td>\n",
       "      <td>0.000000</td>\n",
       "      <td>14.875000</td>\n",
       "      <td>2019.0</td>\n",
       "    </tr>\n",
       "    <tr>\n",
       "      <th>max</th>\n",
       "      <td>8.370607</td>\n",
       "      <td>13.738019</td>\n",
       "      <td>13.418530</td>\n",
       "      <td>130.000000</td>\n",
       "      <td>2019.0</td>\n",
       "    </tr>\n",
       "  </tbody>\n",
       "</table>\n",
       "</div>"
      ],
      "text/plain": [
       "              1D        15D         1M       today    year\n",
       "count   5.000000   5.000000   5.000000    5.000000     5.0\n",
       "mean   -3.453271  -1.695585  -2.110681   15.744672  2019.0\n",
       "std    13.997895  12.635760  10.706540   70.704679     0.0\n",
       "min   -27.586207 -19.396552 -15.603448  -60.862069  2019.0\n",
       "25%    -1.600000  -6.880000  -7.520000  -16.727273  2019.0\n",
       "50%     0.458333  -2.000000  -0.848485   11.437700  2019.0\n",
       "75%     3.090909   6.060606   0.000000   14.875000  2019.0\n",
       "max     8.370607  13.738019  13.418530  130.000000  2019.0"
      ]
     },
     "execution_count": 16,
     "metadata": {},
     "output_type": "execute_result"
    }
   ],
   "source": [
    "rent_df_19 = pd.DataFrame(columns=[\"1D\", \"15D\", \"1M\", \"today\"])\n",
    "time = [1, 10, 20, -1]\n",
    "tickers_19 = ipos_2019[\"tickers\"]\n",
    "for t in tickers_19:\n",
    "    rent_df_19.loc[t] = [rentability(t, c) for c in time]\n",
    "rent_df_19['year'] = 2019\n",
    "rent_df_19.describe()"
   ]
  },
  {
   "cell_type": "code",
   "execution_count": 17,
   "metadata": {
    "scrolled": true
   },
   "outputs": [
    {
     "data": {
      "text/plain": [
       "<AxesSubplot:>"
      ]
     },
     "execution_count": 17,
     "metadata": {},
     "output_type": "execute_result"
    },
    {
     "data": {
      "image/png": "[encoded data removed]",
      "text/plain": [
       "<Figure size 432x288 with 1 Axes>"
      ]
     },
     "metadata": {
      "needs_background": "light"
     },
     "output_type": "display_data"
    }
   ],
   "source": [
    "rent_df_19.boxplot(column=['1D', '15D', '1M', 'today'])"
   ]
  },
  {
   "cell_type": "markdown",
   "metadata": {},
   "source": [
    "## 2020"
   ]
  },
  {
   "cell_type": "code",
   "execution_count": 18,
   "metadata": {},
   "outputs": [
    {
     "data": {
      "text/html": [
       "<div>\n",
       "<style scoped>\n",
       "    .dataframe tbody tr th:only-of-type {\n",
       "        vertical-align: middle;\n",
       "    }\n",
       "\n",
       "    .dataframe tbody tr th {\n",
       "        vertical-align: top;\n",
       "    }\n",
       "\n",
       "    .dataframe thead th {\n",
       "        text-align: right;\n",
       "    }\n",
       "</style>\n",
       "<table border=\"1\" class=\"dataframe\">\n",
       "  <thead>\n",
       "    <tr style=\"text-align: right;\">\n",
       "      <th></th>\n",
       "      <th>1D</th>\n",
       "      <th>15D</th>\n",
       "      <th>1M</th>\n",
       "      <th>today</th>\n",
       "      <th>year</th>\n",
       "    </tr>\n",
       "  </thead>\n",
       "  <tbody>\n",
       "    <tr>\n",
       "      <th>count</th>\n",
       "      <td>27.000000</td>\n",
       "      <td>27.000000</td>\n",
       "      <td>27.000000</td>\n",
       "      <td>27.000000</td>\n",
       "      <td>27.0</td>\n",
       "    </tr>\n",
       "    <tr>\n",
       "      <th>mean</th>\n",
       "      <td>4.899335</td>\n",
       "      <td>6.625880</td>\n",
       "      <td>6.053839</td>\n",
       "      <td>17.264940</td>\n",
       "      <td>2020.0</td>\n",
       "    </tr>\n",
       "    <tr>\n",
       "      <th>std</th>\n",
       "      <td>11.071188</td>\n",
       "      <td>20.330873</td>\n",
       "      <td>34.456192</td>\n",
       "      <td>58.776145</td>\n",
       "      <td>0.0</td>\n",
       "    </tr>\n",
       "    <tr>\n",
       "      <th>min</th>\n",
       "      <td>-9.047619</td>\n",
       "      <td>-27.764706</td>\n",
       "      <td>-42.736842</td>\n",
       "      <td>-56.263158</td>\n",
       "      <td>2020.0</td>\n",
       "    </tr>\n",
       "    <tr>\n",
       "      <th>25%</th>\n",
       "      <td>-1.808279</td>\n",
       "      <td>-9.566014</td>\n",
       "      <td>-10.695767</td>\n",
       "      <td>-17.794737</td>\n",
       "      <td>2020.0</td>\n",
       "    </tr>\n",
       "    <tr>\n",
       "      <th>50%</th>\n",
       "      <td>0.000000</td>\n",
       "      <td>6.719368</td>\n",
       "      <td>3.490909</td>\n",
       "      <td>0.641711</td>\n",
       "      <td>2020.0</td>\n",
       "    </tr>\n",
       "    <tr>\n",
       "      <th>75%</th>\n",
       "      <td>13.289038</td>\n",
       "      <td>16.782580</td>\n",
       "      <td>12.768865</td>\n",
       "      <td>40.966967</td>\n",
       "      <td>2020.0</td>\n",
       "    </tr>\n",
       "    <tr>\n",
       "      <th>max</th>\n",
       "      <td>34.000000</td>\n",
       "      <td>57.777778</td>\n",
       "      <td>153.555556</td>\n",
       "      <td>244.100000</td>\n",
       "      <td>2020.0</td>\n",
       "    </tr>\n",
       "  </tbody>\n",
       "</table>\n",
       "</div>"
      ],
      "text/plain": [
       "              1D        15D          1M       today    year\n",
       "count  27.000000  27.000000   27.000000   27.000000    27.0\n",
       "mean    4.899335   6.625880    6.053839   17.264940  2020.0\n",
       "std    11.071188  20.330873   34.456192   58.776145     0.0\n",
       "min    -9.047619 -27.764706  -42.736842  -56.263158  2020.0\n",
       "25%    -1.808279  -9.566014  -10.695767  -17.794737  2020.0\n",
       "50%     0.000000   6.719368    3.490909    0.641711  2020.0\n",
       "75%    13.289038  16.782580   12.768865   40.966967  2020.0\n",
       "max    34.000000  57.777778  153.555556  244.100000  2020.0"
      ]
     },
     "execution_count": 18,
     "metadata": {},
     "output_type": "execute_result"
    }
   ],
   "source": [
    "rent_df_20 = pd.DataFrame(columns=[\"1D\", \"15D\", \"1M\", \"today\"])\n",
    "time = [1, 10, 20, -1]\n",
    "tickers_20 = ipos_2020[\"tickers\"]\n",
    "for t in tickers_20:\n",
    "    rent_df_20.loc[t] = [rentability(t, c) for c in time]\n",
    "rent_df_20['year'] = 2020\n",
    "rent_df_20.describe()"
   ]
  },
  {
   "cell_type": "code",
   "execution_count": 19,
   "metadata": {},
   "outputs": [
    {
     "data": {
      "text/plain": [
       "<AxesSubplot:>"
      ]
     },
     "execution_count": 19,
     "metadata": {},
     "output_type": "execute_result"
    },
    {
     "data": {
      "image/png": "[encoded data removed]",
      "text/plain": [
       "<Figure size 432x288 with 1 Axes>"
      ]
     },
     "metadata": {
      "needs_background": "light"
     },
     "output_type": "display_data"
    }
   ],
   "source": [
    "rent_df_20.boxplot(column=['1D', '15D', '1M', 'today'])"
   ]
  },
  {
   "cell_type": "markdown",
   "metadata": {},
   "source": [
    "## 2021"
   ]
  },
  {
   "cell_type": "code",
   "execution_count": 20,
   "metadata": {},
   "outputs": [
    {
     "data": {
      "text/html": [
       "<div>\n",
       "<style scoped>\n",
       "    .dataframe tbody tr th:only-of-type {\n",
       "        vertical-align: middle;\n",
       "    }\n",
       "\n",
       "    .dataframe tbody tr th {\n",
       "        vertical-align: top;\n",
       "    }\n",
       "\n",
       "    .dataframe thead th {\n",
       "        text-align: right;\n",
       "    }\n",
       "</style>\n",
       "<table border=\"1\" class=\"dataframe\">\n",
       "  <thead>\n",
       "    <tr style=\"text-align: right;\">\n",
       "      <th></th>\n",
       "      <th>1D</th>\n",
       "      <th>15D</th>\n",
       "      <th>today</th>\n",
       "      <th>year</th>\n",
       "    </tr>\n",
       "  </thead>\n",
       "  <tbody>\n",
       "    <tr>\n",
       "      <th>count</th>\n",
       "      <td>23.000000</td>\n",
       "      <td>23.000000</td>\n",
       "      <td>23.000000</td>\n",
       "      <td>23.0</td>\n",
       "    </tr>\n",
       "    <tr>\n",
       "      <th>mean</th>\n",
       "      <td>9.338796</td>\n",
       "      <td>6.204570</td>\n",
       "      <td>6.270272</td>\n",
       "      <td>2021.0</td>\n",
       "    </tr>\n",
       "    <tr>\n",
       "      <th>std</th>\n",
       "      <td>23.493599</td>\n",
       "      <td>17.800533</td>\n",
       "      <td>30.602507</td>\n",
       "      <td>0.0</td>\n",
       "    </tr>\n",
       "    <tr>\n",
       "      <th>min</th>\n",
       "      <td>-13.152053</td>\n",
       "      <td>-20.643729</td>\n",
       "      <td>-40.307692</td>\n",
       "      <td>2021.0</td>\n",
       "    </tr>\n",
       "    <tr>\n",
       "      <th>25%</th>\n",
       "      <td>-3.198499</td>\n",
       "      <td>-5.916157</td>\n",
       "      <td>-10.465796</td>\n",
       "      <td>2021.0</td>\n",
       "    </tr>\n",
       "    <tr>\n",
       "      <th>50%</th>\n",
       "      <td>2.391629</td>\n",
       "      <td>1.666667</td>\n",
       "      <td>2.636364</td>\n",
       "      <td>2021.0</td>\n",
       "    </tr>\n",
       "    <tr>\n",
       "      <th>75%</th>\n",
       "      <td>13.061183</td>\n",
       "      <td>12.416667</td>\n",
       "      <td>8.657754</td>\n",
       "      <td>2021.0</td>\n",
       "    </tr>\n",
       "    <tr>\n",
       "      <th>max</th>\n",
       "      <td>96.969697</td>\n",
       "      <td>52.020202</td>\n",
       "      <td>85.153846</td>\n",
       "      <td>2021.0</td>\n",
       "    </tr>\n",
       "  </tbody>\n",
       "</table>\n",
       "</div>"
      ],
      "text/plain": [
       "              1D        15D      today    year\n",
       "count  23.000000  23.000000  23.000000    23.0\n",
       "mean    9.338796   6.204570   6.270272  2021.0\n",
       "std    23.493599  17.800533  30.602507     0.0\n",
       "min   -13.152053 -20.643729 -40.307692  2021.0\n",
       "25%    -3.198499  -5.916157 -10.465796  2021.0\n",
       "50%     2.391629   1.666667   2.636364  2021.0\n",
       "75%    13.061183  12.416667   8.657754  2021.0\n",
       "max    96.969697  52.020202  85.153846  2021.0"
      ]
     },
     "execution_count": 20,
     "metadata": {},
     "output_type": "execute_result"
    }
   ],
   "source": [
    "rent_df_21 = pd.DataFrame(columns=[\"1D\", \"15D\",\"today\"])\n",
    "time = [1, 10,-1]\n",
    "tickers_21 = ipos_2021[\"tickers\"]\n",
    "for t in tickers_21:\n",
    "    rent_df_21.loc[t] = [rentability(t, c) for c in time]\n",
    "rent_df_21['year'] = 2021\n",
    "rent_df_21.describe()"
   ]
  },
  {
   "cell_type": "code",
   "execution_count": 21,
   "metadata": {},
   "outputs": [
    {
     "data": {
      "text/plain": [
       "<AxesSubplot:>"
      ]
     },
     "execution_count": 21,
     "metadata": {},
     "output_type": "execute_result"
    },
    {
     "data": {
      "image/png": "[encoded data removed]",
      "text/plain": [
       "<Figure size 432x288 with 1 Axes>"
      ]
     },
     "metadata": {
      "needs_background": "light"
     },
     "output_type": "display_data"
    }
   ],
   "source": [
    "rent_df_21.boxplot(column=['1D', '15D', 'today'])"
   ]
  },
  {
   "cell_type": "markdown",
   "metadata": {},
   "source": [
    "## 2015 to 2021"
   ]
  },
  {
   "cell_type": "code",
   "execution_count": 22,
   "metadata": {},
   "outputs": [
    {
     "data": {
      "text/html": [
       "<div>\n",
       "<style scoped>\n",
       "    .dataframe tbody tr th:only-of-type {\n",
       "        vertical-align: middle;\n",
       "    }\n",
       "\n",
       "    .dataframe tbody tr th {\n",
       "        vertical-align: top;\n",
       "    }\n",
       "\n",
       "    .dataframe thead th {\n",
       "        text-align: right;\n",
       "    }\n",
       "</style>\n",
       "<table border=\"1\" class=\"dataframe\">\n",
       "  <thead>\n",
       "    <tr style=\"text-align: right;\">\n",
       "      <th></th>\n",
       "      <th>1D</th>\n",
       "      <th>15D</th>\n",
       "      <th>today</th>\n",
       "    </tr>\n",
       "  </thead>\n",
       "  <tbody>\n",
       "    <tr>\n",
       "      <th>count</th>\n",
       "      <td>70.000000</td>\n",
       "      <td>70.000000</td>\n",
       "      <td>70.000000</td>\n",
       "    </tr>\n",
       "    <tr>\n",
       "      <th>mean</th>\n",
       "      <td>6.662619</td>\n",
       "      <td>5.785451</td>\n",
       "      <td>25.545258</td>\n",
       "    </tr>\n",
       "    <tr>\n",
       "      <th>std</th>\n",
       "      <td>17.016963</td>\n",
       "      <td>17.294561</td>\n",
       "      <td>76.780079</td>\n",
       "    </tr>\n",
       "    <tr>\n",
       "      <th>min</th>\n",
       "      <td>-27.586207</td>\n",
       "      <td>-27.764706</td>\n",
       "      <td>-77.936858</td>\n",
       "    </tr>\n",
       "    <tr>\n",
       "      <th>25%</th>\n",
       "      <td>-1.830065</td>\n",
       "      <td>-6.102941</td>\n",
       "      <td>-16.316478</td>\n",
       "    </tr>\n",
       "    <tr>\n",
       "      <th>50%</th>\n",
       "      <td>0.782526</td>\n",
       "      <td>4.237655</td>\n",
       "      <td>5.453293</td>\n",
       "    </tr>\n",
       "    <tr>\n",
       "      <th>75%</th>\n",
       "      <td>10.797448</td>\n",
       "      <td>14.775000</td>\n",
       "      <td>43.000000</td>\n",
       "    </tr>\n",
       "    <tr>\n",
       "      <th>max</th>\n",
       "      <td>96.969697</td>\n",
       "      <td>57.777778</td>\n",
       "      <td>409.878788</td>\n",
       "    </tr>\n",
       "  </tbody>\n",
       "</table>\n",
       "</div>"
      ],
      "text/plain": [
       "              1D        15D       today\n",
       "count  70.000000  70.000000   70.000000\n",
       "mean    6.662619   5.785451   25.545258\n",
       "std    17.016963  17.294561   76.780079\n",
       "min   -27.586207 -27.764706  -77.936858\n",
       "25%    -1.830065  -6.102941  -16.316478\n",
       "50%     0.782526   4.237655    5.453293\n",
       "75%    10.797448  14.775000   43.000000\n",
       "max    96.969697  57.777778  409.878788"
      ]
     },
     "execution_count": 22,
     "metadata": {},
     "output_type": "execute_result"
    }
   ],
   "source": [
    "rent_df = pd.DataFrame(columns=[\"1D\", \"15D\", \"today\"])\n",
    "time = [1, 10, -1]\n",
    "for t in tickers:\n",
    "    rent_df.loc[t] = [rentability(t, c) for c in time]\n",
    "rent_df.describe()"
   ]
  },
  {
   "cell_type": "code",
   "execution_count": 23,
   "metadata": {
    "scrolled": false
   },
   "outputs": [
    {
     "data": {
      "text/plain": [
       "<AxesSubplot:>"
      ]
     },
     "execution_count": 23,
     "metadata": {},
     "output_type": "execute_result"
    },
    {
     "data": {
      "image/png": "[encoded data removed]",
      "text/plain": [
       "<Figure size 432x288 with 1 Axes>"
      ]
     },
     "metadata": {
      "needs_background": "light"
     },
     "output_type": "display_data"
    }
   ],
   "source": [
    "rent_df.boxplot(column=['1D', '15D', 'today'])"
   ]
  }
 ],
 "metadata": {
  "kernelspec": {
   "display_name": "Python 3",
   "language": "python",
   "name": "python3"
  },
  "language_info": {
   "codemirror_mode": {
    "name": "ipython",
    "version": 3
   },
   "file_extension": ".py",
   "mimetype": "text/x-python",
   "name": "python",
   "nbconvert_exporter": "python",
   "pygments_lexer": "ipython3",
   "version": "3.8.5"
  }
 },
 "nbformat": 4,
 "nbformat_minor": 4
}
