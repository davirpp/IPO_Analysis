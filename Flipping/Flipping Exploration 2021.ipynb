{
 "cells": [
  {
   "cell_type": "code",
   "execution_count": 1,
   "metadata": {},
   "outputs": [],
   "source": [
    "import pandas as pd\n",
    "ipo_df = pd.read_csv(\"C:/Users/davir/Desktop/IPOS_JUST_21.csv\")"
   ]
  },
  {
   "cell_type": "code",
   "execution_count": 2,
   "metadata": {},
   "outputs": [],
   "source": [
    "tickers = [\"HBRE3\", \"VAMO3\", \"ESPA3\", \"INTB3\", \"MOSI3\", \"MBLY3\", \"JALL3\", \"POWE3\", \"CSED3\", \"OPCT3\", \n",
    "           \"ORVR3\", \"ELMD3\", \"BMOB3\", \"CMIN3\", \"WEST3\", \"MODL11\", \"MATD3\", \"BLAU3\", \"GGPS3\", \"SOJA3\",\n",
    "           \"RECV3\", \"CXSE3\"]\n",
    "abertura = [19.10, 26, 17.9, 15.75, 19.8, 21, 8.3, 18.02, 14, 11.15, 22, 17.81, 22, 8.5, 13, 20, 17.44, 40.14, \n",
    "            12, 9.9, 14.75, 9.67]\n",
    "dict_tickers = dict(zip(tickers, abertura))"
   ]
  },
  {
   "cell_type": "code",
   "execution_count": 3,
   "metadata": {},
   "outputs": [],
   "source": [
    "def rentability(ticker, dias_uteis, dict_ticker=dict_tickers, data=ipo_df):\n",
    "    ticker = ticker.upper()\n",
    "    df = data[data.codneg==ticker]\n",
    "    df = df.reset_index(drop=True)\n",
    "    variation = ((df[\"preult\"].iloc[dias_uteis-1]/dict_ticker[ticker])-1)*100\n",
    "    return variation"
   ]
  },
  {
   "cell_type": "code",
   "execution_count": 9,
   "metadata": {},
   "outputs": [],
   "source": [
    "rent_df = pd.DataFrame(columns=[\"1D\"])\n",
    "time = [1]\n",
    "for t in tickers:\n",
    "    rent_df.loc[t] = [rentability(t, c) for c in time]"
   ]
  },
  {
   "cell_type": "code",
   "execution_count": 10,
   "metadata": {},
   "outputs": [
    {
     "data": {
      "text/html": [
       "<div>\n",
       "<style scoped>\n",
       "    .dataframe tbody tr th:only-of-type {\n",
       "        vertical-align: middle;\n",
       "    }\n",
       "\n",
       "    .dataframe tbody tr th {\n",
       "        vertical-align: top;\n",
       "    }\n",
       "\n",
       "    .dataframe thead th {\n",
       "        text-align: right;\n",
       "    }\n",
       "</style>\n",
       "<table border=\"1\" class=\"dataframe\">\n",
       "  <thead>\n",
       "    <tr style=\"text-align: right;\">\n",
       "      <th></th>\n",
       "      <th>1D</th>\n",
       "    </tr>\n",
       "  </thead>\n",
       "  <tbody>\n",
       "    <tr>\n",
       "      <th>count</th>\n",
       "      <td>22.000000</td>\n",
       "    </tr>\n",
       "    <tr>\n",
       "      <th>mean</th>\n",
       "      <td>9.972465</td>\n",
       "    </tr>\n",
       "    <tr>\n",
       "      <th>std</th>\n",
       "      <td>23.844192</td>\n",
       "    </tr>\n",
       "    <tr>\n",
       "      <th>min</th>\n",
       "      <td>-13.152053</td>\n",
       "    </tr>\n",
       "    <tr>\n",
       "      <th>25%</th>\n",
       "      <td>-2.480603</td>\n",
       "    </tr>\n",
       "    <tr>\n",
       "      <th>50%</th>\n",
       "      <td>3.160654</td>\n",
       "    </tr>\n",
       "    <tr>\n",
       "      <th>75%</th>\n",
       "      <td>15.133944</td>\n",
       "    </tr>\n",
       "    <tr>\n",
       "      <th>max</th>\n",
       "      <td>96.969697</td>\n",
       "    </tr>\n",
       "  </tbody>\n",
       "</table>\n",
       "</div>"
      ],
      "text/plain": [
       "              1D\n",
       "count  22.000000\n",
       "mean    9.972465\n",
       "std    23.844192\n",
       "min   -13.152053\n",
       "25%    -2.480603\n",
       "50%     3.160654\n",
       "75%    15.133944\n",
       "max    96.969697"
      ]
     },
     "execution_count": 10,
     "metadata": {},
     "output_type": "execute_result"
    }
   ],
   "source": [
    "rent_df.describe()"
   ]
  },
  {
   "cell_type": "code",
   "execution_count": 11,
   "metadata": {},
   "outputs": [
    {
     "data": {
      "text/plain": [
       "<AxesSubplot:>"
      ]
     },
     "execution_count": 11,
     "metadata": {},
     "output_type": "execute_result"
    },
    {
     "data": {
      "image/png": "[encoded data removed]",
      "text/plain": [
       "<Figure size 432x288 with 1 Axes>"
      ]
     },
     "metadata": {
      "needs_background": "light"
     },
     "output_type": "display_data"
    }
   ],
   "source": [
    "rent_df.boxplot(column='1D')"
   ]
  }
 ],
 "metadata": {
  "kernelspec": {
   "display_name": "Python 3",
   "language": "python",
   "name": "python3"
  },
  "language_info": {
   "codemirror_mode": {
    "name": "ipython",
    "version": 3
   },
   "file_extension": ".py",
   "mimetype": "text/x-python",
   "name": "python",
   "nbconvert_exporter": "python",
   "pygments_lexer": "ipython3",
   "version": "3.8.5"
  }
 },
 "nbformat": 4,
 "nbformat_minor": 4
}
