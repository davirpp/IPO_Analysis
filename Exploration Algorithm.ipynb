{
 "cells": [
  {
   "cell_type": "code",
   "execution_count": 195,
   "metadata": {},
   "outputs": [],
   "source": [
    "import pandas as pd\n",
    "ipo_df = pd.read_csv(\"C:/Users/davir/Desktop/ipos_1521.csv\")\n",
    "precoipo = pd.read_csv(\"C:/Users/davir/Desktop/preco_ipo.csv\")"
   ]
  },
  {
   "cell_type": "code",
   "execution_count": 196,
   "metadata": {
    "scrolled": true
   },
   "outputs": [],
   "source": [
    "tickers = [\"PSVM11\" , \"WIZS3\" ,  \"AALR3\" , \"MOVI3\" , \"PARD3\", \"AZUL4\", \"CRFB3\", \"IRBR3\", \"OMGE3\", \"CAML3\", \n",
    "                  \"BKBR3\", \"BRDT3\", \"GNDI3\", \"HAPV3\", \"BIDI4\", \"SBFG3\",\"NEOE3\", \"VIVA3\", \"BMGB4\", \"CEAB3\", \n",
    "                  \"MTRE3\", \"LWSA3\", \"MDNE3\", \"PRNR3\", \"ALPK3\", \"AMBP3\", \"SOMA3\", \"DMVF3\", \"LJQQ3\", \"LAVV3\", \n",
    "                  \"PGMN3\", \"PETZ3\", \"PLPL3\", \"MELK3\", \"HBSA3\", \"CURY3\", \"BOAS3\", \"SEQL3\", \"GMAT3\", \"TFCO4\", \n",
    "                  \"CASH3\", \"ENJU3\", \"AERI3\", \"RRRP3\", \"AVLL3\", \"RDOR3\", \"NGRD3\"]\n",
    "abertura = list(precoipo['preco'])\n",
    "dict_tickers = dict(zip(tickers, abertura))"
   ]
  },
  {
   "cell_type": "code",
   "execution_count": 197,
   "metadata": {},
   "outputs": [],
   "source": [
    "def rentability(ticker, dias_uteis, dict_ticker=dict_tickers, data=ipo_df):\n",
    "    ticker = ticker.upper()\n",
    "    df = data[data.codneg==ticker]\n",
    "    df = df.reset_index(drop=True)\n",
    "    variation = ((df[\"preult\"].iloc[dias_uteis-1]/dict_ticker[ticker])-1)*100\n",
    "    return variation"
   ]
  },
  {
   "cell_type": "code",
   "execution_count": 210,
   "metadata": {},
   "outputs": [],
   "source": [
    "rent_df = pd.DataFrame(columns=[\"1D\", \"15D\",\"1M\", \"3M\", \"5M\"])\n",
    "time = [1, 10, 20, 60, 90]\n",
    "for t in tickers:\n",
    "    rent_df.loc[t] = [rentability(t, c) for c in time]\n",
    "        "
   ]
  },
  {
   "cell_type": "code",
   "execution_count": 211,
   "metadata": {
    "scrolled": true
   },
   "outputs": [
    {
     "data": {
      "text/html": [
       "<div>\n",
       "<style scoped>\n",
       "    .dataframe tbody tr th:only-of-type {\n",
       "        vertical-align: middle;\n",
       "    }\n",
       "\n",
       "    .dataframe tbody tr th {\n",
       "        vertical-align: top;\n",
       "    }\n",
       "\n",
       "    .dataframe thead th {\n",
       "        text-align: right;\n",
       "    }\n",
       "</style>\n",
       "<table border=\"1\" class=\"dataframe\">\n",
       "  <thead>\n",
       "    <tr style=\"text-align: right;\">\n",
       "      <th></th>\n",
       "      <th>1D</th>\n",
       "      <th>15D</th>\n",
       "      <th>1M</th>\n",
       "      <th>3M</th>\n",
       "      <th>5M</th>\n",
       "    </tr>\n",
       "  </thead>\n",
       "  <tbody>\n",
       "    <tr>\n",
       "      <th>count</th>\n",
       "      <td>47.000000</td>\n",
       "      <td>47.000000</td>\n",
       "      <td>47.000000</td>\n",
       "      <td>47.000000</td>\n",
       "      <td>47.000000</td>\n",
       "    </tr>\n",
       "    <tr>\n",
       "      <th>mean</th>\n",
       "      <td>5.353000</td>\n",
       "      <td>5.580350</td>\n",
       "      <td>5.953911</td>\n",
       "      <td>16.030965</td>\n",
       "      <td>16.667813</td>\n",
       "    </tr>\n",
       "    <tr>\n",
       "      <th>std</th>\n",
       "      <td>12.847432</td>\n",
       "      <td>17.233128</td>\n",
       "      <td>27.865802</td>\n",
       "      <td>48.551964</td>\n",
       "      <td>44.654702</td>\n",
       "    </tr>\n",
       "    <tr>\n",
       "      <th>min</th>\n",
       "      <td>-27.586207</td>\n",
       "      <td>-27.764706</td>\n",
       "      <td>-42.736842</td>\n",
       "      <td>-69.473684</td>\n",
       "      <td>-62.315789</td>\n",
       "    </tr>\n",
       "    <tr>\n",
       "      <th>25%</th>\n",
       "      <td>-1.688805</td>\n",
       "      <td>-5.735294</td>\n",
       "      <td>-8.093333</td>\n",
       "      <td>-12.095238</td>\n",
       "      <td>-13.566138</td>\n",
       "    </tr>\n",
       "    <tr>\n",
       "      <th>50%</th>\n",
       "      <td>0.458333</td>\n",
       "      <td>5.526316</td>\n",
       "      <td>3.490909</td>\n",
       "      <td>8.678021</td>\n",
       "      <td>10.170213</td>\n",
       "    </tr>\n",
       "    <tr>\n",
       "      <th>75%</th>\n",
       "      <td>10.180755</td>\n",
       "      <td>15.492157</td>\n",
       "      <td>13.765226</td>\n",
       "      <td>31.072727</td>\n",
       "      <td>38.970607</td>\n",
       "    </tr>\n",
       "    <tr>\n",
       "      <th>max</th>\n",
       "      <td>52.702703</td>\n",
       "      <td>57.777778</td>\n",
       "      <td>153.555556</td>\n",
       "      <td>224.500000</td>\n",
       "      <td>146.935484</td>\n",
       "    </tr>\n",
       "  </tbody>\n",
       "</table>\n",
       "</div>"
      ],
      "text/plain": [
       "              1D        15D          1M          3M          5M\n",
       "count  47.000000  47.000000   47.000000   47.000000   47.000000\n",
       "mean    5.353000   5.580350    5.953911   16.030965   16.667813\n",
       "std    12.847432  17.233128   27.865802   48.551964   44.654702\n",
       "min   -27.586207 -27.764706  -42.736842  -69.473684  -62.315789\n",
       "25%    -1.688805  -5.735294   -8.093333  -12.095238  -13.566138\n",
       "50%     0.458333   5.526316    3.490909    8.678021   10.170213\n",
       "75%    10.180755  15.492157   13.765226   31.072727   38.970607\n",
       "max    52.702703  57.777778  153.555556  224.500000  146.935484"
      ]
     },
     "execution_count": 211,
     "metadata": {},
     "output_type": "execute_result"
    }
   ],
   "source": [
    "rent_df.describe()"
   ]
  },
  {
   "cell_type": "code",
   "execution_count": 213,
   "metadata": {},
   "outputs": [
    {
     "data": {
      "text/plain": [
       "<AxesSubplot:>"
      ]
     },
     "execution_count": 213,
     "metadata": {},
     "output_type": "execute_result"
    },
    {
     "data": {
      "image/png": "[encoded data removed]",
      "text/plain": [
       "<Figure size 432x288 with 1 Axes>"
      ]
     },
     "metadata": {
      "needs_background": "light"
     },
     "output_type": "display_data"
    }
   ],
   "source": [
    "rent_df.boxplot(column=['1D', '15D', '1M', '3M', '5M'])"
   ]
  }
 ],
 "metadata": {
  "kernelspec": {
   "display_name": "Python 3",
   "language": "python",
   "name": "python3"
  },
  "language_info": {
   "codemirror_mode": {
    "name": "ipython",
    "version": 3
   },
   "file_extension": ".py",
   "mimetype": "text/x-python",
   "name": "python",
   "nbconvert_exporter": "python",
   "pygments_lexer": "ipython3",
   "version": "3.8.5"
  }
 },
 "nbformat": 4,
 "nbformat_minor": 4
}
