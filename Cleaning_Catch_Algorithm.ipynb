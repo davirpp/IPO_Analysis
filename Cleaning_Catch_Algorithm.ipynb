{
 "cells": [
  {
   "cell_type": "markdown",
   "metadata": {},
   "source": [
    "# Algorithm to parse .txt dataset to .csv"
   ]
  },
  {
   "cell_type": "markdown",
   "metadata": {},
   "source": [
    "Source: [B3](http://www.b3.com.br/pt_br/market-data-e-indices/servicos-de-dados/market-data/historico/mercado-a-vista/series-historicas/)\n",
    "\n",
    "Layout: [link](http://www.b3.com.br/data/files/33/67/B9/50/D84057102C784E47AC094EA8/SeriesHistoricas_Layout.pdf)"
   ]
  },
  {
   "cell_type": "markdown",
   "metadata": {},
   "source": [
    "### The cell below is used to get B3 data by sending the raw dataset and formatting it as DataFrame with labeled columns"
   ]
  },
  {
   "cell_type": "code",
   "execution_count": 1,
   "metadata": {},
   "outputs": [],
   "source": [
    "import pandas as pd"
   ]
  },
  {
   "cell_type": "code",
   "execution_count": 2,
   "metadata": {},
   "outputs": [
    {
     "name": "stdout",
     "output_type": "stream",
     "text": [
      "Insira o ano: 2021\n"
     ]
    }
   ],
   "source": [
    "year = input('Insira o ano: ')"
   ]
  },
  {
   "cell_type": "code",
   "execution_count": 3,
   "metadata": {},
   "outputs": [],
   "source": [
    "def b3_parser(year):\n",
    "    cota = open(f\"./datasets/COTAHIST_A{year}.txt\",'r') \n",
    "    head = cota.readline()\n",
    "    line = cota.readline()\n",
    "    all_data = []\n",
    "    size = [2, 8, 2, 12, 3, 12, 10, 3, 4, 13, 13, 13, 13, 13, 13, 13, 5, 18, 18, 13, 1, 8, 7, 13, 12, 3]\n",
    "    col = ['tipreg', 'date', 'codbdi', 'codneg', 'tpmerc', 'nomres', 'especi', 'prazot', 'modref', 'preabe', \n",
    "           'premax', 'premin', 'premed', 'preult', 'preofc', 'preofv', 'totneg', 'quatot', 'voltot', 'preexe', \n",
    "           'indopc', 'datven', 'fatcot', 'ptoexe', 'codisi', 'dismes']\n",
    "    #OBS.: The name of the columns is a pattern adopted by B3\n",
    "    \n",
    "    while line:\n",
    "        dt = []\n",
    "        x = 0\n",
    "        for s in size: \n",
    "            dt.append(line[x:x+s]) \n",
    "            x+=s \n",
    "        all_data.append(dt)\n",
    "        line = cota.readline()\n",
    "        if line.startswith('99'): \n",
    "            break\n",
    "\n",
    "    df = pd.DataFrame(data=all_data,columns=col)\n",
    "    col = ['tipreg',  'codbdi',  'tpmerc', 'totneg', 'quatot', 'indopc', 'datven', 'fatcot',  'dismes']\n",
    "    for c in col:\n",
    "        df[c]=pd.to_numeric(df[c], downcast=\"integer\")\n",
    "\n",
    "    col = ['preabe', 'premax', 'premin', 'premed', 'preult', 'preofc', 'preofv','voltot', 'preexe','ptoexe']\n",
    "    for c in col:\n",
    "        df[c] = df[c].astype(float)/100\n",
    "\n",
    "    col = ['date','datven']\n",
    "    for c in col:\n",
    "        df[c] = pd.to_datetime(df[c],format='%Y%m%d',errors='coerce')\n",
    "\n",
    "    col = ['codneg']\n",
    "    for c in col:\n",
    "        df[c] = df[c].str.strip()\n",
    "    \n",
    "    return df"
   ]
  },
  {
   "cell_type": "code",
   "execution_count": 4,
   "metadata": {},
   "outputs": [
    {
     "name": "stdout",
     "output_type": "stream",
     "text": [
      "Wall time: 20.7 s\n"
     ]
    }
   ],
   "source": [
    "%%time\n",
    "df = b3_parser(year)"
   ]
  },
  {
   "cell_type": "markdown",
   "metadata": {},
   "source": [
    "### Cell below serves to filter only by IPO's"
   ]
  },
  {
   "cell_type": "code",
   "execution_count": 5,
   "metadata": {},
   "outputs": [],
   "source": [
    "def listFilter(dataframe, valores):\n",
    "    return dataframe.loc[dataframe['codneg'].isin(valores)]\n",
    "\n",
    "list_ipos = [\"PSVM11\", \"PARC3\", \"WIZS3\",  \"AALR3\", \"MOVI3\", \"PARD3\", \"AZUL4\", \"CRFB3\", \"IRBR3\", \"OMGE3\", \"CAML3\", \n",
    "             \"BKBR3\", \"BRDT3\", \"GNDI3\", \"HAPV3\", \"BIDI4\", \"SBFG3\", \"CNTO3\",\"NEOE3\", \"VIVA3\", \"BMGB4\", \"CEAB3\", \n",
    "             \"MTRE3\", \"LWSA3\", \"MDNE3\", \"PRNR3\", \"ALPK3\", \"AMBP3\", \"SOMA3\", \"DMVF3\", \"LJQQ3\", \"LAVV3\", \"PGMN3\",\n",
    "             \"PETZ3\", \"PLPL3\", \"MELK3\", \"HBSA3\", \"CURY3\", \"BOAS3\", \"SEQL3\", \"GMAT3\", \"TFCO4\", \"CASH3\", \"ENJU3\", \n",
    "             \"AERI3\", \"RRRP3\", \"AVLL3\", \"RDOR3\", \"NGRD3\", \"HBRE3\", \"VAMO3\", \"ESPA3\", \"INTB3\", \"MOSI3\", \"MBLY3\", \n",
    "             \"JALL3\", \"POWE3\", \"CSED3\", \"OPCT3\", \"ORVR3\", \"ELMD3\", \"BMOB3\", \"CMIN3\", \"WEST3\", \"MODL11\", \"MATD3\", \n",
    "             \"BLAU3\", \"GGPS3\", \"SOJA3\", \"RECV3\", \"CXSE3\", \"ALLD3\"]\n",
    "\n",
    "df = listFilter(df, list_ipos)"
   ]
  },
  {
   "cell_type": "code",
   "execution_count": 6,
   "metadata": {
    "scrolled": false
   },
   "outputs": [
    {
     "data": {
      "text/html": [
       "<div>\n",
       "<style scoped>\n",
       "    .dataframe tbody tr th:only-of-type {\n",
       "        vertical-align: middle;\n",
       "    }\n",
       "\n",
       "    .dataframe tbody tr th {\n",
       "        vertical-align: top;\n",
       "    }\n",
       "\n",
       "    .dataframe thead th {\n",
       "        text-align: right;\n",
       "    }\n",
       "</style>\n",
       "<table border=\"1\" class=\"dataframe\">\n",
       "  <thead>\n",
       "    <tr style=\"text-align: right;\">\n",
       "      <th></th>\n",
       "      <th>date</th>\n",
       "      <th>codneg</th>\n",
       "      <th>preabe</th>\n",
       "      <th>preult</th>\n",
       "    </tr>\n",
       "  </thead>\n",
       "  <tbody>\n",
       "    <tr>\n",
       "      <th>47</th>\n",
       "      <td>2021-01-04</td>\n",
       "      <td>AALR3</td>\n",
       "      <td>11.13</td>\n",
       "      <td>11.13</td>\n",
       "    </tr>\n",
       "    <tr>\n",
       "      <th>56</th>\n",
       "      <td>2021-01-04</td>\n",
       "      <td>AERI3</td>\n",
       "      <td>10.39</td>\n",
       "      <td>10.53</td>\n",
       "    </tr>\n",
       "    <tr>\n",
       "      <th>62</th>\n",
       "      <td>2021-01-04</td>\n",
       "      <td>ALPK3</td>\n",
       "      <td>9.40</td>\n",
       "      <td>9.35</td>\n",
       "    </tr>\n",
       "    <tr>\n",
       "      <th>68</th>\n",
       "      <td>2021-01-04</td>\n",
       "      <td>AMBP3</td>\n",
       "      <td>26.51</td>\n",
       "      <td>26.85</td>\n",
       "    </tr>\n",
       "    <tr>\n",
       "      <th>82</th>\n",
       "      <td>2021-01-04</td>\n",
       "      <td>AVLL3</td>\n",
       "      <td>24.29</td>\n",
       "      <td>23.61</td>\n",
       "    </tr>\n",
       "  </tbody>\n",
       "</table>\n",
       "</div>"
      ],
      "text/plain": [
       "         date codneg  preabe  preult\n",
       "47 2021-01-04  AALR3   11.13   11.13\n",
       "56 2021-01-04  AERI3   10.39   10.53\n",
       "62 2021-01-04  ALPK3    9.40    9.35\n",
       "68 2021-01-04  AMBP3   26.51   26.85\n",
       "82 2021-01-04  AVLL3   24.29   23.61"
      ]
     },
     "execution_count": 6,
     "metadata": {},
     "output_type": "execute_result"
    }
   ],
   "source": [
    "# CELL TO CHOOSE DESIRABLE COLUMNS\n",
    "df = df[['date','codneg','preabe','preult']]\n",
    "df.head()"
   ]
  },
  {
   "cell_type": "code",
   "execution_count": 7,
   "metadata": {},
   "outputs": [],
   "source": [
    "# RESETING INDEX\n",
    "df = df.reset_index(drop=True)\n",
    "\n",
    "# TRANSFORMING THE DATAFRAME IN CSV \n",
    "df.to_csv(f\"COTAHIST_A{year}.csv\", index = False)"
   ]
  },
  {
   "cell_type": "markdown",
   "metadata": {},
   "source": [
    "**After taking csv of all the desired years, just unite them and order them by date**"
   ]
  }
 ],
 "metadata": {
  "kernelspec": {
   "display_name": "Python 3",
   "language": "python",
   "name": "python3"
  },
  "language_info": {
   "codemirror_mode": {
    "name": "ipython",
    "version": 3
   },
   "file_extension": ".py",
   "mimetype": "text/x-python",
   "name": "python",
   "nbconvert_exporter": "python",
   "pygments_lexer": "ipython3",
   "version": "3.8.5"
  }
 },
 "nbformat": 4,
 "nbformat_minor": 4
}
