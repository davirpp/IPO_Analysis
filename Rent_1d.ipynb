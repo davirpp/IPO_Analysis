{
 "cells": [
  {
   "cell_type": "code",
   "execution_count": 2,
   "metadata": {},
   "outputs": [],
   "source": [
    "import pandas as pd\n",
    "import seaborn as sns\n",
    "import matplotlib \n",
    "import matplotlib.pyplot as plt\n",
    "import matplotlib.ticker as plticker"
   ]
  },
  {
   "cell_type": "code",
   "execution_count": 3,
   "metadata": {},
   "outputs": [],
   "source": [
    "ipo_details = pd.read_excel(\"./datasets/IPO_details.xlsx\")\n",
    "ipo_df = pd.read_csv(\"./datasets/COTAHIST_A2015_2021.csv\")"
   ]
  },
  {
   "cell_type": "code",
   "execution_count": 4,
   "metadata": {},
   "outputs": [],
   "source": [
    "tickers = list(ipo_details.Tickers)\n",
    "openings = list(ipo_details.Preco_fixado)\n",
    "dict_tickers = dict(zip(tickers, openings))"
   ]
  },
  {
   "cell_type": "code",
   "execution_count": 5,
   "metadata": {},
   "outputs": [],
   "source": [
    "def rentability(ticker, dias_uteis, dict_ticker=dict_tickers, data=ipo_df):\n",
    "    ticker = ticker.upper()\n",
    "    df = data[data.codneg==ticker]\n",
    "    df = df.reset_index(drop=True)\n",
    "    variation = ((df[\"preult\"].iloc[dias_uteis-1]/dict_ticker[ticker])-1)*100\n",
    "    return variation"
   ]
  },
  {
   "cell_type": "code",
   "execution_count": 6,
   "metadata": {},
   "outputs": [],
   "source": [
    "list_rent_1d = []\n",
    "\n",
    "for t in tickers:\n",
    "    list_rent_1d.append(rentability(t, 1))\n",
    "\n",
    "dict_rent_1d = dict(zip(tickers,list_rent_1d))"
   ]
  },
  {
   "cell_type": "code",
   "execution_count": 7,
   "metadata": {
    "scrolled": true
   },
   "outputs": [
    {
     "data": {
      "text/plain": [
       "{'WIZS3': 12.733171127331723,\n",
       " 'AALR3': -4.0000000000000036,\n",
       " 'MOVI3': -2.6666666666666727,\n",
       " 'PARD3': 8.947368421052637,\n",
       " 'AZUL4': 6.666666666666665,\n",
       " 'CRFB3': -0.6666666666666599,\n",
       " 'IRBR3': 7.525697503671069,\n",
       " 'OMGE3': 5.769230769230771,\n",
       " 'CAML3': -0.11111111111110628,\n",
       " 'BKBR3': -1.9444444444444486,\n",
       " 'BRDT3': 6.666666666666665,\n",
       " 'GNDI3': 22.72727272727273,\n",
       " 'HAPV3': 22.765957446808514,\n",
       " 'BIDI4': -0.5405405405405461,\n",
       " 'SBFG3': -1.5999999999999903,\n",
       " 'NEOE3': 8.370607028754007,\n",
       " 'VIVA3': 0.45833333333333837,\n",
       " 'BMGB4': -27.586206896551722,\n",
       " 'CEAB3': 3.0909090909090997,\n",
       " 'MTRE3': 7.772020725388606,\n",
       " 'LWSA3': 19.42028985507247,\n",
       " 'MDNE3': -2.631578947368418,\n",
       " 'PRNR3': 34.00000000000001,\n",
       " 'ALPK3': -9.047619047619037,\n",
       " 'AMBP3': 18.38383838383839,\n",
       " 'SOMA3': 11.41414141414141,\n",
       " 'DMVF3': -8.352941176470585,\n",
       " 'LJQQ3': 1.1067193675889264,\n",
       " 'LAVV3': -5.263157894736848,\n",
       " 'PGMN3': 21.176470588235308,\n",
       " 'PETZ3': 21.818181818181827,\n",
       " 'PLPL3': 0.0,\n",
       " 'MELK3': -1.764705882352946,\n",
       " 'HBSA3': -1.851851851851849,\n",
       " 'CURY3': 1.1764705882353121,\n",
       " 'BOAS3': 15.16393442622952,\n",
       " 'SEQL3': -1.6129032258064613,\n",
       " 'GMAT3': -0.33444816053512794,\n",
       " 'TFCO4': 0.0,\n",
       " 'CASH3': -6.500000000000005,\n",
       " 'ENJU3': -4.780487804878053,\n",
       " 'AERI3': 17.117117117117118,\n",
       " 'RRRP3': -0.4761904761904856,\n",
       " 'AVLL3': 0.16949152542373724,\n",
       " 'RDOR3': 7.734806629834257,\n",
       " 'NGRD3': -1.5555555555555656,\n",
       " 'HBRE3': -1.0471204188481797,\n",
       " 'VAMO3': 19.42307692307692,\n",
       " 'ESPA3': 17.20670391061454,\n",
       " 'INTB3': 25.333333333333318,\n",
       " 'MOSI3': 96.96969696969697,\n",
       " 'MBLY3': 25.71428571428571,\n",
       " 'JALL3': 8.915662650602396,\n",
       " 'POWE3': -13.152053274139842,\n",
       " 'CSED3': -7.285714285714285,\n",
       " 'OPCT3': 0.0,\n",
       " 'ORVR3': 0.0,\n",
       " 'ELMD3': -1.7405951712521017,\n",
       " 'BMOB3': -2.7272727272727337,\n",
       " 'CMIN3': 5.882352941176472,\n",
       " 'WEST3': -8.461538461538453,\n",
       " 'ALLD3': -4.555555555555557,\n",
       " 'MATD3': -3.669724770642202,\n",
       " 'BLAU3': 2.391629297458886,\n",
       " 'GGPS3': 6.666666666666665,\n",
       " 'SOJA3': 46.46464646464645,\n",
       " 'CXSE3': 3.9296794208893537,\n",
       " 'MODL11': -7.296351824087955,\n",
       " 'RECV3': 5.830508474576268}"
      ]
     },
     "execution_count": 7,
     "metadata": {},
     "output_type": "execute_result"
    }
   ],
   "source": [
    "dict_rent_1d"
   ]
  },
  {
   "cell_type": "code",
   "execution_count": 8,
   "metadata": {
    "scrolled": false
   },
   "outputs": [
    {
     "data": {
      "text/html": [
       "<div>\n",
       "<style scoped>\n",
       "    .dataframe tbody tr th:only-of-type {\n",
       "        vertical-align: middle;\n",
       "    }\n",
       "\n",
       "    .dataframe tbody tr th {\n",
       "        vertical-align: top;\n",
       "    }\n",
       "\n",
       "    .dataframe thead th {\n",
       "        text-align: right;\n",
       "    }\n",
       "</style>\n",
       "<table border=\"1\" class=\"dataframe\">\n",
       "  <thead>\n",
       "    <tr style=\"text-align: right;\">\n",
       "      <th></th>\n",
       "      <th>Ticker</th>\n",
       "      <th>Rentabilidade_1D</th>\n",
       "    </tr>\n",
       "  </thead>\n",
       "  <tbody>\n",
       "    <tr>\n",
       "      <th>0</th>\n",
       "      <td>WIZS3</td>\n",
       "      <td>12.733171</td>\n",
       "    </tr>\n",
       "    <tr>\n",
       "      <th>1</th>\n",
       "      <td>AALR3</td>\n",
       "      <td>-4.000000</td>\n",
       "    </tr>\n",
       "    <tr>\n",
       "      <th>2</th>\n",
       "      <td>MOVI3</td>\n",
       "      <td>-2.666667</td>\n",
       "    </tr>\n",
       "    <tr>\n",
       "      <th>3</th>\n",
       "      <td>PARD3</td>\n",
       "      <td>8.947368</td>\n",
       "    </tr>\n",
       "    <tr>\n",
       "      <th>4</th>\n",
       "      <td>AZUL4</td>\n",
       "      <td>6.666667</td>\n",
       "    </tr>\n",
       "    <tr>\n",
       "      <th>...</th>\n",
       "      <td>...</td>\n",
       "      <td>...</td>\n",
       "    </tr>\n",
       "    <tr>\n",
       "      <th>64</th>\n",
       "      <td>GGPS3</td>\n",
       "      <td>6.666667</td>\n",
       "    </tr>\n",
       "    <tr>\n",
       "      <th>65</th>\n",
       "      <td>SOJA3</td>\n",
       "      <td>46.464646</td>\n",
       "    </tr>\n",
       "    <tr>\n",
       "      <th>66</th>\n",
       "      <td>CXSE3</td>\n",
       "      <td>3.929679</td>\n",
       "    </tr>\n",
       "    <tr>\n",
       "      <th>67</th>\n",
       "      <td>MODL11</td>\n",
       "      <td>-7.296352</td>\n",
       "    </tr>\n",
       "    <tr>\n",
       "      <th>68</th>\n",
       "      <td>RECV3</td>\n",
       "      <td>5.830508</td>\n",
       "    </tr>\n",
       "  </tbody>\n",
       "</table>\n",
       "<p>69 rows × 2 columns</p>\n",
       "</div>"
      ],
      "text/plain": [
       "    Ticker  Rentabilidade_1D\n",
       "0    WIZS3         12.733171\n",
       "1    AALR3         -4.000000\n",
       "2    MOVI3         -2.666667\n",
       "3    PARD3          8.947368\n",
       "4    AZUL4          6.666667\n",
       "..     ...               ...\n",
       "64   GGPS3          6.666667\n",
       "65   SOJA3         46.464646\n",
       "66   CXSE3          3.929679\n",
       "67  MODL11         -7.296352\n",
       "68   RECV3          5.830508\n",
       "\n",
       "[69 rows x 2 columns]"
      ]
     },
     "execution_count": 8,
     "metadata": {},
     "output_type": "execute_result"
    }
   ],
   "source": [
    "df_rent = pd.DataFrame.from_dict(dict_rent_1d, orient='index').rename(columns={0:'Rentabilidade_1D'})\n",
    "df_rent = df_rent.reset_index().rename(columns={'index':'Ticker'})\n",
    "df_rent"
   ]
  },
  {
   "cell_type": "code",
   "execution_count": 9,
   "metadata": {},
   "outputs": [],
   "source": [
    "df_rent = df_rent.sort_values(\"Rentabilidade_1D\", ascending = False).reset_index(drop=True)"
   ]
  },
  {
   "cell_type": "code",
   "execution_count": 10,
   "metadata": {},
   "outputs": [
    {
     "data": {
      "text/html": [
       "<div>\n",
       "<style scoped>\n",
       "    .dataframe tbody tr th:only-of-type {\n",
       "        vertical-align: middle;\n",
       "    }\n",
       "\n",
       "    .dataframe tbody tr th {\n",
       "        vertical-align: top;\n",
       "    }\n",
       "\n",
       "    .dataframe thead th {\n",
       "        text-align: right;\n",
       "    }\n",
       "</style>\n",
       "<table border=\"1\" class=\"dataframe\">\n",
       "  <thead>\n",
       "    <tr style=\"text-align: right;\">\n",
       "      <th></th>\n",
       "      <th>Ticker</th>\n",
       "      <th>Rentabilidade_1D</th>\n",
       "    </tr>\n",
       "  </thead>\n",
       "  <tbody>\n",
       "    <tr>\n",
       "      <th>0</th>\n",
       "      <td>MOSI3</td>\n",
       "      <td>96.969697</td>\n",
       "    </tr>\n",
       "    <tr>\n",
       "      <th>1</th>\n",
       "      <td>SOJA3</td>\n",
       "      <td>46.464646</td>\n",
       "    </tr>\n",
       "    <tr>\n",
       "      <th>2</th>\n",
       "      <td>PRNR3</td>\n",
       "      <td>34.000000</td>\n",
       "    </tr>\n",
       "    <tr>\n",
       "      <th>3</th>\n",
       "      <td>MBLY3</td>\n",
       "      <td>25.714286</td>\n",
       "    </tr>\n",
       "    <tr>\n",
       "      <th>4</th>\n",
       "      <td>INTB3</td>\n",
       "      <td>25.333333</td>\n",
       "    </tr>\n",
       "    <tr>\n",
       "      <th>5</th>\n",
       "      <td>HAPV3</td>\n",
       "      <td>22.765957</td>\n",
       "    </tr>\n",
       "    <tr>\n",
       "      <th>6</th>\n",
       "      <td>GNDI3</td>\n",
       "      <td>22.727273</td>\n",
       "    </tr>\n",
       "    <tr>\n",
       "      <th>7</th>\n",
       "      <td>PETZ3</td>\n",
       "      <td>21.818182</td>\n",
       "    </tr>\n",
       "    <tr>\n",
       "      <th>8</th>\n",
       "      <td>PGMN3</td>\n",
       "      <td>21.176471</td>\n",
       "    </tr>\n",
       "    <tr>\n",
       "      <th>9</th>\n",
       "      <td>VAMO3</td>\n",
       "      <td>19.423077</td>\n",
       "    </tr>\n",
       "    <tr>\n",
       "      <th>10</th>\n",
       "      <td>LWSA3</td>\n",
       "      <td>19.420290</td>\n",
       "    </tr>\n",
       "    <tr>\n",
       "      <th>11</th>\n",
       "      <td>AMBP3</td>\n",
       "      <td>18.383838</td>\n",
       "    </tr>\n",
       "    <tr>\n",
       "      <th>12</th>\n",
       "      <td>ESPA3</td>\n",
       "      <td>17.206704</td>\n",
       "    </tr>\n",
       "    <tr>\n",
       "      <th>13</th>\n",
       "      <td>AERI3</td>\n",
       "      <td>17.117117</td>\n",
       "    </tr>\n",
       "    <tr>\n",
       "      <th>14</th>\n",
       "      <td>BOAS3</td>\n",
       "      <td>15.163934</td>\n",
       "    </tr>\n",
       "  </tbody>\n",
       "</table>\n",
       "</div>"
      ],
      "text/plain": [
       "   Ticker  Rentabilidade_1D\n",
       "0   MOSI3         96.969697\n",
       "1   SOJA3         46.464646\n",
       "2   PRNR3         34.000000\n",
       "3   MBLY3         25.714286\n",
       "4   INTB3         25.333333\n",
       "5   HAPV3         22.765957\n",
       "6   GNDI3         22.727273\n",
       "7   PETZ3         21.818182\n",
       "8   PGMN3         21.176471\n",
       "9   VAMO3         19.423077\n",
       "10  LWSA3         19.420290\n",
       "11  AMBP3         18.383838\n",
       "12  ESPA3         17.206704\n",
       "13  AERI3         17.117117\n",
       "14  BOAS3         15.163934"
      ]
     },
     "execution_count": 10,
     "metadata": {},
     "output_type": "execute_result"
    }
   ],
   "source": [
    "df_rent.head(15)"
   ]
  },
  {
   "cell_type": "code",
   "execution_count": 11,
   "metadata": {},
   "outputs": [],
   "source": [
    "menor_m15 = entremenos15_e_menos10 = entremenos10_e_men5 = entremen5_e_0 = entre0_e_5 = entre5_e_10 = entre10_e_15 = maior_15 = 0\n",
    "for i in range(df_rent.index.max() + 1):\n",
    "    \n",
    "    if (df_rent.loc[i, 'Rentabilidade_1D']) < -15:\n",
    "        menor_m15 += 1\n",
    "        \n",
    "    elif(df_rent.loc[i, 'Rentabilidade_1D']) >= -15 and (df_rent.loc[i, 'Rentabilidade_1D']) < -10:\n",
    "        entremenos15_e_menos10 += 1\n",
    "        \n",
    "    elif(df_rent.loc[i, 'Rentabilidade_1D']) >= -10 and (df_rent.loc[i, 'Rentabilidade_1D']) <-5:\n",
    "        entremenos10_e_men5 += 1\n",
    "    \n",
    "    elif(df_rent.loc[i, 'Rentabilidade_1D']) >= -5 and (df_rent.loc[i, 'Rentabilidade_1D']) <0:\n",
    "        entremen5_e_0 += 1 \n",
    "    \n",
    "    elif(df_rent.loc[i, 'Rentabilidade_1D']) >= 0 and (df_rent.loc[i, 'Rentabilidade_1D']) <5:\n",
    "        entre0_e_5 += 1 \n",
    "        \n",
    "    elif(df_rent.loc[i, 'Rentabilidade_1D']) >= 5 and (df_rent.loc[i, 'Rentabilidade_1D']) <10:\n",
    "        entre5_e_10 += 1 \n",
    "        \n",
    "    elif(df_rent.loc[i, 'Rentabilidade_1D']) >= 10 and (df_rent.loc[i, 'Rentabilidade_1D']) <15:\n",
    "        entre10_e_15 += 1 \n",
    "        \n",
    "    elif(df_rent.loc[i, 'Rentabilidade_1D']) >15:\n",
    "        maior_15 += 1 "
   ]
  },
  {
   "cell_type": "code",
   "execution_count": 12,
   "metadata": {},
   "outputs": [],
   "source": [
    "df = pd.DataFrame({'< -15%': menor_m15, '-15% to -10%': entremenos15_e_menos10, '-10% to -5%': entremenos10_e_men5, \n",
    "                   '-5% to 0%': entremen5_e_0, '0% to 5%': entre0_e_5, '5% to 10%': entre5_e_10, \n",
    "                   '10% to 15%': entre10_e_15, '> 15%': maior_15}, index = [0])"
   ]
  },
  {
   "cell_type": "code",
   "execution_count": 13,
   "metadata": {},
   "outputs": [],
   "source": [
    "DF = df.T"
   ]
  },
  {
   "cell_type": "code",
   "execution_count": 14,
   "metadata": {},
   "outputs": [],
   "source": [
    "DF = DF.reset_index().rename(columns={'index':'Valor'})"
   ]
  },
  {
   "cell_type": "code",
   "execution_count": 15,
   "metadata": {},
   "outputs": [],
   "source": [
    "DF = DF.rename(columns={0:'Quantidade'})"
   ]
  },
  {
   "cell_type": "code",
   "execution_count": 18,
   "metadata": {},
   "outputs": [
    {
     "data": {
      "text/html": [
       "<div>\n",
       "<style scoped>\n",
       "    .dataframe tbody tr th:only-of-type {\n",
       "        vertical-align: middle;\n",
       "    }\n",
       "\n",
       "    .dataframe tbody tr th {\n",
       "        vertical-align: top;\n",
       "    }\n",
       "\n",
       "    .dataframe thead th {\n",
       "        text-align: right;\n",
       "    }\n",
       "</style>\n",
       "<table border=\"1\" class=\"dataframe\">\n",
       "  <thead>\n",
       "    <tr style=\"text-align: right;\">\n",
       "      <th></th>\n",
       "      <th>Valor</th>\n",
       "      <th>Quantidade</th>\n",
       "    </tr>\n",
       "  </thead>\n",
       "  <tbody>\n",
       "    <tr>\n",
       "      <th>0</th>\n",
       "      <td>&lt; -15%</td>\n",
       "      <td>1</td>\n",
       "    </tr>\n",
       "    <tr>\n",
       "      <th>1</th>\n",
       "      <td>-15% to -10%</td>\n",
       "      <td>1</td>\n",
       "    </tr>\n",
       "    <tr>\n",
       "      <th>2</th>\n",
       "      <td>-10% to -5%</td>\n",
       "      <td>7</td>\n",
       "    </tr>\n",
       "    <tr>\n",
       "      <th>3</th>\n",
       "      <td>-5% to 0%</td>\n",
       "      <td>20</td>\n",
       "    </tr>\n",
       "    <tr>\n",
       "      <th>4</th>\n",
       "      <td>0% to 5%</td>\n",
       "      <td>11</td>\n",
       "    </tr>\n",
       "    <tr>\n",
       "      <th>5</th>\n",
       "      <td>5% to 10%</td>\n",
       "      <td>12</td>\n",
       "    </tr>\n",
       "    <tr>\n",
       "      <th>6</th>\n",
       "      <td>10% to 15%</td>\n",
       "      <td>2</td>\n",
       "    </tr>\n",
       "    <tr>\n",
       "      <th>7</th>\n",
       "      <td>&gt; 15%</td>\n",
       "      <td>15</td>\n",
       "    </tr>\n",
       "  </tbody>\n",
       "</table>\n",
       "</div>"
      ],
      "text/plain": [
       "          Valor  Quantidade\n",
       "0        < -15%           1\n",
       "1  -15% to -10%           1\n",
       "2   -10% to -5%           7\n",
       "3     -5% to 0%          20\n",
       "4      0% to 5%          11\n",
       "5     5% to 10%          12\n",
       "6    10% to 15%           2\n",
       "7         > 15%          15"
      ]
     },
     "execution_count": 18,
     "metadata": {},
     "output_type": "execute_result"
    }
   ],
   "source": [
    "DF"
   ]
  },
  {
   "cell_type": "code",
   "execution_count": 17,
   "metadata": {},
   "outputs": [
    {
     "data": {
      "image/png": "[encoded data removed]",
      "text/plain": [
       "<Figure size 720x504 with 1 Axes>"
      ]
     },
     "metadata": {},
     "output_type": "display_data"
    }
   ],
   "source": [
    "sns.set(rc={'figure.figsize':(10,7)})\n",
    "sns.set_palette('bright')\n",
    "plot = sns.barplot(data=DF, x='Valor', y='Quantidade')\n",
    "for index, row in DF.iterrows():\n",
    "    plot.text(row.name, row.Quantidade+0.175, round(row.Quantidade,2), color=\"black\", ha=\"center\")"
   ]
  }
 ],
 "metadata": {
  "kernelspec": {
   "display_name": "Python 3",
   "language": "python",
   "name": "python3"
  },
  "language_info": {
   "codemirror_mode": {
    "name": "ipython",
    "version": 3
   },
   "file_extension": ".py",
   "mimetype": "text/x-python",
   "name": "python",
   "nbconvert_exporter": "python",
   "pygments_lexer": "ipython3",
   "version": "3.8.5"
  }
 },
 "nbformat": 4,
 "nbformat_minor": 4
}
