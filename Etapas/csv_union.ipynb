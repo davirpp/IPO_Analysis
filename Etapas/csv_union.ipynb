{
 "cells": [
  {
   "cell_type": "code",
   "execution_count": 1,
   "metadata": {},
   "outputs": [],
   "source": [
    "import pandas as pd\n",
    "import numpy as np"
   ]
  },
  {
   "cell_type": "code",
   "execution_count": 2,
   "metadata": {},
   "outputs": [
    {
     "name": "stdout",
     "output_type": "stream",
     "text": [
      "Insira o ano Inicial: 2015\n",
      "Insira o ano Final: 2021\n"
     ]
    }
   ],
   "source": [
    "year_i = int(input('Insira o ano Inicial: '))\n",
    "year_f = int(input('Insira o ano Final: '))"
   ]
  },
  {
   "cell_type": "code",
   "execution_count": 3,
   "metadata": {},
   "outputs": [],
   "source": [
    "df = pd.read_csv(f\"./datasets/COTAHIST_A{year_i}.csv\")\n",
    "for year in range(year_i+1, year_f+1):\n",
    "    \n",
    "    df = pd.concat([df, pd.read_csv(f\"./datasets/COTAHIST_A{year}.csv\")])"
   ]
  },
  {
   "cell_type": "code",
   "execution_count": 4,
   "metadata": {
    "scrolled": true
   },
   "outputs": [],
   "source": [
    "df.loc[df.codneg=='PARC3', 'codneg'] = 'WIZS3'\n",
    "df.loc[df.codneg=='CNTO3', 'codneg'] = 'SBFG3'"
   ]
  },
  {
   "cell_type": "code",
   "execution_count": 5,
   "metadata": {},
   "outputs": [],
   "source": [
    "# RESETING INDEX\n",
    "df = df.reset_index(drop=True)\n",
    "\n",
    "# TRANSFORMING THE DATAFRAME IN CSV \n",
    "df.to_csv(f\"COTAHIST_A{year_i}_{year_f}.csv\", index = False)"
   ]
  }
 ],
 "metadata": {
  "kernelspec": {
   "display_name": "Python 3",
   "language": "python",
   "name": "python3"
  },
  "language_info": {
   "codemirror_mode": {
    "name": "ipython",
    "version": 3
   },
   "file_extension": ".py",
   "mimetype": "text/x-python",
   "name": "python",
   "nbconvert_exporter": "python",
   "pygments_lexer": "ipython3",
   "version": "3.8.5"
  }
 },
 "nbformat": 4,
 "nbformat_minor": 4
}
