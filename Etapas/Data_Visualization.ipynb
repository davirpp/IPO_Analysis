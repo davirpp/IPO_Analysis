{
 "cells": [
  {
   "cell_type": "markdown",
   "metadata": {},
   "source": [
    "# Data Visualization"
   ]
  },
  {
   "cell_type": "code",
   "execution_count": 1,
   "metadata": {
    "scrolled": false
   },
   "outputs": [],
   "source": [
    "import pandas as pd\n",
    "import seaborn as sns\n",
    "import matplotlib \n",
    "import matplotlib.pyplot as plt\n",
    "import matplotlib.ticker as plticker\n",
    "import numpy as np\n",
    "ipo_df = pd.read_csv(\"C:/Users/davir/davigit/Projeto_Intro_CD/datasets/COTAHIST_A2015_2021.csv\")\n",
    "ipo_details = pd.read_excel(\"C:/Users/davir/davigit/Projeto_Intro_CD/datasets/IPO_details.xlsx\")\n",
    "cota_ibov = pd.read_csv(\"C:/Users/davir/davigit/Projeto_Intro_CD/datasets/COTAHIST_IBOV.csv\")\n",
    "sns.set_palette('Dark2')"
   ]
  },
  {
   "cell_type": "code",
   "execution_count": 3,
   "metadata": {},
   "outputs": [],
   "source": [
    "tickers = list(ipo_details.Tickers)\n",
    "openings = list(ipo_details['Preco_fixado'])\n",
    "dict_tickers = dict(zip(tickers, openings))"
   ]
  },
  {
   "cell_type": "code",
   "execution_count": 4,
   "metadata": {},
   "outputs": [
    {
     "data": {
      "text/html": [
       "<div>\n",
       "<style scoped>\n",
       "    .dataframe tbody tr th:only-of-type {\n",
       "        vertical-align: middle;\n",
       "    }\n",
       "\n",
       "    .dataframe tbody tr th {\n",
       "        vertical-align: top;\n",
       "    }\n",
       "\n",
       "    .dataframe thead th {\n",
       "        text-align: right;\n",
       "    }\n",
       "</style>\n",
       "<table border=\"1\" class=\"dataframe\">\n",
       "  <thead>\n",
       "    <tr style=\"text-align: right;\">\n",
       "      <th></th>\n",
       "      <th>tickers</th>\n",
       "      <th>date</th>\n",
       "    </tr>\n",
       "  </thead>\n",
       "  <tbody>\n",
       "    <tr>\n",
       "      <th>0</th>\n",
       "      <td>WIZS3</td>\n",
       "      <td>2015-06-05</td>\n",
       "    </tr>\n",
       "    <tr>\n",
       "      <th>1</th>\n",
       "      <td>AALR3</td>\n",
       "      <td>2016-10-28</td>\n",
       "    </tr>\n",
       "    <tr>\n",
       "      <th>2</th>\n",
       "      <td>MOVI3</td>\n",
       "      <td>2017-02-08</td>\n",
       "    </tr>\n",
       "    <tr>\n",
       "      <th>3</th>\n",
       "      <td>PARD3</td>\n",
       "      <td>2017-02-14</td>\n",
       "    </tr>\n",
       "    <tr>\n",
       "      <th>4</th>\n",
       "      <td>AZUL4</td>\n",
       "      <td>2017-04-11</td>\n",
       "    </tr>\n",
       "    <tr>\n",
       "      <th>...</th>\n",
       "      <td>...</td>\n",
       "      <td>...</td>\n",
       "    </tr>\n",
       "    <tr>\n",
       "      <th>64</th>\n",
       "      <td>GGPS3</td>\n",
       "      <td>2021-04-26</td>\n",
       "    </tr>\n",
       "    <tr>\n",
       "      <th>65</th>\n",
       "      <td>SOJA3</td>\n",
       "      <td>2021-04-29</td>\n",
       "    </tr>\n",
       "    <tr>\n",
       "      <th>66</th>\n",
       "      <td>CXSE3</td>\n",
       "      <td>2021-04-29</td>\n",
       "    </tr>\n",
       "    <tr>\n",
       "      <th>67</th>\n",
       "      <td>MODL11</td>\n",
       "      <td>2021-04-30</td>\n",
       "    </tr>\n",
       "    <tr>\n",
       "      <th>68</th>\n",
       "      <td>RECV3</td>\n",
       "      <td>2021-05-05</td>\n",
       "    </tr>\n",
       "  </tbody>\n",
       "</table>\n",
       "<p>69 rows × 2 columns</p>\n",
       "</div>"
      ],
      "text/plain": [
       "   tickers       date\n",
       "0    WIZS3 2015-06-05\n",
       "1    AALR3 2016-10-28\n",
       "2    MOVI3 2017-02-08\n",
       "3    PARD3 2017-02-14\n",
       "4    AZUL4 2017-04-11\n",
       "..     ...        ...\n",
       "64   GGPS3 2021-04-26\n",
       "65   SOJA3 2021-04-29\n",
       "66   CXSE3 2021-04-29\n",
       "67  MODL11 2021-04-30\n",
       "68   RECV3 2021-05-05\n",
       "\n",
       "[69 rows x 2 columns]"
      ]
     },
     "execution_count": 4,
     "metadata": {},
     "output_type": "execute_result"
    }
   ],
   "source": [
    "date_list = []\n",
    "for ticker in tickers:\n",
    "    df = ipo_df[ipo_df.codneg==ticker]\n",
    "    date_list.append(df[\"date\"].iloc[0])\n",
    "    \n",
    "date_ipo_df = pd.DataFrame(list(zip(tickers, date_list)), columns=[\"tickers\", \"date\"])\n",
    "date_ipo_df[\"date\"] = pd.to_datetime(date_ipo_df[\"date\"], format='%Y-%m-%d')\n",
    "date_ipo_df"
   ]
  },
  {
   "cell_type": "code",
   "execution_count": 5,
   "metadata": {},
   "outputs": [
    {
     "data": {
      "text/html": [
       "<div>\n",
       "<style scoped>\n",
       "    .dataframe tbody tr th:only-of-type {\n",
       "        vertical-align: middle;\n",
       "    }\n",
       "\n",
       "    .dataframe tbody tr th {\n",
       "        vertical-align: top;\n",
       "    }\n",
       "\n",
       "    .dataframe thead th {\n",
       "        text-align: right;\n",
       "    }\n",
       "</style>\n",
       "<table border=\"1\" class=\"dataframe\">\n",
       "  <thead>\n",
       "    <tr style=\"text-align: right;\">\n",
       "      <th></th>\n",
       "      <th>Year</th>\n",
       "      <th>Quantity</th>\n",
       "    </tr>\n",
       "  </thead>\n",
       "  <tbody>\n",
       "    <tr>\n",
       "      <th>0</th>\n",
       "      <td>2015</td>\n",
       "      <td>1</td>\n",
       "    </tr>\n",
       "    <tr>\n",
       "      <th>1</th>\n",
       "      <td>2016</td>\n",
       "      <td>1</td>\n",
       "    </tr>\n",
       "    <tr>\n",
       "      <th>2</th>\n",
       "      <td>2017</td>\n",
       "      <td>9</td>\n",
       "    </tr>\n",
       "    <tr>\n",
       "      <th>3</th>\n",
       "      <td>2018</td>\n",
       "      <td>3</td>\n",
       "    </tr>\n",
       "    <tr>\n",
       "      <th>4</th>\n",
       "      <td>2019</td>\n",
       "      <td>5</td>\n",
       "    </tr>\n",
       "    <tr>\n",
       "      <th>5</th>\n",
       "      <td>2020</td>\n",
       "      <td>27</td>\n",
       "    </tr>\n",
       "    <tr>\n",
       "      <th>6</th>\n",
       "      <td>2021</td>\n",
       "      <td>23</td>\n",
       "    </tr>\n",
       "  </tbody>\n",
       "</table>\n",
       "</div>"
      ],
      "text/plain": [
       "   Year  Quantity\n",
       "0  2015         1\n",
       "1  2016         1\n",
       "2  2017         9\n",
       "3  2018         3\n",
       "4  2019         5\n",
       "5  2020        27\n",
       "6  2021        23"
      ]
     },
     "execution_count": 5,
     "metadata": {},
     "output_type": "execute_result"
    }
   ],
   "source": [
    "lista = []\n",
    "for i in range(2015, 2022):\n",
    "    quant = date_ipo_df[date_ipo_df['date'].dt.year == i].count()[0]\n",
    "    lista.append(quant)\n",
    "\n",
    "ipos_per_year = list(zip([str(i) for i in range(2015, 2022)], lista))\n",
    "ipos_per_year = pd.DataFrame(ipos_per_year, columns=[\"Year\", \"Quantity\"])\n",
    "ipos_per_year"
   ]
  },
  {
   "cell_type": "code",
   "execution_count": 6,
   "metadata": {},
   "outputs": [],
   "source": [
    "def rentability(ticker, dias_uteis, dict_ticker=dict_tickers, data=ipo_df):\n",
    "    ticker = ticker.upper()\n",
    "    df = data[data.codneg==ticker]\n",
    "    df = df.reset_index(drop=True)\n",
    "    variation = ((df[\"preult\"].iloc[dias_uteis-1]/dict_ticker[ticker])-1)*100\n",
    "    return variation"
   ]
  },
  {
   "cell_type": "code",
   "execution_count": 7,
   "metadata": {},
   "outputs": [],
   "source": [
    "rent_1d = pd.DataFrame(columns=[\"1D\"])\n",
    "time = [1]\n",
    "for t in tickers:\n",
    "    rent_1d.loc[t] = [rentability(t, c) for c in time]    "
   ]
  },
  {
   "cell_type": "code",
   "execution_count": 8,
   "metadata": {
    "scrolled": false
   },
   "outputs": [
    {
     "data": {
      "text/html": [
       "<div>\n",
       "<style scoped>\n",
       "    .dataframe tbody tr th:only-of-type {\n",
       "        vertical-align: middle;\n",
       "    }\n",
       "\n",
       "    .dataframe tbody tr th {\n",
       "        vertical-align: top;\n",
       "    }\n",
       "\n",
       "    .dataframe thead th {\n",
       "        text-align: right;\n",
       "    }\n",
       "</style>\n",
       "<table border=\"1\" class=\"dataframe\">\n",
       "  <thead>\n",
       "    <tr style=\"text-align: right;\">\n",
       "      <th></th>\n",
       "      <th>1D</th>\n",
       "    </tr>\n",
       "  </thead>\n",
       "  <tbody>\n",
       "    <tr>\n",
       "      <th>WIZS3</th>\n",
       "      <td>12.733171</td>\n",
       "    </tr>\n",
       "    <tr>\n",
       "      <th>AALR3</th>\n",
       "      <td>-4.000000</td>\n",
       "    </tr>\n",
       "    <tr>\n",
       "      <th>MOVI3</th>\n",
       "      <td>-2.666667</td>\n",
       "    </tr>\n",
       "    <tr>\n",
       "      <th>PARD3</th>\n",
       "      <td>8.947368</td>\n",
       "    </tr>\n",
       "    <tr>\n",
       "      <th>AZUL4</th>\n",
       "      <td>6.666667</td>\n",
       "    </tr>\n",
       "    <tr>\n",
       "      <th>...</th>\n",
       "      <td>...</td>\n",
       "    </tr>\n",
       "    <tr>\n",
       "      <th>GGPS3</th>\n",
       "      <td>6.666667</td>\n",
       "    </tr>\n",
       "    <tr>\n",
       "      <th>SOJA3</th>\n",
       "      <td>46.464646</td>\n",
       "    </tr>\n",
       "    <tr>\n",
       "      <th>CXSE3</th>\n",
       "      <td>3.929679</td>\n",
       "    </tr>\n",
       "    <tr>\n",
       "      <th>MODL11</th>\n",
       "      <td>-7.296352</td>\n",
       "    </tr>\n",
       "    <tr>\n",
       "      <th>RECV3</th>\n",
       "      <td>5.830508</td>\n",
       "    </tr>\n",
       "  </tbody>\n",
       "</table>\n",
       "<p>69 rows × 1 columns</p>\n",
       "</div>"
      ],
      "text/plain": [
       "               1D\n",
       "WIZS3   12.733171\n",
       "AALR3   -4.000000\n",
       "MOVI3   -2.666667\n",
       "PARD3    8.947368\n",
       "AZUL4    6.666667\n",
       "...           ...\n",
       "GGPS3    6.666667\n",
       "SOJA3   46.464646\n",
       "CXSE3    3.929679\n",
       "MODL11  -7.296352\n",
       "RECV3    5.830508\n",
       "\n",
       "[69 rows x 1 columns]"
      ]
     },
     "execution_count": 8,
     "metadata": {},
     "output_type": "execute_result"
    }
   ],
   "source": [
    "rent_1d"
   ]
  },
  {
   "cell_type": "markdown",
   "metadata": {},
   "source": [
    "## Quantity of IPO's per Year"
   ]
  },
  {
   "cell_type": "code",
   "execution_count": 9,
   "metadata": {
    "scrolled": false
   },
   "outputs": [
    {
     "data": {
      "image/png": "[encoded data removed]",
      "text/plain": [
       "<Figure size 576x360 with 1 Axes>"
      ]
     },
     "metadata": {},
     "output_type": "display_data"
    }
   ],
   "source": [
    "sns.set(rc={'figure.figsize':(8,5)})\n",
    "sns.set_palette('bright')\n",
    "quant_year_b = sns.barplot(x=\"Year\", y=\"Quantity\", data=ipos_per_year)\n",
    "for index, row in ipos_per_year.iterrows():\n",
    "    quant_year_b.text(row.name, row.Quantity+0.175, round(row.Quantity,2), color=\"black\", ha=\"center\")"
   ]
  },
  {
   "cell_type": "markdown",
   "metadata": {},
   "source": [
    "## IPO ETF"
   ]
  },
  {
   "cell_type": "code",
   "execution_count": 10,
   "metadata": {},
   "outputs": [],
   "source": [
    "rent_by_day = ipo_df.pivot_table(values='preult', index='date', columns='codneg')\n",
    "for c in rent_by_day:\n",
    "    rent_by_day[c] = ((rent_by_day[c] / dict_tickers[c]) - 1)* 100\n",
    "\n",
    "rent_by_day_mean = rent_by_day.mean(axis=1)\n",
    "rent_by_day_mean = pd.DataFrame(data=rent_by_day_mean, columns=['variation'])\n",
    "rent_by_day_mean = rent_by_day_mean.reset_index()"
   ]
  },
  {
   "cell_type": "code",
   "execution_count": 11,
   "metadata": {},
   "outputs": [
    {
     "data": {
      "text/html": [
       "<div>\n",
       "<style scoped>\n",
       "    .dataframe tbody tr th:only-of-type {\n",
       "        vertical-align: middle;\n",
       "    }\n",
       "\n",
       "    .dataframe tbody tr th {\n",
       "        vertical-align: top;\n",
       "    }\n",
       "\n",
       "    .dataframe thead th {\n",
       "        text-align: right;\n",
       "    }\n",
       "</style>\n",
       "<table border=\"1\" class=\"dataframe\">\n",
       "  <thead>\n",
       "    <tr style=\"text-align: right;\">\n",
       "      <th></th>\n",
       "      <th>date</th>\n",
       "      <th>variation</th>\n",
       "    </tr>\n",
       "  </thead>\n",
       "  <tbody>\n",
       "    <tr>\n",
       "      <th>0</th>\n",
       "      <td>2015-06-05</td>\n",
       "      <td>12.733171</td>\n",
       "    </tr>\n",
       "    <tr>\n",
       "      <th>1</th>\n",
       "      <td>2015-06-08</td>\n",
       "      <td>11.759935</td>\n",
       "    </tr>\n",
       "    <tr>\n",
       "      <th>2</th>\n",
       "      <td>2015-06-09</td>\n",
       "      <td>10.705596</td>\n",
       "    </tr>\n",
       "    <tr>\n",
       "      <th>3</th>\n",
       "      <td>2015-06-10</td>\n",
       "      <td>13.544201</td>\n",
       "    </tr>\n",
       "    <tr>\n",
       "      <th>4</th>\n",
       "      <td>2015-06-11</td>\n",
       "      <td>15.652879</td>\n",
       "    </tr>\n",
       "    <tr>\n",
       "      <th>...</th>\n",
       "      <td>...</td>\n",
       "      <td>...</td>\n",
       "    </tr>\n",
       "    <tr>\n",
       "      <th>1481</th>\n",
       "      <td>2021-06-02</td>\n",
       "      <td>28.953575</td>\n",
       "    </tr>\n",
       "    <tr>\n",
       "      <th>1482</th>\n",
       "      <td>2021-06-04</td>\n",
       "      <td>29.287305</td>\n",
       "    </tr>\n",
       "    <tr>\n",
       "      <th>1483</th>\n",
       "      <td>2021-06-07</td>\n",
       "      <td>29.399834</td>\n",
       "    </tr>\n",
       "    <tr>\n",
       "      <th>1484</th>\n",
       "      <td>2021-06-08</td>\n",
       "      <td>29.445582</td>\n",
       "    </tr>\n",
       "    <tr>\n",
       "      <th>1485</th>\n",
       "      <td>2021-06-09</td>\n",
       "      <td>29.692665</td>\n",
       "    </tr>\n",
       "  </tbody>\n",
       "</table>\n",
       "<p>1486 rows × 2 columns</p>\n",
       "</div>"
      ],
      "text/plain": [
       "            date  variation\n",
       "0     2015-06-05  12.733171\n",
       "1     2015-06-08  11.759935\n",
       "2     2015-06-09  10.705596\n",
       "3     2015-06-10  13.544201\n",
       "4     2015-06-11  15.652879\n",
       "...          ...        ...\n",
       "1481  2021-06-02  28.953575\n",
       "1482  2021-06-04  29.287305\n",
       "1483  2021-06-07  29.399834\n",
       "1484  2021-06-08  29.445582\n",
       "1485  2021-06-09  29.692665\n",
       "\n",
       "[1486 rows x 2 columns]"
      ]
     },
     "execution_count": 11,
     "metadata": {},
     "output_type": "execute_result"
    }
   ],
   "source": [
    "rent_by_day_mean"
   ]
  },
  {
   "cell_type": "code",
   "execution_count": 12,
   "metadata": {},
   "outputs": [
    {
     "data": {
      "text/html": [
       "<div>\n",
       "<style scoped>\n",
       "    .dataframe tbody tr th:only-of-type {\n",
       "        vertical-align: middle;\n",
       "    }\n",
       "\n",
       "    .dataframe tbody tr th {\n",
       "        vertical-align: top;\n",
       "    }\n",
       "\n",
       "    .dataframe thead th {\n",
       "        text-align: right;\n",
       "    }\n",
       "</style>\n",
       "<table border=\"1\" class=\"dataframe\">\n",
       "  <thead>\n",
       "    <tr style=\"text-align: right;\">\n",
       "      <th>codneg</th>\n",
       "      <th>AALR3</th>\n",
       "      <th>AERI3</th>\n",
       "      <th>ALLD3</th>\n",
       "      <th>ALPK3</th>\n",
       "      <th>AMBP3</th>\n",
       "      <th>AVLL3</th>\n",
       "      <th>AZUL4</th>\n",
       "      <th>BIDI4</th>\n",
       "      <th>BKBR3</th>\n",
       "      <th>BLAU3</th>\n",
       "      <th>...</th>\n",
       "      <th>RRRP3</th>\n",
       "      <th>SBFG3</th>\n",
       "      <th>SEQL3</th>\n",
       "      <th>SOJA3</th>\n",
       "      <th>SOMA3</th>\n",
       "      <th>TFCO4</th>\n",
       "      <th>VAMO3</th>\n",
       "      <th>VIVA3</th>\n",
       "      <th>WEST3</th>\n",
       "      <th>WIZS3</th>\n",
       "    </tr>\n",
       "    <tr>\n",
       "      <th>date</th>\n",
       "      <th></th>\n",
       "      <th></th>\n",
       "      <th></th>\n",
       "      <th></th>\n",
       "      <th></th>\n",
       "      <th></th>\n",
       "      <th></th>\n",
       "      <th></th>\n",
       "      <th></th>\n",
       "      <th></th>\n",
       "      <th></th>\n",
       "      <th></th>\n",
       "      <th></th>\n",
       "      <th></th>\n",
       "      <th></th>\n",
       "      <th></th>\n",
       "      <th></th>\n",
       "      <th></th>\n",
       "      <th></th>\n",
       "      <th></th>\n",
       "      <th></th>\n",
       "    </tr>\n",
       "  </thead>\n",
       "  <tbody>\n",
       "    <tr>\n",
       "      <th>2019-07-01</th>\n",
       "      <td>-29.0</td>\n",
       "      <td>NaN</td>\n",
       "      <td>NaN</td>\n",
       "      <td>NaN</td>\n",
       "      <td>NaN</td>\n",
       "      <td>NaN</td>\n",
       "      <td>100.428571</td>\n",
       "      <td>234.054054</td>\n",
       "      <td>19.111111</td>\n",
       "      <td>NaN</td>\n",
       "      <td>...</td>\n",
       "      <td>NaN</td>\n",
       "      <td>12.0</td>\n",
       "      <td>NaN</td>\n",
       "      <td>NaN</td>\n",
       "      <td>NaN</td>\n",
       "      <td>NaN</td>\n",
       "      <td>NaN</td>\n",
       "      <td>NaN</td>\n",
       "      <td>NaN</td>\n",
       "      <td>-9.651257</td>\n",
       "    </tr>\n",
       "  </tbody>\n",
       "</table>\n",
       "<p>1 rows × 69 columns</p>\n",
       "</div>"
      ],
      "text/plain": [
       "codneg      AALR3  AERI3  ALLD3  ALPK3  AMBP3  AVLL3       AZUL4       BIDI4  \\\n",
       "date                                                                           \n",
       "2019-07-01  -29.0    NaN    NaN    NaN    NaN    NaN  100.428571  234.054054   \n",
       "\n",
       "codneg          BKBR3  BLAU3  ...  RRRP3  SBFG3  SEQL3  SOJA3  SOMA3  TFCO4  \\\n",
       "date                          ...                                             \n",
       "2019-07-01  19.111111    NaN  ...    NaN   12.0    NaN    NaN    NaN    NaN   \n",
       "\n",
       "codneg      VAMO3  VIVA3  WEST3     WIZS3  \n",
       "date                                       \n",
       "2019-07-01    NaN    NaN    NaN -9.651257  \n",
       "\n",
       "[1 rows x 69 columns]"
      ]
     },
     "execution_count": 12,
     "metadata": {},
     "output_type": "execute_result"
    }
   ],
   "source": [
    "rent_by_day[rent_by_day.index=='2019-07-01']"
   ]
  },
  {
   "cell_type": "code",
   "execution_count": 22,
   "metadata": {},
   "outputs": [
    {
     "data": {
      "text/html": [
       "<div>\n",
       "<style scoped>\n",
       "    .dataframe tbody tr th:only-of-type {\n",
       "        vertical-align: middle;\n",
       "    }\n",
       "\n",
       "    .dataframe tbody tr th {\n",
       "        vertical-align: top;\n",
       "    }\n",
       "\n",
       "    .dataframe thead th {\n",
       "        text-align: right;\n",
       "    }\n",
       "</style>\n",
       "<table border=\"1\" class=\"dataframe\">\n",
       "  <thead>\n",
       "    <tr style=\"text-align: right;\">\n",
       "      <th></th>\n",
       "      <th>variation</th>\n",
       "    </tr>\n",
       "    <tr>\n",
       "      <th>date</th>\n",
       "      <th></th>\n",
       "    </tr>\n",
       "  </thead>\n",
       "  <tbody>\n",
       "    <tr>\n",
       "      <th>2015-06-05</th>\n",
       "      <td>12.733171</td>\n",
       "    </tr>\n",
       "    <tr>\n",
       "      <th>2015-06-08</th>\n",
       "      <td>11.759935</td>\n",
       "    </tr>\n",
       "    <tr>\n",
       "      <th>2015-06-09</th>\n",
       "      <td>10.705596</td>\n",
       "    </tr>\n",
       "    <tr>\n",
       "      <th>2015-06-10</th>\n",
       "      <td>13.544201</td>\n",
       "    </tr>\n",
       "    <tr>\n",
       "      <th>2015-06-11</th>\n",
       "      <td>15.652879</td>\n",
       "    </tr>\n",
       "    <tr>\n",
       "      <th>...</th>\n",
       "      <td>...</td>\n",
       "    </tr>\n",
       "    <tr>\n",
       "      <th>2021-06-02</th>\n",
       "      <td>28.953575</td>\n",
       "    </tr>\n",
       "    <tr>\n",
       "      <th>2021-06-04</th>\n",
       "      <td>29.287305</td>\n",
       "    </tr>\n",
       "    <tr>\n",
       "      <th>2021-06-07</th>\n",
       "      <td>29.399834</td>\n",
       "    </tr>\n",
       "    <tr>\n",
       "      <th>2021-06-08</th>\n",
       "      <td>29.445582</td>\n",
       "    </tr>\n",
       "    <tr>\n",
       "      <th>2021-06-09</th>\n",
       "      <td>29.692665</td>\n",
       "    </tr>\n",
       "  </tbody>\n",
       "</table>\n",
       "<p>1486 rows × 1 columns</p>\n",
       "</div>"
      ],
      "text/plain": [
       "            variation\n",
       "date                 \n",
       "2015-06-05  12.733171\n",
       "2015-06-08  11.759935\n",
       "2015-06-09  10.705596\n",
       "2015-06-10  13.544201\n",
       "2015-06-11  15.652879\n",
       "...               ...\n",
       "2021-06-02  28.953575\n",
       "2021-06-04  29.287305\n",
       "2021-06-07  29.399834\n",
       "2021-06-08  29.445582\n",
       "2021-06-09  29.692665\n",
       "\n",
       "[1486 rows x 1 columns]"
      ]
     },
     "execution_count": 22,
     "metadata": {},
     "output_type": "execute_result"
    }
   ],
   "source": [
    "rent_by_day_mean"
   ]
  },
  {
   "cell_type": "code",
   "execution_count": 13,
   "metadata": {},
   "outputs": [
    {
     "data": {
      "image/png": "[encoded data removed]",
      "text/plain": [
       "<Figure size 1224x648 with 1 Axes>"
      ]
     },
     "metadata": {},
     "output_type": "display_data"
    }
   ],
   "source": [
    "sns.set(rc={'figure.figsize':(17,9)})\n",
    "sns.set_palette('colorblind')\n",
    "loc = plticker.MultipleLocator(base=120.0)\n",
    "axes = sns.lineplot( data=rent_by_day_mean, x='date', y='variation')\n",
    "axes.xaxis.set_major_locator(loc)"
   ]
  },
  {
   "cell_type": "markdown",
   "metadata": {},
   "source": [
    "## Mean Rentability "
   ]
  },
  {
   "cell_type": "code",
   "execution_count": null,
   "metadata": {},
   "outputs": [],
   "source": []
  },
  {
   "cell_type": "markdown",
   "metadata": {},
   "source": [
    "## Comparison Rentability 2015-2019 and 2020"
   ]
  },
  {
   "cell_type": "code",
   "execution_count": null,
   "metadata": {},
   "outputs": [],
   "source": []
  },
  {
   "cell_type": "markdown",
   "metadata": {},
   "source": [
    "## Deaths by Covid and Volatility"
   ]
  },
  {
   "cell_type": "code",
   "execution_count": null,
   "metadata": {},
   "outputs": [],
   "source": []
  },
  {
   "cell_type": "markdown",
   "metadata": {},
   "source": [
    "## Correlation Death x Volatility"
   ]
  },
  {
   "cell_type": "code",
   "execution_count": null,
   "metadata": {},
   "outputs": [],
   "source": []
  },
  {
   "cell_type": "markdown",
   "metadata": {},
   "source": [
    "## Histogram IPO's Return of first day closing\n"
   ]
  },
  {
   "cell_type": "code",
   "execution_count": 14,
   "metadata": {},
   "outputs": [
    {
     "data": {
      "text/plain": [
       "<AxesSubplot:xlabel='1D', ylabel='Count'>"
      ]
     },
     "execution_count": 14,
     "metadata": {},
     "output_type": "execute_result"
    },
    {
     "data": {
      "image/png": "[encoded data removed]",
      "text/plain": [
       "<Figure size 1008x576 with 1 Axes>"
      ]
     },
     "metadata": {},
     "output_type": "display_data"
    }
   ],
   "source": [
    "sns.set(rc={'figure.figsize':(14,8)})\n",
    "sns.set_palette('bwr')\n",
    "sns.histplot(rent_1d, x='1D', binwidth=12, kde=True)"
   ]
  },
  {
   "cell_type": "markdown",
   "metadata": {},
   "source": [
    "## Comparison 'IPO ETF' and IBOVESPA"
   ]
  },
  {
   "cell_type": "code",
   "execution_count": 15,
   "metadata": {},
   "outputs": [],
   "source": [
    "rent_by_day = ipo_df.pivot_table(values='preult', index='date', columns='codneg')\n",
    "for c in rent_by_day:\n",
    "    rent_by_day[c] = ((rent_by_day[c] / dict_tickers[c]) - 1)* 100\n",
    "\n",
    "rent_by_day_mean = rent_by_day.mean(axis=1)\n",
    "rent_by_day_mean = pd.DataFrame(data=rent_by_day_mean, columns=['variation'])\n",
    "rent_by_day_mean = rent_by_day_mean.reset_index()\n",
    "rent_by_day_mean = rent_by_day_mean.set_index('date')"
   ]
  },
  {
   "cell_type": "code",
   "execution_count": 19,
   "metadata": {},
   "outputs": [
    {
     "data": {
      "text/html": [
       "<div>\n",
       "<style scoped>\n",
       "    .dataframe tbody tr th:only-of-type {\n",
       "        vertical-align: middle;\n",
       "    }\n",
       "\n",
       "    .dataframe tbody tr th {\n",
       "        vertical-align: top;\n",
       "    }\n",
       "\n",
       "    .dataframe thead th {\n",
       "        text-align: right;\n",
       "    }\n",
       "</style>\n",
       "<table border=\"1\" class=\"dataframe\">\n",
       "  <thead>\n",
       "    <tr style=\"text-align: right;\">\n",
       "      <th></th>\n",
       "      <th>variation</th>\n",
       "    </tr>\n",
       "    <tr>\n",
       "      <th>date</th>\n",
       "      <th></th>\n",
       "    </tr>\n",
       "  </thead>\n",
       "  <tbody>\n",
       "    <tr>\n",
       "      <th>2015-06-05</th>\n",
       "      <td>12.733171</td>\n",
       "    </tr>\n",
       "    <tr>\n",
       "      <th>2015-06-08</th>\n",
       "      <td>11.759935</td>\n",
       "    </tr>\n",
       "    <tr>\n",
       "      <th>2015-06-09</th>\n",
       "      <td>10.705596</td>\n",
       "    </tr>\n",
       "    <tr>\n",
       "      <th>2015-06-10</th>\n",
       "      <td>13.544201</td>\n",
       "    </tr>\n",
       "    <tr>\n",
       "      <th>2015-06-11</th>\n",
       "      <td>15.652879</td>\n",
       "    </tr>\n",
       "    <tr>\n",
       "      <th>...</th>\n",
       "      <td>...</td>\n",
       "    </tr>\n",
       "    <tr>\n",
       "      <th>2021-06-02</th>\n",
       "      <td>28.953575</td>\n",
       "    </tr>\n",
       "    <tr>\n",
       "      <th>2021-06-04</th>\n",
       "      <td>29.287305</td>\n",
       "    </tr>\n",
       "    <tr>\n",
       "      <th>2021-06-07</th>\n",
       "      <td>29.399834</td>\n",
       "    </tr>\n",
       "    <tr>\n",
       "      <th>2021-06-08</th>\n",
       "      <td>29.445582</td>\n",
       "    </tr>\n",
       "    <tr>\n",
       "      <th>2021-06-09</th>\n",
       "      <td>29.692665</td>\n",
       "    </tr>\n",
       "  </tbody>\n",
       "</table>\n",
       "<p>1486 rows × 1 columns</p>\n",
       "</div>"
      ],
      "text/plain": [
       "            variation\n",
       "date                 \n",
       "2015-06-05  12.733171\n",
       "2015-06-08  11.759935\n",
       "2015-06-09  10.705596\n",
       "2015-06-10  13.544201\n",
       "2015-06-11  15.652879\n",
       "...               ...\n",
       "2021-06-02  28.953575\n",
       "2021-06-04  29.287305\n",
       "2021-06-07  29.399834\n",
       "2021-06-08  29.445582\n",
       "2021-06-09  29.692665\n",
       "\n",
       "[1486 rows x 1 columns]"
      ]
     },
     "execution_count": 19,
     "metadata": {},
     "output_type": "execute_result"
    }
   ],
   "source": [
    "rent_by_day"
   ]
  },
  {
   "cell_type": "code",
   "execution_count": 16,
   "metadata": {},
   "outputs": [],
   "source": [
    "cota_ibov = cota_ibov.reset_index()\n",
    "cota_ibov = cota_ibov.set_index('Data')"
   ]
  },
  {
   "cell_type": "code",
   "execution_count": 17,
   "metadata": {},
   "outputs": [],
   "source": [
    "ipo_ibov = pd.concat([rent_by_day_mean, cota_ibov], axis = 1)"
   ]
  },
  {
   "cell_type": "code",
   "execution_count": 21,
   "metadata": {},
   "outputs": [
    {
     "data": {
      "text/html": [
       "<div>\n",
       "<style scoped>\n",
       "    .dataframe tbody tr th:only-of-type {\n",
       "        vertical-align: middle;\n",
       "    }\n",
       "\n",
       "    .dataframe tbody tr th {\n",
       "        vertical-align: top;\n",
       "    }\n",
       "\n",
       "    .dataframe thead th {\n",
       "        text-align: right;\n",
       "    }\n",
       "</style>\n",
       "<table border=\"1\" class=\"dataframe\">\n",
       "  <thead>\n",
       "    <tr style=\"text-align: right;\">\n",
       "      <th></th>\n",
       "      <th>variation</th>\n",
       "      <th>index</th>\n",
       "      <th>Último</th>\n",
       "      <th>Var%</th>\n",
       "      <th>Cumulative</th>\n",
       "    </tr>\n",
       "  </thead>\n",
       "  <tbody>\n",
       "    <tr>\n",
       "      <th>2015-06-05</th>\n",
       "      <td>12.733171</td>\n",
       "      <td>0</td>\n",
       "      <td>52973.37</td>\n",
       "      <td>-1.03</td>\n",
       "      <td>0.000000</td>\n",
       "    </tr>\n",
       "    <tr>\n",
       "      <th>2015-06-08</th>\n",
       "      <td>11.759935</td>\n",
       "      <td>1</td>\n",
       "      <td>52809.63</td>\n",
       "      <td>-0.31</td>\n",
       "      <td>-0.309099</td>\n",
       "    </tr>\n",
       "    <tr>\n",
       "      <th>2015-06-09</th>\n",
       "      <td>10.705596</td>\n",
       "      <td>2</td>\n",
       "      <td>52815.99</td>\n",
       "      <td>0.01</td>\n",
       "      <td>-0.297093</td>\n",
       "    </tr>\n",
       "    <tr>\n",
       "      <th>2015-06-10</th>\n",
       "      <td>13.544201</td>\n",
       "      <td>3</td>\n",
       "      <td>53876.44</td>\n",
       "      <td>2.01</td>\n",
       "      <td>1.704762</td>\n",
       "    </tr>\n",
       "    <tr>\n",
       "      <th>2015-06-11</th>\n",
       "      <td>15.652879</td>\n",
       "      <td>4</td>\n",
       "      <td>53688.51</td>\n",
       "      <td>-0.35</td>\n",
       "      <td>1.349999</td>\n",
       "    </tr>\n",
       "    <tr>\n",
       "      <th>...</th>\n",
       "      <td>...</td>\n",
       "      <td>...</td>\n",
       "      <td>...</td>\n",
       "      <td>...</td>\n",
       "      <td>...</td>\n",
       "    </tr>\n",
       "    <tr>\n",
       "      <th>2021-06-02</th>\n",
       "      <td>28.953575</td>\n",
       "      <td>1481</td>\n",
       "      <td>129601.44</td>\n",
       "      <td>1.04</td>\n",
       "      <td>144.653946</td>\n",
       "    </tr>\n",
       "    <tr>\n",
       "      <th>2021-06-04</th>\n",
       "      <td>29.287305</td>\n",
       "      <td>1482</td>\n",
       "      <td>130125.78</td>\n",
       "      <td>0.40</td>\n",
       "      <td>145.643764</td>\n",
       "    </tr>\n",
       "    <tr>\n",
       "      <th>2021-06-07</th>\n",
       "      <td>29.399834</td>\n",
       "      <td>1483</td>\n",
       "      <td>130776.27</td>\n",
       "      <td>0.50</td>\n",
       "      <td>146.871721</td>\n",
       "    </tr>\n",
       "    <tr>\n",
       "      <th>2021-06-08</th>\n",
       "      <td>29.445582</td>\n",
       "      <td>1484</td>\n",
       "      <td>129787.11</td>\n",
       "      <td>-0.76</td>\n",
       "      <td>145.004443</td>\n",
       "    </tr>\n",
       "    <tr>\n",
       "      <th>2021-06-09</th>\n",
       "      <td>29.692665</td>\n",
       "      <td>1485</td>\n",
       "      <td>129906.80</td>\n",
       "      <td>0.09</td>\n",
       "      <td>145.230387</td>\n",
       "    </tr>\n",
       "  </tbody>\n",
       "</table>\n",
       "<p>1486 rows × 5 columns</p>\n",
       "</div>"
      ],
      "text/plain": [
       "            variation  index     Último  Var%  Cumulative\n",
       "2015-06-05  12.733171      0   52973.37 -1.03    0.000000\n",
       "2015-06-08  11.759935      1   52809.63 -0.31   -0.309099\n",
       "2015-06-09  10.705596      2   52815.99  0.01   -0.297093\n",
       "2015-06-10  13.544201      3   53876.44  2.01    1.704762\n",
       "2015-06-11  15.652879      4   53688.51 -0.35    1.349999\n",
       "...               ...    ...        ...   ...         ...\n",
       "2021-06-02  28.953575   1481  129601.44  1.04  144.653946\n",
       "2021-06-04  29.287305   1482  130125.78  0.40  145.643764\n",
       "2021-06-07  29.399834   1483  130776.27  0.50  146.871721\n",
       "2021-06-08  29.445582   1484  129787.11 -0.76  145.004443\n",
       "2021-06-09  29.692665   1485  129906.80  0.09  145.230387\n",
       "\n",
       "[1486 rows x 5 columns]"
      ]
     },
     "execution_count": 21,
     "metadata": {},
     "output_type": "execute_result"
    }
   ],
   "source": [
    "ipo_ibov"
   ]
  },
  {
   "cell_type": "code",
   "execution_count": 18,
   "metadata": {},
   "outputs": [
    {
     "data": {
      "image/png": "[encoded data removed]",
      "text/plain": [
       "<Figure size 1224x648 with 1 Axes>"
      ]
     },
     "metadata": {},
     "output_type": "display_data"
    }
   ],
   "source": [
    "sns.set(rc={'figure.figsize':(17,9)})\n",
    "sns.set_palette('colorblind')\n",
    "loc = plticker.MultipleLocator(base=120.0)\n",
    "axes = sns.lineplot( data=ipo_ibov, x='index', y='variation')\n",
    "axes2 = sns.lineplot(data=ipo_ibov, x = 'index', y='Cumulative')\n",
    "axes.xaxis.set_major_locator(loc)"
   ]
  },
  {
   "cell_type": "code",
   "execution_count": null,
   "metadata": {},
   "outputs": [],
   "source": []
  },
  {
   "cell_type": "code",
   "execution_count": null,
   "metadata": {},
   "outputs": [],
   "source": []
  }
 ],
 "metadata": {
  "kernelspec": {
   "display_name": "Python 3",
   "language": "python",
   "name": "python3"
  },
  "language_info": {
   "codemirror_mode": {
    "name": "ipython",
    "version": 3
   },
   "file_extension": ".py",
   "mimetype": "text/x-python",
   "name": "python",
   "nbconvert_exporter": "python",
   "pygments_lexer": "ipython3",
   "version": "3.8.5"
  }
 },
 "nbformat": 4,
 "nbformat_minor": 4
}
