{
 "cells": [
  {
   "cell_type": "markdown",
   "metadata": {
    "id": "_lo-HXZb6ny_"
   },
   "source": [
    "# Introdução à Ciência de Dados\n",
    "\n",
    "## Projeto Final - Rentabilidade de IPOs Brasileiros\n",
    "\n",
    "### Integrantes:\n",
    "Davi Ribeiro Pereira Pinto - 20200023844\n",
    "\n",
    "Gabriel Araújo de Azevedo Lima - 20200026120\n",
    "\n",
    "Thalles Emannuel Batista Pinheiro - 20200025580\n"
   ]
  },
  {
   "cell_type": "markdown",
   "metadata": {
    "id": "nv7zye4o7F1t"
   },
   "source": [
    "# 1. Introdução"
   ]
  },
  {
   "cell_type": "markdown",
   "metadata": {
    "id": "aks_6tFA7Oag"
   },
   "source": [
    "## 1.1. Motivação\n",
    "\n",
    "O que são IPOs\n",
    "Quais operações são feitas: Flippagem\n",
    "Aumento significativo da quantidade nos anos passados\n",
    "\n",
    "\n"
   ]
  },
  {
   "cell_type": "markdown",
   "metadata": {
    "id": "ScWZcUn17k_w"
   },
   "source": [
    "## 1.2. Objetivos\n",
    "\n",
    "1 - Calcular as rentabilidades médias dos IPOs realizados e buscar correlações para realizar entradas nos possíveis melhores IPOs futuros."
   ]
  },
  {
   "cell_type": "markdown",
   "metadata": {
    "id": "6E9AbKrX74Va"
   },
   "source": [
    "# 2. Dados utilizados\n",
    "\n",
    "Para realizar deste trabalho foram extraídos da B3 as cotações históricas das ações negociadas bem como o relatorio das ofertas públicas relaizadas.  "
   ]
  },
  {
   "cell_type": "markdown",
   "metadata": {
    "id": "5IM6HXv0-OFQ"
   },
   "source": [
    "## Cotações históricas\n",
    "\n",
    "Os dados utilizados foram as cotações históricas retiradas do site oficial da B3 [site]\n"
   ]
  },
  {
   "cell_type": "markdown",
   "metadata": {
    "id": "Uw_5Ily--2CY"
   },
   "source": [
    "##Ofertas públicas\n",
    "\n",
    "excel"
   ]
  },
  {
   "cell_type": "markdown",
   "metadata": {
    "id": "vUifbaQ-8O78"
   },
   "source": [
    "# 3. Pré-processamento"
   ]
  },
  {
   "cell_type": "code",
   "execution_count": 1,
   "metadata": {},
   "outputs": [],
   "source": [
    "import pandas as pd\n",
    "import numpy as np"
   ]
  },
  {
   "cell_type": "code",
   "execution_count": 2,
   "metadata": {},
   "outputs": [
    {
     "name": "stdout",
     "output_type": "stream",
     "text": [
      "Insira o ano de início: 2015\n",
      "Insira o ano de término: 2021\n"
     ]
    }
   ],
   "source": [
    "year_i = int(input('Insira o ano de início: '))\n",
    "year_f = int(input('Insira o ano de término: '))\n",
    "years = list(range(year_i,year_f+1))\n",
    "\n",
    "list_ipos = [\"PARC3\", \"WIZS3\", \"AALR3\",\n",
    "             \"MOVI3\", \"PARD3\", \"AZUL4\", \"CRFB3\", \"IRBR3\", \"OMGE3\", \"CAML3\", \"BKBR3\", \"BRDT3\",\n",
    "             \"GNDI3\", \"HAPV3\", \"BIDI4\",\n",
    "             \"SBFG3\", \"CNTO3\",\"NEOE3\", \"VIVA3\", \"BMGB4\", \"CEAB3\", \n",
    "             \"MTRE3\", \"LWSA3\", \"MDNE3\", \"PRNR3\", \"ALPK3\", \"AMBP3\", \"SOMA3\", \"DMVF3\", \"LJQQ3\", \"LAVV3\", \"PGMN3\",\n",
    "             \"PETZ3\", \"PLPL3\", \"MELK3\", \"HBSA3\", \"CURY3\", \"BOAS3\", \"SEQL3\", \"GMAT3\", \"TFCO4\", \"CASH3\", \"ENJU3\", \n",
    "             \"AERI3\", \"RRRP3\", \"AVLL3\", \"RDOR3\", \"NGRD3\", \"HBRE3\", \"VAMO3\", \"ESPA3\", \"INTB3\", \"MOSI3\", \"MBLY3\", \n",
    "             \"JALL3\", \"POWE3\", \"CSED3\", \"OPCT3\", \"ORVR3\", \"ELMD3\", \"BMOB3\", \"CMIN3\", \"WEST3\", \"MODL11\", \"MATD3\", \n",
    "             \"BLAU3\", \"GGPS3\", \"SOJA3\", \"RECV3\", \"CXSE3\", \"ALLD3\"]\n",
    "\n",
    "def b3_parser(year):\n",
    "    cota = open(f\"./datasets/datab3/COTAHIST_A{year}.txt\",'r')\n",
    "    head = cota.readline()\n",
    "    line = cota.readline()\n",
    "    all_data = []\n",
    "    size = [2, 8, 2, 12, 3, 12, 10, 3, 4, 13, 13, 13, 13, 13, 13, 13, 5, 18, 18, 13, 1, 8, 7, 13, 12, 3]\n",
    "    col = ['tipreg', 'date', 'codbdi', 'codneg', 'tpmerc', 'nomres', 'especi', 'prazot', 'modref', 'preabe', \n",
    "           'premax', 'premin', 'premed', 'preult', 'preofc', 'preofv', 'totneg', 'quatot', 'voltot', 'preexe', \n",
    "           'indopc', 'datven', 'fatcot', 'ptoexe', 'codisi', 'dismes']\n",
    "    #OBS.: The name of the columns is a pattern adopted by B3\n",
    "    \n",
    "    while line:\n",
    "        dt = []\n",
    "        x = 0\n",
    "        for s in size: \n",
    "            dt.append(line[x:x+s]) \n",
    "            x+=s \n",
    "        all_data.append(dt)\n",
    "        line = cota.readline()\n",
    "        if line.startswith('99'): \n",
    "            break\n",
    "\n",
    "    df = pd.DataFrame(data=all_data,columns=col)\n",
    "    col = ['tipreg',  'codbdi',  'tpmerc', 'totneg', 'quatot', 'indopc', 'datven', 'fatcot',  'dismes']\n",
    "    for c in col:\n",
    "        df[c]=pd.to_numeric(df[c], downcast=\"integer\")\n",
    "\n",
    "    col = ['preabe', 'premax', 'premin', 'premed', 'preult', 'preofc', 'preofv','voltot', 'preexe','ptoexe']\n",
    "    for c in col:\n",
    "        df[c] = df[c].astype(float)/100\n",
    "\n",
    "    col = ['date','datven']\n",
    "    for c in col:\n",
    "        df[c] = pd.to_datetime(df[c],format='%Y%m%d',errors='coerce')\n",
    "\n",
    "    col = ['codneg']\n",
    "    for c in col:\n",
    "        df[c] = df[c].str.strip()\n",
    "    \n",
    "    return df\n",
    "\n",
    "def listFilter(dataframe, valores):\n",
    "    return dataframe.loc[dataframe['codneg'].isin(valores)]\n",
    "\n",
    "df_list = []\n",
    "for year in years:\n",
    "    df = b3_parser(year)\n",
    "    df = listFilter(df, list_ipos)\n",
    "    \n",
    "    # CELL TO CHOOSE DESIRABLE COLUMNS\n",
    "    df = df[['date','codneg','preabe','preult']]\n",
    "    \n",
    "    # RESETING INDEX\n",
    "    df = df.reset_index(drop=True)\n",
    "    \n",
    "    # TRANSFORMING THE DATAFRAME IN CSV \n",
    "    df.to_csv(f\"COTAHIST_A{year}.csv\", index = False)\n",
    "    \n",
    "    df_list.append(df)\n",
    "\n",
    "df = pd.read_csv(f\"./COTAHIST_A{year_i}.csv\")\n",
    "for year in range(year_i+1, year_f+1):\n",
    "    df = pd.concat([df, pd.read_csv(f\"./COTAHIST_A{year}.csv\")])\n",
    "\n",
    "df.loc[df.codneg=='PARC3', 'codneg'] = 'WIZS3'\n",
    "df.loc[df.codneg=='CNTO3', 'codneg'] = 'SBFG3'\n",
    "\n",
    "# RESETING INDEX\n",
    "df = df.reset_index(drop=True)\n",
    "\n",
    "# TRANSFORMING THE DATAFRAME IN CSV \n",
    "df.to_csv(f\"COTAHIST_A{year_i}_{year_f}.csv\", index = False)"
   ]
  },
  {
   "cell_type": "markdown",
   "metadata": {
    "id": "bQgWDeIz8PMP"
   },
   "source": [
    "# 4. Perguntas"
   ]
  },
  {
   "cell_type": "markdown",
   "metadata": {
    "id": "R8qA70Ov8bzk"
   },
   "source": [
    "# 5. Conclusão"
   ]
  },
  {
   "cell_type": "markdown",
   "metadata": {
    "id": "K4lH8wNq8jzf"
   },
   "source": []
  }
 ],
 "metadata": {
  "colab": {
   "name": "Projeto_IPO_BR.ipynb",
   "provenance": [],
   "toc_visible": true
  },
  "kernelspec": {
   "display_name": "Python 3",
   "language": "python",
   "name": "python3"
  },
  "language_info": {
   "codemirror_mode": {
    "name": "ipython",
    "version": 3
   },
   "file_extension": ".py",
   "mimetype": "text/x-python",
   "name": "python",
   "nbconvert_exporter": "python",
   "pygments_lexer": "ipython3",
   "version": "3.8.5"
  }
 },
 "nbformat": 4,
 "nbformat_minor": 1
}
