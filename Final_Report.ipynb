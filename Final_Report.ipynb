{
 "cells": [
  {
   "cell_type": "markdown",
   "metadata": {
    "id": "_lo-HXZb6ny_"
   },
   "source": [
    "# Introdução à Ciência de Dados\n",
    "\n",
    "## Projeto Final - Rentabilidade de IPO's Brasileiros\n",
    "\n",
    "### Integrantes:\n",
    "Davi Ribeiro Pereira Pinto - 20200023844\n",
    "\n",
    "Gabriel Araújo de Azevedo Lima - 20200026120\n",
    "\n",
    "Thalles Emannuel Batista Pinheiro - 20200025580\n"
   ]
  },
  {
   "cell_type": "markdown",
   "metadata": {
    "id": "nv7zye4o7F1t"
   },
   "source": [
    "# 1 Introdução"
   ]
  },
  {
   "cell_type": "code",
   "execution_count": 1,
   "metadata": {
    "id": "8F-jEb0WNpiM"
   },
   "outputs": [],
   "source": [
    "import pandas as pd\n",
    "import seaborn as sns\n",
    "import matplotlib\n",
    "import matplotlib.pyplot as plt\n",
    "import matplotlib.ticker as plticker\n",
    "import numpy as np\n",
    "from scipy.stats import linregress"
   ]
  },
  {
   "cell_type": "code",
   "execution_count": 2,
   "metadata": {},
   "outputs": [
    {
     "data": {
      "text/html": [
       " <style>\n",
       ".output_png {\n",
       "    display: table-cell;\n",
       "    text-align: center;\n",
       "    vertical-align: middle;\n",
       "}\n",
       "</style> "
      ],
      "text/plain": [
       "<IPython.core.display.HTML object>"
      ]
     },
     "execution_count": 2,
     "metadata": {},
     "output_type": "execute_result"
    }
   ],
   "source": [
    "from IPython.core.display import HTML as Center\n",
    "\n",
    "Center(\"\"\" <style>\n",
    ".output_png {\n",
    "    display: table-cell;\n",
    "    text-align: center;\n",
    "    vertical-align: middle;\n",
    "}\n",
    "</style> \"\"\")"
   ]
  },
  {
   "cell_type": "markdown",
   "metadata": {
    "id": "aks_6tFA7Oag"
   },
   "source": [
    "## 1.1 Motivação\n",
    "\n",
    "O que são IPO's\n",
    "Quais operações são feitas: Flippagem\n",
    "Aumento significativo da quantidade nos anos passados\n",
    "\n",
    "\n"
   ]
  },
  {
   "cell_type": "code",
   "execution_count": 3,
   "metadata": {},
   "outputs": [
    {
     "data": {
      "text/html": [
       "<div>\n",
       "<style scoped>\n",
       "    .dataframe tbody tr th:only-of-type {\n",
       "        vertical-align: middle;\n",
       "    }\n",
       "\n",
       "    .dataframe tbody tr th {\n",
       "        vertical-align: top;\n",
       "    }\n",
       "\n",
       "    .dataframe thead th {\n",
       "        text-align: right;\n",
       "    }\n",
       "</style>\n",
       "<table border=\"1\" class=\"dataframe\">\n",
       "  <thead>\n",
       "    <tr style=\"text-align: right;\">\n",
       "      <th></th>\n",
       "      <th>Ano</th>\n",
       "      <th>Genero</th>\n",
       "      <th>Quantidade</th>\n",
       "    </tr>\n",
       "  </thead>\n",
       "  <tbody>\n",
       "    <tr>\n",
       "      <th>0</th>\n",
       "      <td>2021</td>\n",
       "      <td>Homens</td>\n",
       "      <td>2.707331</td>\n",
       "    </tr>\n",
       "    <tr>\n",
       "      <th>1</th>\n",
       "      <td>2020</td>\n",
       "      <td>Homens</td>\n",
       "      <td>2.382966</td>\n",
       "    </tr>\n",
       "    <tr>\n",
       "      <th>2</th>\n",
       "      <td>2019</td>\n",
       "      <td>Homens</td>\n",
       "      <td>1.277424</td>\n",
       "    </tr>\n",
       "    <tr>\n",
       "      <th>3</th>\n",
       "      <td>2018</td>\n",
       "      <td>Homens</td>\n",
       "      <td>0.634269</td>\n",
       "    </tr>\n",
       "    <tr>\n",
       "      <th>4</th>\n",
       "      <td>2017</td>\n",
       "      <td>Homens</td>\n",
       "      <td>0.478258</td>\n",
       "    </tr>\n",
       "  </tbody>\n",
       "</table>\n",
       "</div>"
      ],
      "text/plain": [
       "    Ano  Genero  Quantidade\n",
       "0  2021  Homens    2.707331\n",
       "1  2020  Homens    2.382966\n",
       "2  2019  Homens    1.277424\n",
       "3  2018  Homens    0.634269\n",
       "4  2017  Homens    0.478258"
      ]
     },
     "execution_count": 3,
     "metadata": {},
     "output_type": "execute_result"
    }
   ],
   "source": [
    "investidores = pd.read_excel(\"./datasets/Investidores.xlsx\")\n",
    "investidores = investidores.melt(id_vars='Ano', value_vars=['Homens', 'Mulheres']).rename(columns={\"variable\": 'Genero', \n",
    "                                                                                                   \"value\": 'Quantidade'})\n",
    "\n",
    "investidores['Quantidade'] /= 1000000 \n",
    "investidores.head()"
   ]
  },
  {
   "cell_type": "code",
   "execution_count": 4,
   "metadata": {},
   "outputs": [
    {
     "data": {
      "image/png": "[encoded data removed]",
      "text/plain": [
       "<Figure size 754x432 with 1 Axes>"
      ]
     },
     "metadata": {},
     "output_type": "display_data"
    }
   ],
   "source": [
    "sns.set(font_scale = 1.25)\n",
    "sns.set_style('whitegrid')\n",
    "\n",
    "g = sns.catplot(\n",
    "    data=investidores, kind=\"bar\",\n",
    "    x=\"Ano\", y=\"Quantidade\", hue=\"Genero\",\n",
    "    ci=\"sd\", palette=\"dark\", alpha=.7, height=6, aspect=1.5)\n",
    "plt.title('Investidores na bolsa brasileira')\n",
    "\n",
    "g.despine(left=False, right=False, top=False)\n",
    "g.set_axis_labels(\"Ano\", \"Quantidade em milhões\")\n",
    "g.legend.set_title(\"Sexo\")"
   ]
  },
  {
   "cell_type": "markdown",
   "metadata": {
    "id": "ScWZcUn17k_w"
   },
   "source": [
    "## 1.2 Objetivos\n",
    "\n",
    "1 - Calcular as rentabilidades médias dos IPO's realizados e buscar correlações para realizar entradas nos possíveis melhores IPOs futuros."
   ]
  },
  {
   "cell_type": "markdown",
   "metadata": {
    "id": "6E9AbKrX74Va"
   },
   "source": [
    "# 2 Dados utilizados\n",
    "\n",
    "Para realizar deste trabalho foram extraídos da B3 as cotações históricas das ações negociadas bem como o relatorio das ofertas públicas relaizadas.  \n",
    "\n",
    "Todos os dados utilizados estão disponível no [Github](https://github.com/davirpp/Projeto_Intro_CD/tree/master/datasets)."
   ]
  },
  {
   "cell_type": "code",
   "execution_count": 5,
   "metadata": {
    "id": "kGAIltxVzXH-"
   },
   "outputs": [],
   "source": [
    "#cotações brutas sem levar em conta desdobramentos:\n",
    "ipo_df = pd.read_csv(\"./datasets/COTAHIST_A2015_2021.csv\")\n",
    "ipo_details = pd.read_excel(\"./datasets/IPO_details.xlsx\")\n",
    "cota_ibov = pd.read_csv(\"./datasets/COTAHIST_IBOV.csv\")\n",
    "covid_df = pd.read_csv(\"./datasets/covid.csv\")"
   ]
  },
  {
   "cell_type": "markdown",
   "metadata": {
    "id": "5IM6HXv0-OFQ"
   },
   "source": [
    "## 2.1 Cotações históricas\n",
    "\n",
    "Os dados utilizados foram as cotações históricas retiradas do site oficial da [B3](http://www.b3.com.br/pt_br/market-data-e-indices/servicos-de-dados/market-data/historico/mercado-a-vista/series-historicas/)."
   ]
  },
  {
   "cell_type": "markdown",
   "metadata": {
    "id": "PcxcbdDHNpiJ"
   },
   "source": [
    "## 2.2 Cotação Índice Ibovespa\n",
    "Os dados utilizados foram retirados do site da [Investing](https://br.investing.com/indices/bovespa-historical-data) as cotações diárias do Índice Ibovespa do dia 05/06/2015 até 09/06/2021 (data que compreende nossos dados)."
   ]
  },
  {
   "cell_type": "markdown",
   "metadata": {
    "id": "Uw_5Ily--2CY"
   },
   "source": [
    "## 2.3 Ofertas públicas\n",
    "\n",
    "Foram retirados dados detalhados das Ofertas Públicas do site da [B3](http://www.b3.com.br/pt_br/produtos-e-servicos/solucoes-para-emissores/ofertas-publicas/estatisticas/)."
   ]
  },
  {
   "cell_type": "markdown",
   "metadata": {
    "id": "vUifbaQ-8O78"
   },
   "source": [
    "# 3 Pré-processamento"
   ]
  },
  {
   "cell_type": "markdown",
   "metadata": {
    "id": "HrQ8BR4GNpiL"
   },
   "source": [
    "## 3.1 Cotações Históricas"
   ]
  },
  {
   "cell_type": "markdown",
   "metadata": {
    "id": "OtOdsNvANpiM"
   },
   "source": [
    "Nas células abaixos ocorre o pré-processamento dos dados conforme instruções contidas no layout adotado pela B3.\n",
    "Que pode ser visto em: [Layout](http://www.b3.com.br/data/files/33/67/B9/50/D84057102C784E47AC094EA8/SeriesHistoricas_Layout.pdf)."
   ]
  },
  {
   "cell_type": "code",
   "execution_count": null,
   "metadata": {
    "id": "xztxONgUNpiN",
    "outputId": "faf2c052-04a3-435d-e89f-ff5c53f4bdce"
   },
   "outputs": [],
   "source": [
    "# year_i = int(input('Insira o ano de início: '))\n",
    "# year_f = int(input('Insira o ano de término: '))\n",
    "# years = list(range(year_i,year_f+1))\n",
    "\n",
    "# list_ipos = [\"PARC3\", \"WIZS3\", \"AALR3\",\n",
    "#              \"MOVI3\", \"PARD3\", \"AZUL4\", \"CRFB3\", \"IRBR3\", \"OMGE3\", \"CAML3\", \"BKBR3\", \"BRDT3\",\n",
    "#              \"GNDI3\", \"HAPV3\", \"BIDI4\",\n",
    "#              \"SBFG3\", \"CNTO3\",\"NEOE3\", \"VIVA3\", \"BMGB4\", \"CEAB3\", \n",
    "#              \"MTRE3\", \"LWSA3\", \"MDNE3\", \"PRNR3\", \"ALPK3\", \"AMBP3\", \"SOMA3\", \"DMVF3\", \"LJQQ3\", \"LAVV3\", \"PGMN3\",\n",
    "#              \"PETZ3\", \"PLPL3\", \"MELK3\", \"HBSA3\", \"CURY3\", \"BOAS3\", \"SEQL3\", \"GMAT3\", \"TFCO4\", \"CASH3\", \"ENJU3\", \n",
    "#              \"AERI3\", \"RRRP3\", \"AVLL3\", \"RDOR3\", \"NGRD3\", \"HBRE3\", \"VAMO3\", \"ESPA3\", \"INTB3\", \"MOSI3\", \"MBLY3\", \n",
    "#              \"JALL3\", \"POWE3\", \"CSED3\", \"OPCT3\", \"ORVR3\", \"ELMD3\", \"BMOB3\", \"CMIN3\", \"WEST3\", \"MODL11\", \"MATD3\", \n",
    "#              \"BLAU3\", \"GGPS3\", \"SOJA3\", \"RECV3\", \"CXSE3\", \"ALLD3\"]\n",
    "\n",
    "# def b3_parser(year):\n",
    "#     cota = open(f\"./datasets/datab3/COTAHIST_A{year}.txt\",'r')\n",
    "#     head = cota.readline()\n",
    "#     line = cota.readline()\n",
    "#     all_data = []\n",
    "#     size = [2, 8, 2, 12, 3, 12, 10, 3, 4, 13, 13, 13, 13, 13, 13, 13, 5, 18, 18, 13, 1, 8, 7, 13, 12, 3]\n",
    "#     col = ['tipreg', 'date', 'codbdi', 'codneg', 'tpmerc', 'nomres', 'especi', 'prazot', 'modref', 'preabe', \n",
    "#            'premax', 'premin', 'premed', 'preult', 'preofc', 'preofv', 'totneg', 'quatot', 'voltot', 'preexe', \n",
    "#            'indopc', 'datven', 'fatcot', 'ptoexe', 'codisi', 'dismes']\n",
    "#     #OBS.: The name of the columns is a pattern adopted by B3\n",
    "    \n",
    "#     while line:\n",
    "#         dt = []\n",
    "#         x = 0\n",
    "#         for s in size: \n",
    "#             dt.append(line[x:x+s]) \n",
    "#             x+=s \n",
    "#         all_data.append(dt)\n",
    "#         line = cota.readline()\n",
    "#         if line.startswith('99'): \n",
    "#             break\n",
    "\n",
    "#     df = pd.DataFrame(data=all_data,columns=col)\n",
    "#     col = ['tipreg',  'codbdi',  'tpmerc', 'totneg', 'quatot', 'indopc', 'datven', 'fatcot',  'dismes']\n",
    "#     for c in col:\n",
    "#         df[c]=pd.to_numeric(df[c], downcast=\"integer\")\n",
    "\n",
    "#     col = ['preabe', 'premax', 'premin', 'premed', 'preult', 'preofc', 'preofv','voltot', 'preexe','ptoexe']\n",
    "#     for c in col:\n",
    "#         df[c] = df[c].astype(float)/100\n",
    "\n",
    "#     col = ['date','datven']\n",
    "#     for c in col:\n",
    "#         df[c] = pd.to_datetime(df[c],format='%Y%m%d',errors='coerce')\n",
    "\n",
    "#     col = ['codneg']\n",
    "#     for c in col:\n",
    "#         df[c] = df[c].str.strip()\n",
    "    \n",
    "#     return df\n",
    "\n",
    "# def listFilter(dataframe, valores):\n",
    "#     return dataframe.loc[dataframe['codneg'].isin(valores)]\n",
    "\n",
    "# df_list = []\n",
    "# for year in years:\n",
    "#     df = b3_parser(year)\n",
    "#     df = listFilter(df, list_ipos)\n",
    "    \n",
    "#     # CELL TO CHOOSE DESIRABLE COLUMNS\n",
    "#     df = df[['date','codneg','preabe','preult']]\n",
    "    \n",
    "#     # RESETING INDEX\n",
    "#     df = df.reset_index(drop=True)\n",
    "    \n",
    "#     # TRANSFORMING THE DATAFRAME IN CSV BY YEARS\n",
    "#     df.to_csv(f\"COTAHIST_A{year}.csv\", index = False)\n",
    "    \n",
    "#     df_list.append(df)\n",
    "\n",
    "# df = pd.read_csv(f\"./COTAHIST_A{year_i}.csv\")\n",
    "# for year in range(year_i+1, year_f+1):\n",
    "#     df = pd.concat([df, pd.read_csv(f\"./COTAHIST_A{year}.csv\")])\n",
    "\n",
    "# df.loc[df.codneg=='PARC3', 'codneg'] = 'WIZS3'\n",
    "# df.loc[df.codneg=='CNTO3', 'codneg'] = 'SBFG3'\n",
    "\n",
    "# # RESETING INDEX\n",
    "# df = df.reset_index(drop=True)\n",
    "\n",
    "# # TRANSFORMING THE DATAFRAME IN CSV OF ALL YEARS\n",
    "# df.to_csv(f\"COTAHIST_A{year_i}_{year_f}.csv\", index = False)"
   ]
  },
  {
   "cell_type": "markdown",
   "metadata": {
    "id": "WP-8hTMXNpiR"
   },
   "source": [
    "## 3.2 Cotação Índice Ibovespa "
   ]
  },
  {
   "cell_type": "code",
   "execution_count": null,
   "metadata": {
    "id": "zWZex64wNpiR"
   },
   "outputs": [],
   "source": [
    "# def create_ibov():\n",
    "#     pass\n",
    "#     cota_ibov = pd.read_csv(\"./datasets/Cota_ibov.csv\")\n",
    "#     def format_number(texto):    \n",
    "#         return float(texto.replace('.', '').replace(',', '.'))\n",
    "\n",
    "#     def format_percent(texto):   \n",
    "#         return float(texto.replace(',', '.').replace('%', ''))\n",
    "\n",
    "#     cota_ibov['Último'] = cota_ibov.apply(lambda x: format_number(x['Último']), axis=1)\n",
    "#     cota_ibov['Var%'] = cota_ibov.apply(lambda x: format_percent(x['Var%']), axis=1)\n",
    "\n",
    "#     ibov = cota_ibov[['Data', 'Último', 'Var%']].copy()\n",
    "\n",
    "#     ibov['Data'] = ibov.apply(lambda x: pd.to_datetime(x['Data'],format='%d.%m.%Y',errors='coerce'), axis=1)\n",
    "#     ibov = ibov.sort_values(by='Data', ascending = True)\n",
    "#     ibov = ibov.reset_index(drop=True)\n",
    "\n",
    "#     #Creating a column to calculate the acumulated rentability\n",
    "#     ibov['Cumulative'] = 0\n",
    "\n",
    "#     for i in range((ibov.index.max()) + 1):\n",
    "#         ibov.loc[i,'Cumulative'] = (((ibov.loc[i, 'Último'] / ibov.loc[0, 'Último']) - 1) * 100)\n",
    "\n",
    "#     # TRANSFORMING THE DATAFRAME IN CSV \n",
    "#     ibov.to_csv(f\"COTAHIST_IBOV.csv\", index = False)"
   ]
  },
  {
   "cell_type": "markdown",
   "metadata": {
    "id": "bQgWDeIz8PMP"
   },
   "source": [
    "# 4 Perguntas"
   ]
  },
  {
   "cell_type": "markdown",
   "metadata": {
    "id": "t1wV4xO6NpiS"
   },
   "source": [
    "## 4.1 Quantos IPO's foram realizados de 2015 à Maio de 2021?"
   ]
  },
  {
   "cell_type": "code",
   "execution_count": 6,
   "metadata": {},
   "outputs": [],
   "source": [
    "tickers = list(ipo_details.Tickers)\n",
    "openings = list(ipo_details.Preco_fixado)\n",
    "dict_tickers = dict(zip(tickers, openings))"
   ]
  },
  {
   "cell_type": "code",
   "execution_count": 7,
   "metadata": {
    "colab": {
     "base_uri": "https://localhost:8080/",
     "height": 142
    },
    "id": "GNc8Y7Op0hZM",
    "outputId": "5228bb8d-1747-4d14-d86f-de6c3fdf85f1"
   },
   "outputs": [],
   "source": [
    "date_list = []\n",
    "for ticker in tickers:\n",
    "    df = ipo_df[ipo_df.codneg==ticker]\n",
    "    df.sort_values(by='date')\n",
    "    date_list.append(df[\"date\"].iloc[0])\n",
    "    \n",
    "date_ipo_df = pd.DataFrame(list(zip(tickers, date_list)), columns=[\"tickers\", \"date\"])\n",
    "date_ipo_df[\"date\"] = pd.to_datetime(date_ipo_df[\"date\"], format='%Y-%m-%d')\n",
    "date_ipo_df['year'] = date_ipo_df.apply(lambda x: x.date.year,axis=1)\n",
    "date_ipo_df['month'] = date_ipo_df.apply(lambda x: x.date.month,axis=1)"
   ]
  },
  {
   "cell_type": "code",
   "execution_count": 8,
   "metadata": {},
   "outputs": [
    {
     "data": {
      "text/html": [
       "<div>\n",
       "<style scoped>\n",
       "    .dataframe tbody tr th:only-of-type {\n",
       "        vertical-align: middle;\n",
       "    }\n",
       "\n",
       "    .dataframe tbody tr th {\n",
       "        vertical-align: top;\n",
       "    }\n",
       "\n",
       "    .dataframe thead th {\n",
       "        text-align: right;\n",
       "    }\n",
       "</style>\n",
       "<table border=\"1\" class=\"dataframe\">\n",
       "  <thead>\n",
       "    <tr style=\"text-align: right;\">\n",
       "      <th></th>\n",
       "      <th>tickers</th>\n",
       "      <th>date</th>\n",
       "      <th>year</th>\n",
       "      <th>month</th>\n",
       "    </tr>\n",
       "  </thead>\n",
       "  <tbody>\n",
       "    <tr>\n",
       "      <th>0</th>\n",
       "      <td>WIZS3</td>\n",
       "      <td>2015-06-05</td>\n",
       "      <td>2015</td>\n",
       "      <td>6</td>\n",
       "    </tr>\n",
       "    <tr>\n",
       "      <th>1</th>\n",
       "      <td>AALR3</td>\n",
       "      <td>2016-10-28</td>\n",
       "      <td>2016</td>\n",
       "      <td>10</td>\n",
       "    </tr>\n",
       "    <tr>\n",
       "      <th>2</th>\n",
       "      <td>MOVI3</td>\n",
       "      <td>2017-02-08</td>\n",
       "      <td>2017</td>\n",
       "      <td>2</td>\n",
       "    </tr>\n",
       "    <tr>\n",
       "      <th>3</th>\n",
       "      <td>PARD3</td>\n",
       "      <td>2017-02-14</td>\n",
       "      <td>2017</td>\n",
       "      <td>2</td>\n",
       "    </tr>\n",
       "    <tr>\n",
       "      <th>4</th>\n",
       "      <td>AZUL4</td>\n",
       "      <td>2017-04-11</td>\n",
       "      <td>2017</td>\n",
       "      <td>4</td>\n",
       "    </tr>\n",
       "    <tr>\n",
       "      <th>...</th>\n",
       "      <td>...</td>\n",
       "      <td>...</td>\n",
       "      <td>...</td>\n",
       "      <td>...</td>\n",
       "    </tr>\n",
       "    <tr>\n",
       "      <th>64</th>\n",
       "      <td>GGPS3</td>\n",
       "      <td>2021-04-26</td>\n",
       "      <td>2021</td>\n",
       "      <td>4</td>\n",
       "    </tr>\n",
       "    <tr>\n",
       "      <th>65</th>\n",
       "      <td>SOJA3</td>\n",
       "      <td>2021-04-29</td>\n",
       "      <td>2021</td>\n",
       "      <td>4</td>\n",
       "    </tr>\n",
       "    <tr>\n",
       "      <th>66</th>\n",
       "      <td>CXSE3</td>\n",
       "      <td>2021-04-29</td>\n",
       "      <td>2021</td>\n",
       "      <td>4</td>\n",
       "    </tr>\n",
       "    <tr>\n",
       "      <th>67</th>\n",
       "      <td>MODL11</td>\n",
       "      <td>2021-04-30</td>\n",
       "      <td>2021</td>\n",
       "      <td>4</td>\n",
       "    </tr>\n",
       "    <tr>\n",
       "      <th>68</th>\n",
       "      <td>RECV3</td>\n",
       "      <td>2021-05-05</td>\n",
       "      <td>2021</td>\n",
       "      <td>5</td>\n",
       "    </tr>\n",
       "  </tbody>\n",
       "</table>\n",
       "<p>69 rows × 4 columns</p>\n",
       "</div>"
      ],
      "text/plain": [
       "   tickers       date  year  month\n",
       "0    WIZS3 2015-06-05  2015      6\n",
       "1    AALR3 2016-10-28  2016     10\n",
       "2    MOVI3 2017-02-08  2017      2\n",
       "3    PARD3 2017-02-14  2017      2\n",
       "4    AZUL4 2017-04-11  2017      4\n",
       "..     ...        ...   ...    ...\n",
       "64   GGPS3 2021-04-26  2021      4\n",
       "65   SOJA3 2021-04-29  2021      4\n",
       "66   CXSE3 2021-04-29  2021      4\n",
       "67  MODL11 2021-04-30  2021      4\n",
       "68   RECV3 2021-05-05  2021      5\n",
       "\n",
       "[69 rows x 4 columns]"
      ]
     },
     "execution_count": 8,
     "metadata": {},
     "output_type": "execute_result"
    }
   ],
   "source": [
    "date_ipo_df"
   ]
  },
  {
   "cell_type": "code",
   "execution_count": 9,
   "metadata": {
    "id": "t1P_7AAp1wi2"
   },
   "outputs": [],
   "source": [
    "#serie pandas dos anos:\n",
    "\n",
    "ipos_per_year = date_ipo_df.groupby('year').count()\n",
    "ipos_per_year = ipos_per_year.reset_index(drop=False)[['year','tickers']]\n",
    "ipos_per_year = ipos_per_year.rename(columns={'year':'Ano', 'tickers':'Quantidade'})\n",
    "ipos_per_year.Ano = ipos_per_year.apply(lambda x: str(x.Ano), axis = 1)"
   ]
  },
  {
   "cell_type": "code",
   "execution_count": 10,
   "metadata": {},
   "outputs": [],
   "source": [
    "from matplotlib import cm"
   ]
  },
  {
   "cell_type": "code",
   "execution_count": 11,
   "metadata": {
    "colab": {
     "base_uri": "https://localhost:8080/",
     "height": 339
    },
    "id": "gQPGLQpF3ssh",
    "outputId": "6a6acd57-382a-4146-bd9f-2ec88b4f0013",
    "scrolled": false
   },
   "outputs": [
    {
     "data": {
      "image/png": "[encoded data removed]",
      "text/plain": [
       "<Figure size 576x360 with 1 Axes>"
      ]
     },
     "metadata": {},
     "output_type": "display_data"
    }
   ],
   "source": [
    "sns.set(rc={'figure.figsize':(8,5)})\n",
    "sns.set(font_scale = 1.25)\n",
    "sns.set_style('whitegrid')\n",
    "quant_year_b = sns.barplot(x='Ano', y='Quantidade', data=ipos_per_year, palette= cm.gist_yarg(ipos_per_year['Quantidade']*10),ec= 'black')\n",
    "quant_year_b.set_xlabel('Anos', fontsize = 16)\n",
    "quant_year_b.set_ylabel('Quantidade', fontsize = 16)\n",
    "for index, row in ipos_per_year.iterrows():\n",
    "    quant_year_b.text(row.name, row.Quantidade+0.175, round(row.Quantidade,2), color=\"black\", ha=\"center\")"
   ]
  },
  {
   "cell_type": "markdown",
   "metadata": {},
   "source": [
    "## 4.2 Qual a rentabilidade dos IPOs considerando vendas dos ativos a curto, médio e longo prazo?"
   ]
  },
  {
   "cell_type": "code",
   "execution_count": 12,
   "metadata": {},
   "outputs": [],
   "source": [
    "def rentability(ticker, dias_uteis, dict_ticker=dict_tickers, data=ipo_df):\n",
    "    ticker = ticker.upper()\n",
    "    df = data[data.codneg==ticker]\n",
    "    df = df.reset_index(drop=True)\n",
    "    variation = ((df[\"preult\"].iloc[dias_uteis-1]/dict_ticker[ticker])-1)*100\n",
    "    return variation"
   ]
  },
  {
   "cell_type": "code",
   "execution_count": 13,
   "metadata": {},
   "outputs": [],
   "source": [
    "ipos_2015 = date_ipo_df[(date_ipo_df['date'] >= '2015-01-01') & (date_ipo_df['date'] <= '2015-12-31')]\n",
    "ipos_2016 = date_ipo_df[(date_ipo_df['date'] >= '2016-01-01') & (date_ipo_df['date'] <= '2016-12-31')]\n",
    "ipos_2017 = date_ipo_df[(date_ipo_df['date'] >= '2017-01-01') & (date_ipo_df['date'] <= '2017-12-31')]\n",
    "ipos_2018 = date_ipo_df[(date_ipo_df['date'] >= '2018-01-01') & (date_ipo_df['date'] <= '2018-12-31')]\n",
    "ipos_2019 = date_ipo_df[(date_ipo_df['date'] >= '2019-01-01') & (date_ipo_df['date'] <= '2019-12-31')]\n",
    "ipos_2020 = date_ipo_df[(date_ipo_df['date'] >= '2020-01-01') & (date_ipo_df['date'] <= '2020-12-31')]\n",
    "ipos_2021 = date_ipo_df[(date_ipo_df['date'] >= '2021-01-01') & (date_ipo_df['date'] <= '2021-06-09')]\n",
    "ipos_list = [ipos_2015, ipos_2016, ipos_2017, ipos_2018, ipos_2019, ipos_2020, ipos_2021]"
   ]
  },
  {
   "cell_type": "markdown",
   "metadata": {},
   "source": [
    "### 2015"
   ]
  },
  {
   "cell_type": "code",
   "execution_count": 14,
   "metadata": {
    "scrolled": true
   },
   "outputs": [
    {
     "data": {
      "text/plain": [
       "0    WIZS3\n",
       "Name: tickers, dtype: object"
      ]
     },
     "execution_count": 14,
     "metadata": {},
     "output_type": "execute_result"
    }
   ],
   "source": [
    "ipos_2015.tickers"
   ]
  },
  {
   "cell_type": "code",
   "execution_count": 15,
   "metadata": {
    "scrolled": true
   },
   "outputs": [
    {
     "data": {
      "text/html": [
       "<div>\n",
       "<style scoped>\n",
       "    .dataframe tbody tr th:only-of-type {\n",
       "        vertical-align: middle;\n",
       "    }\n",
       "\n",
       "    .dataframe tbody tr th {\n",
       "        vertical-align: top;\n",
       "    }\n",
       "\n",
       "    .dataframe thead th {\n",
       "        text-align: right;\n",
       "    }\n",
       "</style>\n",
       "<table border=\"1\" class=\"dataframe\">\n",
       "  <thead>\n",
       "    <tr style=\"text-align: right;\">\n",
       "      <th></th>\n",
       "      <th>1D</th>\n",
       "      <th>1M</th>\n",
       "      <th>3M</th>\n",
       "      <th>6M</th>\n",
       "      <th>year</th>\n",
       "    </tr>\n",
       "  </thead>\n",
       "  <tbody>\n",
       "    <tr>\n",
       "      <th>count</th>\n",
       "      <td>1.000000</td>\n",
       "      <td>1.000000</td>\n",
       "      <td>1.000000</td>\n",
       "      <td>1.000000</td>\n",
       "      <td>1.0</td>\n",
       "    </tr>\n",
       "    <tr>\n",
       "      <th>mean</th>\n",
       "      <td>12.733171</td>\n",
       "      <td>14.111922</td>\n",
       "      <td>8.678021</td>\n",
       "      <td>-15.247364</td>\n",
       "      <td>2015.0</td>\n",
       "    </tr>\n",
       "    <tr>\n",
       "      <th>std</th>\n",
       "      <td>NaN</td>\n",
       "      <td>NaN</td>\n",
       "      <td>NaN</td>\n",
       "      <td>NaN</td>\n",
       "      <td>NaN</td>\n",
       "    </tr>\n",
       "    <tr>\n",
       "      <th>min</th>\n",
       "      <td>12.733171</td>\n",
       "      <td>14.111922</td>\n",
       "      <td>8.678021</td>\n",
       "      <td>-15.247364</td>\n",
       "      <td>2015.0</td>\n",
       "    </tr>\n",
       "    <tr>\n",
       "      <th>25%</th>\n",
       "      <td>12.733171</td>\n",
       "      <td>14.111922</td>\n",
       "      <td>8.678021</td>\n",
       "      <td>-15.247364</td>\n",
       "      <td>2015.0</td>\n",
       "    </tr>\n",
       "    <tr>\n",
       "      <th>50%</th>\n",
       "      <td>12.733171</td>\n",
       "      <td>14.111922</td>\n",
       "      <td>8.678021</td>\n",
       "      <td>-15.247364</td>\n",
       "      <td>2015.0</td>\n",
       "    </tr>\n",
       "    <tr>\n",
       "      <th>75%</th>\n",
       "      <td>12.733171</td>\n",
       "      <td>14.111922</td>\n",
       "      <td>8.678021</td>\n",
       "      <td>-15.247364</td>\n",
       "      <td>2015.0</td>\n",
       "    </tr>\n",
       "    <tr>\n",
       "      <th>max</th>\n",
       "      <td>12.733171</td>\n",
       "      <td>14.111922</td>\n",
       "      <td>8.678021</td>\n",
       "      <td>-15.247364</td>\n",
       "      <td>2015.0</td>\n",
       "    </tr>\n",
       "  </tbody>\n",
       "</table>\n",
       "</div>"
      ],
      "text/plain": [
       "              1D         1M        3M         6M    year\n",
       "count   1.000000   1.000000  1.000000   1.000000     1.0\n",
       "mean   12.733171  14.111922  8.678021 -15.247364  2015.0\n",
       "std          NaN        NaN       NaN        NaN     NaN\n",
       "min    12.733171  14.111922  8.678021 -15.247364  2015.0\n",
       "25%    12.733171  14.111922  8.678021 -15.247364  2015.0\n",
       "50%    12.733171  14.111922  8.678021 -15.247364  2015.0\n",
       "75%    12.733171  14.111922  8.678021 -15.247364  2015.0\n",
       "max    12.733171  14.111922  8.678021 -15.247364  2015.0"
      ]
     },
     "execution_count": 15,
     "metadata": {},
     "output_type": "execute_result"
    }
   ],
   "source": [
    "rent_df_15 = pd.DataFrame(columns=[\"1D\", \"1M\", \"3M\", \"6M\"])\n",
    "time = [1, 20, 60, 120]\n",
    "tickers_15 = ipos_2015[\"tickers\"]\n",
    "for t in tickers_15:\n",
    "    rent_df_15.loc[t] = [rentability(t, c) for c in time]\n",
    "rent_df_15['year'] = 2015\n",
    "rent_df_15.describe()"
   ]
  },
  {
   "cell_type": "markdown",
   "metadata": {},
   "source": [
    "### 2016"
   ]
  },
  {
   "cell_type": "code",
   "execution_count": 16,
   "metadata": {},
   "outputs": [
    {
     "data": {
      "text/plain": [
       "1    AALR3\n",
       "Name: tickers, dtype: object"
      ]
     },
     "execution_count": 16,
     "metadata": {},
     "output_type": "execute_result"
    }
   ],
   "source": [
    "ipos_2016.tickers"
   ]
  },
  {
   "cell_type": "code",
   "execution_count": 17,
   "metadata": {},
   "outputs": [
    {
     "data": {
      "text/html": [
       "<div>\n",
       "<style scoped>\n",
       "    .dataframe tbody tr th:only-of-type {\n",
       "        vertical-align: middle;\n",
       "    }\n",
       "\n",
       "    .dataframe tbody tr th {\n",
       "        vertical-align: top;\n",
       "    }\n",
       "\n",
       "    .dataframe thead th {\n",
       "        text-align: right;\n",
       "    }\n",
       "</style>\n",
       "<table border=\"1\" class=\"dataframe\">\n",
       "  <thead>\n",
       "    <tr style=\"text-align: right;\">\n",
       "      <th></th>\n",
       "      <th>1D</th>\n",
       "      <th>1M</th>\n",
       "      <th>3M</th>\n",
       "      <th>6M</th>\n",
       "      <th>year</th>\n",
       "    </tr>\n",
       "  </thead>\n",
       "  <tbody>\n",
       "    <tr>\n",
       "      <th>count</th>\n",
       "      <td>1.0</td>\n",
       "      <td>1.0</td>\n",
       "      <td>1.00</td>\n",
       "      <td>1.00</td>\n",
       "      <td>1.0</td>\n",
       "    </tr>\n",
       "    <tr>\n",
       "      <th>mean</th>\n",
       "      <td>-4.0</td>\n",
       "      <td>-20.0</td>\n",
       "      <td>-28.05</td>\n",
       "      <td>-17.55</td>\n",
       "      <td>2016.0</td>\n",
       "    </tr>\n",
       "    <tr>\n",
       "      <th>std</th>\n",
       "      <td>NaN</td>\n",
       "      <td>NaN</td>\n",
       "      <td>NaN</td>\n",
       "      <td>NaN</td>\n",
       "      <td>NaN</td>\n",
       "    </tr>\n",
       "    <tr>\n",
       "      <th>min</th>\n",
       "      <td>-4.0</td>\n",
       "      <td>-20.0</td>\n",
       "      <td>-28.05</td>\n",
       "      <td>-17.55</td>\n",
       "      <td>2016.0</td>\n",
       "    </tr>\n",
       "    <tr>\n",
       "      <th>25%</th>\n",
       "      <td>-4.0</td>\n",
       "      <td>-20.0</td>\n",
       "      <td>-28.05</td>\n",
       "      <td>-17.55</td>\n",
       "      <td>2016.0</td>\n",
       "    </tr>\n",
       "    <tr>\n",
       "      <th>50%</th>\n",
       "      <td>-4.0</td>\n",
       "      <td>-20.0</td>\n",
       "      <td>-28.05</td>\n",
       "      <td>-17.55</td>\n",
       "      <td>2016.0</td>\n",
       "    </tr>\n",
       "    <tr>\n",
       "      <th>75%</th>\n",
       "      <td>-4.0</td>\n",
       "      <td>-20.0</td>\n",
       "      <td>-28.05</td>\n",
       "      <td>-17.55</td>\n",
       "      <td>2016.0</td>\n",
       "    </tr>\n",
       "    <tr>\n",
       "      <th>max</th>\n",
       "      <td>-4.0</td>\n",
       "      <td>-20.0</td>\n",
       "      <td>-28.05</td>\n",
       "      <td>-17.55</td>\n",
       "      <td>2016.0</td>\n",
       "    </tr>\n",
       "  </tbody>\n",
       "</table>\n",
       "</div>"
      ],
      "text/plain": [
       "        1D    1M     3M     6M    year\n",
       "count  1.0   1.0   1.00   1.00     1.0\n",
       "mean  -4.0 -20.0 -28.05 -17.55  2016.0\n",
       "std    NaN   NaN    NaN    NaN     NaN\n",
       "min   -4.0 -20.0 -28.05 -17.55  2016.0\n",
       "25%   -4.0 -20.0 -28.05 -17.55  2016.0\n",
       "50%   -4.0 -20.0 -28.05 -17.55  2016.0\n",
       "75%   -4.0 -20.0 -28.05 -17.55  2016.0\n",
       "max   -4.0 -20.0 -28.05 -17.55  2016.0"
      ]
     },
     "execution_count": 17,
     "metadata": {},
     "output_type": "execute_result"
    }
   ],
   "source": [
    "rent_df_16 = pd.DataFrame(columns=[\"1D\", \"1M\", \"3M\", \"6M\"])\n",
    "time = [1, 20, 60, 120]\n",
    "tickers_16 = ipos_2016[\"tickers\"]\n",
    "for t in tickers_16:\n",
    "    rent_df_16.loc[t] = [rentability(t, c) for c in time]\n",
    "rent_df_16['year'] = 2016\n",
    "rent_df_16.describe()"
   ]
  },
  {
   "cell_type": "markdown",
   "metadata": {},
   "source": [
    "### 2017"
   ]
  },
  {
   "cell_type": "code",
   "execution_count": 18,
   "metadata": {},
   "outputs": [
    {
     "data": {
      "text/plain": [
       "2     MOVI3\n",
       "3     PARD3\n",
       "4     AZUL4\n",
       "5     CRFB3\n",
       "6     IRBR3\n",
       "7     OMGE3\n",
       "8     CAML3\n",
       "9     BKBR3\n",
       "10    BRDT3\n",
       "Name: tickers, dtype: object"
      ]
     },
     "execution_count": 18,
     "metadata": {},
     "output_type": "execute_result"
    }
   ],
   "source": [
    "ipos_2017.tickers"
   ]
  },
  {
   "cell_type": "code",
   "execution_count": 19,
   "metadata": {
    "scrolled": true
   },
   "outputs": [
    {
     "data": {
      "text/html": [
       "<div>\n",
       "<style scoped>\n",
       "    .dataframe tbody tr th:only-of-type {\n",
       "        vertical-align: middle;\n",
       "    }\n",
       "\n",
       "    .dataframe tbody tr th {\n",
       "        vertical-align: top;\n",
       "    }\n",
       "\n",
       "    .dataframe thead th {\n",
       "        text-align: right;\n",
       "    }\n",
       "</style>\n",
       "<table border=\"1\" class=\"dataframe\">\n",
       "  <thead>\n",
       "    <tr style=\"text-align: right;\">\n",
       "      <th></th>\n",
       "      <th>1D</th>\n",
       "      <th>1M</th>\n",
       "      <th>3M</th>\n",
       "      <th>6M</th>\n",
       "      <th>year</th>\n",
       "    </tr>\n",
       "  </thead>\n",
       "  <tbody>\n",
       "    <tr>\n",
       "      <th>count</th>\n",
       "      <td>9.000000</td>\n",
       "      <td>9.000000</td>\n",
       "      <td>9.000000</td>\n",
       "      <td>9.000000</td>\n",
       "      <td>9.0</td>\n",
       "    </tr>\n",
       "    <tr>\n",
       "      <th>mean</th>\n",
       "      <td>3.354082</td>\n",
       "      <td>6.391514</td>\n",
       "      <td>17.824112</td>\n",
       "      <td>16.856246</td>\n",
       "      <td>2017.0</td>\n",
       "    </tr>\n",
       "    <tr>\n",
       "      <th>std</th>\n",
       "      <td>4.595710</td>\n",
       "      <td>8.824979</td>\n",
       "      <td>19.853024</td>\n",
       "      <td>23.127254</td>\n",
       "      <td>0.0</td>\n",
       "    </tr>\n",
       "    <tr>\n",
       "      <th>min</th>\n",
       "      <td>-2.666667</td>\n",
       "      <td>-5.555556</td>\n",
       "      <td>-14.444444</td>\n",
       "      <td>-17.444444</td>\n",
       "      <td>2017.0</td>\n",
       "    </tr>\n",
       "    <tr>\n",
       "      <th>25%</th>\n",
       "      <td>-0.666667</td>\n",
       "      <td>0.533333</td>\n",
       "      <td>7.400000</td>\n",
       "      <td>-3.133333</td>\n",
       "      <td>2017.0</td>\n",
       "    </tr>\n",
       "    <tr>\n",
       "      <th>50%</th>\n",
       "      <td>5.769231</td>\n",
       "      <td>5.315789</td>\n",
       "      <td>19.190476</td>\n",
       "      <td>14.166667</td>\n",
       "      <td>2017.0</td>\n",
       "    </tr>\n",
       "    <tr>\n",
       "      <th>75%</th>\n",
       "      <td>6.666667</td>\n",
       "      <td>11.538462</td>\n",
       "      <td>31.600000</td>\n",
       "      <td>36.761905</td>\n",
       "      <td>2017.0</td>\n",
       "    </tr>\n",
       "    <tr>\n",
       "      <th>max</th>\n",
       "      <td>8.947368</td>\n",
       "      <td>20.238095</td>\n",
       "      <td>50.600000</td>\n",
       "      <td>44.631579</td>\n",
       "      <td>2017.0</td>\n",
       "    </tr>\n",
       "  </tbody>\n",
       "</table>\n",
       "</div>"
      ],
      "text/plain": [
       "             1D         1M         3M         6M    year\n",
       "count  9.000000   9.000000   9.000000   9.000000     9.0\n",
       "mean   3.354082   6.391514  17.824112  16.856246  2017.0\n",
       "std    4.595710   8.824979  19.853024  23.127254     0.0\n",
       "min   -2.666667  -5.555556 -14.444444 -17.444444  2017.0\n",
       "25%   -0.666667   0.533333   7.400000  -3.133333  2017.0\n",
       "50%    5.769231   5.315789  19.190476  14.166667  2017.0\n",
       "75%    6.666667  11.538462  31.600000  36.761905  2017.0\n",
       "max    8.947368  20.238095  50.600000  44.631579  2017.0"
      ]
     },
     "execution_count": 19,
     "metadata": {},
     "output_type": "execute_result"
    }
   ],
   "source": [
    "rent_df_17 = pd.DataFrame(columns=[\"1D\", \"1M\", \"3M\", \"6M\"])\n",
    "time = [1, 20, 60, 120]\n",
    "tickers_17 = ipos_2017[\"tickers\"]\n",
    "for t in tickers_17:\n",
    "    rent_df_17.loc[t] = [rentability(t, c) for c in time]\n",
    "rent_df_17['year'] = 2017\n",
    "rent_df_17.describe()"
   ]
  },
  {
   "cell_type": "markdown",
   "metadata": {},
   "source": [
    "### 2018"
   ]
  },
  {
   "cell_type": "code",
   "execution_count": 20,
   "metadata": {
    "scrolled": true
   },
   "outputs": [
    {
     "data": {
      "text/plain": [
       "11    GNDI3\n",
       "12    HAPV3\n",
       "13    BIDI4\n",
       "Name: tickers, dtype: object"
      ]
     },
     "execution_count": 20,
     "metadata": {},
     "output_type": "execute_result"
    }
   ],
   "source": [
    "ipos_2018.tickers"
   ]
  },
  {
   "cell_type": "code",
   "execution_count": 21,
   "metadata": {
    "scrolled": false
   },
   "outputs": [
    {
     "data": {
      "text/html": [
       "<div>\n",
       "<style scoped>\n",
       "    .dataframe tbody tr th:only-of-type {\n",
       "        vertical-align: middle;\n",
       "    }\n",
       "\n",
       "    .dataframe tbody tr th {\n",
       "        vertical-align: top;\n",
       "    }\n",
       "\n",
       "    .dataframe thead th {\n",
       "        text-align: right;\n",
       "    }\n",
       "</style>\n",
       "<table border=\"1\" class=\"dataframe\">\n",
       "  <thead>\n",
       "    <tr style=\"text-align: right;\">\n",
       "      <th></th>\n",
       "      <th>1D</th>\n",
       "      <th>1M</th>\n",
       "      <th>3M</th>\n",
       "      <th>6M</th>\n",
       "      <th>year</th>\n",
       "    </tr>\n",
       "  </thead>\n",
       "  <tbody>\n",
       "    <tr>\n",
       "      <th>count</th>\n",
       "      <td>3.000000</td>\n",
       "      <td>3.000000</td>\n",
       "      <td>3.000000</td>\n",
       "      <td>3.000000</td>\n",
       "      <td>3.0</td>\n",
       "    </tr>\n",
       "    <tr>\n",
       "      <th>mean</th>\n",
       "      <td>14.984230</td>\n",
       "      <td>15.639884</td>\n",
       "      <td>25.898537</td>\n",
       "      <td>59.599433</td>\n",
       "      <td>2018.0</td>\n",
       "    </tr>\n",
       "    <tr>\n",
       "      <th>std</th>\n",
       "      <td>13.444859</td>\n",
       "      <td>30.967431</td>\n",
       "      <td>22.367370</td>\n",
       "      <td>60.564852</td>\n",
       "      <td>0.0</td>\n",
       "    </tr>\n",
       "    <tr>\n",
       "      <th>min</th>\n",
       "      <td>-0.540541</td>\n",
       "      <td>-19.459459</td>\n",
       "      <td>2.702703</td>\n",
       "      <td>7.276596</td>\n",
       "      <td>2018.0</td>\n",
       "    </tr>\n",
       "    <tr>\n",
       "      <th>25%</th>\n",
       "      <td>11.093366</td>\n",
       "      <td>3.906634</td>\n",
       "      <td>15.181139</td>\n",
       "      <td>26.426177</td>\n",
       "      <td>2018.0</td>\n",
       "    </tr>\n",
       "    <tr>\n",
       "      <th>50%</th>\n",
       "      <td>22.727273</td>\n",
       "      <td>27.272727</td>\n",
       "      <td>27.659574</td>\n",
       "      <td>45.575758</td>\n",
       "      <td>2018.0</td>\n",
       "    </tr>\n",
       "    <tr>\n",
       "      <th>75%</th>\n",
       "      <td>22.746615</td>\n",
       "      <td>33.189555</td>\n",
       "      <td>37.496454</td>\n",
       "      <td>85.760852</td>\n",
       "      <td>2018.0</td>\n",
       "    </tr>\n",
       "    <tr>\n",
       "      <th>max</th>\n",
       "      <td>22.765957</td>\n",
       "      <td>39.106383</td>\n",
       "      <td>47.333333</td>\n",
       "      <td>125.945946</td>\n",
       "      <td>2018.0</td>\n",
       "    </tr>\n",
       "  </tbody>\n",
       "</table>\n",
       "</div>"
      ],
      "text/plain": [
       "              1D         1M         3M          6M    year\n",
       "count   3.000000   3.000000   3.000000    3.000000     3.0\n",
       "mean   14.984230  15.639884  25.898537   59.599433  2018.0\n",
       "std    13.444859  30.967431  22.367370   60.564852     0.0\n",
       "min    -0.540541 -19.459459   2.702703    7.276596  2018.0\n",
       "25%    11.093366   3.906634  15.181139   26.426177  2018.0\n",
       "50%    22.727273  27.272727  27.659574   45.575758  2018.0\n",
       "75%    22.746615  33.189555  37.496454   85.760852  2018.0\n",
       "max    22.765957  39.106383  47.333333  125.945946  2018.0"
      ]
     },
     "execution_count": 21,
     "metadata": {},
     "output_type": "execute_result"
    }
   ],
   "source": [
    "rent_df_18 = pd.DataFrame(columns=[\"1D\", \"1M\", \"3M\", \"6M\"])\n",
    "time = [1, 20, 60, 120]\n",
    "tickers_18 = ipos_2018[\"tickers\"]\n",
    "for t in tickers_18:\n",
    "    rent_df_18.loc[t] = [rentability(t, c) for c in time]\n",
    "rent_df_18['year'] = 2018\n",
    "rent_df_18.describe()"
   ]
  },
  {
   "cell_type": "code",
   "execution_count": 22,
   "metadata": {},
   "outputs": [],
   "source": [
    "#sns.set(rc={'figure.figsize':(12,8)})\n",
    "#rent_df_18.boxplot(column=[\"1D\", \"1M\", \"3M\", \"6M\"])"
   ]
  },
  {
   "cell_type": "markdown",
   "metadata": {},
   "source": [
    "### 2019"
   ]
  },
  {
   "cell_type": "code",
   "execution_count": 23,
   "metadata": {},
   "outputs": [
    {
     "data": {
      "text/plain": [
       "14    SBFG3\n",
       "15    NEOE3\n",
       "16    VIVA3\n",
       "17    BMGB4\n",
       "18    CEAB3\n",
       "Name: tickers, dtype: object"
      ]
     },
     "execution_count": 23,
     "metadata": {},
     "output_type": "execute_result"
    }
   ],
   "source": [
    "ipos_2019.tickers"
   ]
  },
  {
   "cell_type": "code",
   "execution_count": 24,
   "metadata": {
    "scrolled": true
   },
   "outputs": [
    {
     "data": {
      "text/html": [
       "<div>\n",
       "<style scoped>\n",
       "    .dataframe tbody tr th:only-of-type {\n",
       "        vertical-align: middle;\n",
       "    }\n",
       "\n",
       "    .dataframe tbody tr th {\n",
       "        vertical-align: top;\n",
       "    }\n",
       "\n",
       "    .dataframe thead th {\n",
       "        text-align: right;\n",
       "    }\n",
       "</style>\n",
       "<table border=\"1\" class=\"dataframe\">\n",
       "  <thead>\n",
       "    <tr style=\"text-align: right;\">\n",
       "      <th></th>\n",
       "      <th>1D</th>\n",
       "      <th>1M</th>\n",
       "      <th>3M</th>\n",
       "      <th>6M</th>\n",
       "      <th>year</th>\n",
       "    </tr>\n",
       "  </thead>\n",
       "  <tbody>\n",
       "    <tr>\n",
       "      <th>count</th>\n",
       "      <td>5.000000</td>\n",
       "      <td>5.000000</td>\n",
       "      <td>5.000000</td>\n",
       "      <td>5.000000</td>\n",
       "      <td>5.0</td>\n",
       "    </tr>\n",
       "    <tr>\n",
       "      <th>mean</th>\n",
       "      <td>-3.453271</td>\n",
       "      <td>-2.110681</td>\n",
       "      <td>4.612695</td>\n",
       "      <td>-4.094820</td>\n",
       "      <td>2019.0</td>\n",
       "    </tr>\n",
       "    <tr>\n",
       "      <th>std</th>\n",
       "      <td>13.997895</td>\n",
       "      <td>10.706540</td>\n",
       "      <td>30.416983</td>\n",
       "      <td>63.915550</td>\n",
       "      <td>0.0</td>\n",
       "    </tr>\n",
       "    <tr>\n",
       "      <th>min</th>\n",
       "      <td>-27.586207</td>\n",
       "      <td>-15.603448</td>\n",
       "      <td>-46.120690</td>\n",
       "      <td>-60.000000</td>\n",
       "      <td>2019.0</td>\n",
       "    </tr>\n",
       "    <tr>\n",
       "      <th>25%</th>\n",
       "      <td>-1.600000</td>\n",
       "      <td>-7.520000</td>\n",
       "      <td>-0.060606</td>\n",
       "      <td>-51.878788</td>\n",
       "      <td>2019.0</td>\n",
       "    </tr>\n",
       "    <tr>\n",
       "      <th>50%</th>\n",
       "      <td>0.458333</td>\n",
       "      <td>-0.848485</td>\n",
       "      <td>18.333333</td>\n",
       "      <td>-38.333333</td>\n",
       "      <td>2019.0</td>\n",
       "    </tr>\n",
       "    <tr>\n",
       "      <th>75%</th>\n",
       "      <td>3.090909</td>\n",
       "      <td>0.000000</td>\n",
       "      <td>20.560000</td>\n",
       "      <td>53.738019</td>\n",
       "      <td>2019.0</td>\n",
       "    </tr>\n",
       "    <tr>\n",
       "      <th>max</th>\n",
       "      <td>8.370607</td>\n",
       "      <td>13.418530</td>\n",
       "      <td>30.351438</td>\n",
       "      <td>76.000000</td>\n",
       "      <td>2019.0</td>\n",
       "    </tr>\n",
       "  </tbody>\n",
       "</table>\n",
       "</div>"
      ],
      "text/plain": [
       "              1D         1M         3M         6M    year\n",
       "count   5.000000   5.000000   5.000000   5.000000     5.0\n",
       "mean   -3.453271  -2.110681   4.612695  -4.094820  2019.0\n",
       "std    13.997895  10.706540  30.416983  63.915550     0.0\n",
       "min   -27.586207 -15.603448 -46.120690 -60.000000  2019.0\n",
       "25%    -1.600000  -7.520000  -0.060606 -51.878788  2019.0\n",
       "50%     0.458333  -0.848485  18.333333 -38.333333  2019.0\n",
       "75%     3.090909   0.000000  20.560000  53.738019  2019.0\n",
       "max     8.370607  13.418530  30.351438  76.000000  2019.0"
      ]
     },
     "execution_count": 24,
     "metadata": {},
     "output_type": "execute_result"
    }
   ],
   "source": [
    "rent_df_19 = pd.DataFrame(columns=[\"1D\", \"1M\", \"3M\", \"6M\"])\n",
    "time = [1, 20, 60, 120]\n",
    "tickers_19 = ipos_2019[\"tickers\"]\n",
    "for t in tickers_19:\n",
    "    rent_df_19.loc[t] = [rentability(t, c) for c in time]\n",
    "rent_df_19['year'] = 2019\n",
    "rent_df_19.describe()"
   ]
  },
  {
   "cell_type": "markdown",
   "metadata": {},
   "source": [
    "### 2020"
   ]
  },
  {
   "cell_type": "code",
   "execution_count": 25,
   "metadata": {},
   "outputs": [
    {
     "data": {
      "text/plain": [
       "19    MTRE3\n",
       "20    LWSA3\n",
       "21    MDNE3\n",
       "22    PRNR3\n",
       "23    ALPK3\n",
       "24    AMBP3\n",
       "25    SOMA3\n",
       "26    DMVF3\n",
       "27    LJQQ3\n",
       "28    LAVV3\n",
       "29    PGMN3\n",
       "30    PETZ3\n",
       "31    PLPL3\n",
       "32    MELK3\n",
       "33    HBSA3\n",
       "34    CURY3\n",
       "35    BOAS3\n",
       "36    SEQL3\n",
       "37    GMAT3\n",
       "38    TFCO4\n",
       "39    CASH3\n",
       "40    ENJU3\n",
       "41    AERI3\n",
       "42    RRRP3\n",
       "43    AVLL3\n",
       "44    RDOR3\n",
       "45    NGRD3\n",
       "Name: tickers, dtype: object"
      ]
     },
     "execution_count": 25,
     "metadata": {},
     "output_type": "execute_result"
    }
   ],
   "source": [
    "ipos_2020.tickers"
   ]
  },
  {
   "cell_type": "code",
   "execution_count": 26,
   "metadata": {
    "scrolled": false
   },
   "outputs": [
    {
     "data": {
      "text/html": [
       "<div>\n",
       "<style scoped>\n",
       "    .dataframe tbody tr th:only-of-type {\n",
       "        vertical-align: middle;\n",
       "    }\n",
       "\n",
       "    .dataframe tbody tr th {\n",
       "        vertical-align: top;\n",
       "    }\n",
       "\n",
       "    .dataframe thead th {\n",
       "        text-align: right;\n",
       "    }\n",
       "</style>\n",
       "<table border=\"1\" class=\"dataframe\">\n",
       "  <thead>\n",
       "    <tr style=\"text-align: right;\">\n",
       "      <th></th>\n",
       "      <th>1D</th>\n",
       "      <th>1M</th>\n",
       "      <th>3M</th>\n",
       "      <th>6M</th>\n",
       "      <th>year</th>\n",
       "    </tr>\n",
       "  </thead>\n",
       "  <tbody>\n",
       "    <tr>\n",
       "      <th>count</th>\n",
       "      <td>27.000000</td>\n",
       "      <td>27.000000</td>\n",
       "      <td>27.000000</td>\n",
       "      <td>27.000000</td>\n",
       "      <td>27.0</td>\n",
       "    </tr>\n",
       "    <tr>\n",
       "      <th>mean</th>\n",
       "      <td>4.899335</td>\n",
       "      <td>6.053839</td>\n",
       "      <td>19.817580</td>\n",
       "      <td>24.293593</td>\n",
       "      <td>2020.0</td>\n",
       "    </tr>\n",
       "    <tr>\n",
       "      <th>std</th>\n",
       "      <td>11.071188</td>\n",
       "      <td>34.456192</td>\n",
       "      <td>60.658903</td>\n",
       "      <td>59.435864</td>\n",
       "      <td>0.0</td>\n",
       "    </tr>\n",
       "    <tr>\n",
       "      <th>min</th>\n",
       "      <td>-9.047619</td>\n",
       "      <td>-42.736842</td>\n",
       "      <td>-69.473684</td>\n",
       "      <td>-43.085106</td>\n",
       "      <td>2020.0</td>\n",
       "    </tr>\n",
       "    <tr>\n",
       "      <th>25%</th>\n",
       "      <td>-1.808279</td>\n",
       "      <td>-10.695767</td>\n",
       "      <td>-13.110942</td>\n",
       "      <td>-15.619638</td>\n",
       "      <td>2020.0</td>\n",
       "    </tr>\n",
       "    <tr>\n",
       "      <th>50%</th>\n",
       "      <td>0.000000</td>\n",
       "      <td>3.490909</td>\n",
       "      <td>3.278689</td>\n",
       "      <td>6.141414</td>\n",
       "      <td>2020.0</td>\n",
       "    </tr>\n",
       "    <tr>\n",
       "      <th>75%</th>\n",
       "      <td>13.289038</td>\n",
       "      <td>12.768865</td>\n",
       "      <td>40.589111</td>\n",
       "      <td>45.434343</td>\n",
       "      <td>2020.0</td>\n",
       "    </tr>\n",
       "    <tr>\n",
       "      <th>max</th>\n",
       "      <td>34.000000</td>\n",
       "      <td>153.555556</td>\n",
       "      <td>224.500000</td>\n",
       "      <td>195.700000</td>\n",
       "      <td>2020.0</td>\n",
       "    </tr>\n",
       "  </tbody>\n",
       "</table>\n",
       "</div>"
      ],
      "text/plain": [
       "              1D          1M          3M          6M    year\n",
       "count  27.000000   27.000000   27.000000   27.000000    27.0\n",
       "mean    4.899335    6.053839   19.817580   24.293593  2020.0\n",
       "std    11.071188   34.456192   60.658903   59.435864     0.0\n",
       "min    -9.047619  -42.736842  -69.473684  -43.085106  2020.0\n",
       "25%    -1.808279  -10.695767  -13.110942  -15.619638  2020.0\n",
       "50%     0.000000    3.490909    3.278689    6.141414  2020.0\n",
       "75%    13.289038   12.768865   40.589111   45.434343  2020.0\n",
       "max    34.000000  153.555556  224.500000  195.700000  2020.0"
      ]
     },
     "execution_count": 26,
     "metadata": {},
     "output_type": "execute_result"
    }
   ],
   "source": [
    "rent_df_20 = pd.DataFrame(columns=[\"1D\", \"1M\", \"3M\", \"6M\"])\n",
    "time = [1, 20, 60, 115]\n",
    "tickers_20 = ipos_2020[\"tickers\"]\n",
    "for t in tickers_20:\n",
    "    rent_df_20.loc[t] = [rentability(t, c) for c in time]\n",
    "rent_df_20['year'] = 2020\n",
    "rent_df_20.describe()"
   ]
  },
  {
   "cell_type": "markdown",
   "metadata": {},
   "source": [
    "### 2021"
   ]
  },
  {
   "cell_type": "code",
   "execution_count": 27,
   "metadata": {},
   "outputs": [
    {
     "data": {
      "text/plain": [
       "46     HBRE3\n",
       "47     VAMO3\n",
       "48     ESPA3\n",
       "49     INTB3\n",
       "50     MOSI3\n",
       "51     MBLY3\n",
       "52     JALL3\n",
       "53     POWE3\n",
       "54     CSED3\n",
       "55     OPCT3\n",
       "56     ORVR3\n",
       "57     ELMD3\n",
       "58     BMOB3\n",
       "59     CMIN3\n",
       "60     WEST3\n",
       "61     ALLD3\n",
       "62     MATD3\n",
       "63     BLAU3\n",
       "64     GGPS3\n",
       "65     SOJA3\n",
       "66     CXSE3\n",
       "67    MODL11\n",
       "68     RECV3\n",
       "Name: tickers, dtype: object"
      ]
     },
     "execution_count": 27,
     "metadata": {},
     "output_type": "execute_result"
    }
   ],
   "source": [
    "ipos_2021.tickers"
   ]
  },
  {
   "cell_type": "code",
   "execution_count": 28,
   "metadata": {
    "scrolled": false
   },
   "outputs": [
    {
     "data": {
      "text/html": [
       "<div>\n",
       "<style scoped>\n",
       "    .dataframe tbody tr th:only-of-type {\n",
       "        vertical-align: middle;\n",
       "    }\n",
       "\n",
       "    .dataframe tbody tr th {\n",
       "        vertical-align: top;\n",
       "    }\n",
       "\n",
       "    .dataframe thead th {\n",
       "        text-align: right;\n",
       "    }\n",
       "</style>\n",
       "<table border=\"1\" class=\"dataframe\">\n",
       "  <thead>\n",
       "    <tr style=\"text-align: right;\">\n",
       "      <th></th>\n",
       "      <th>1D</th>\n",
       "      <th>1M</th>\n",
       "      <th>year</th>\n",
       "    </tr>\n",
       "  </thead>\n",
       "  <tbody>\n",
       "    <tr>\n",
       "      <th>count</th>\n",
       "      <td>23.000000</td>\n",
       "      <td>23.000000</td>\n",
       "      <td>23.0</td>\n",
       "    </tr>\n",
       "    <tr>\n",
       "      <th>mean</th>\n",
       "      <td>9.338796</td>\n",
       "      <td>3.605040</td>\n",
       "      <td>2021.0</td>\n",
       "    </tr>\n",
       "    <tr>\n",
       "      <th>std</th>\n",
       "      <td>23.493599</td>\n",
       "      <td>19.084071</td>\n",
       "      <td>0.0</td>\n",
       "    </tr>\n",
       "    <tr>\n",
       "      <th>min</th>\n",
       "      <td>-13.152053</td>\n",
       "      <td>-23.076923</td>\n",
       "      <td>2021.0</td>\n",
       "    </tr>\n",
       "    <tr>\n",
       "      <th>25%</th>\n",
       "      <td>-3.198499</td>\n",
       "      <td>-6.542155</td>\n",
       "      <td>2021.0</td>\n",
       "    </tr>\n",
       "    <tr>\n",
       "      <th>50%</th>\n",
       "      <td>2.391629</td>\n",
       "      <td>0.055556</td>\n",
       "      <td>2021.0</td>\n",
       "    </tr>\n",
       "    <tr>\n",
       "      <th>75%</th>\n",
       "      <td>13.061183</td>\n",
       "      <td>15.093355</td>\n",
       "      <td>2021.0</td>\n",
       "    </tr>\n",
       "    <tr>\n",
       "      <th>max</th>\n",
       "      <td>96.969697</td>\n",
       "      <td>61.919192</td>\n",
       "      <td>2021.0</td>\n",
       "    </tr>\n",
       "  </tbody>\n",
       "</table>\n",
       "</div>"
      ],
      "text/plain": [
       "              1D         1M    year\n",
       "count  23.000000  23.000000    23.0\n",
       "mean    9.338796   3.605040  2021.0\n",
       "std    23.493599  19.084071     0.0\n",
       "min   -13.152053 -23.076923  2021.0\n",
       "25%    -3.198499  -6.542155  2021.0\n",
       "50%     2.391629   0.055556  2021.0\n",
       "75%    13.061183  15.093355  2021.0\n",
       "max    96.969697  61.919192  2021.0"
      ]
     },
     "execution_count": 28,
     "metadata": {},
     "output_type": "execute_result"
    }
   ],
   "source": [
    "rent_df_21 = pd.DataFrame(columns=[\"1D\", \"1M\"])\n",
    "time = [1, 20]\n",
    "tickers_21 = ipos_2021[\"tickers\"]\n",
    "for t in tickers_21:\n",
    "    rent_df_21.loc[t] = [rentability(t, c) for c in time]\n",
    "rent_df_21['year'] = 2021\n",
    "rent_df_21.describe()"
   ]
  },
  {
   "cell_type": "markdown",
   "metadata": {},
   "source": [
    "### 2015 a 2021"
   ]
  },
  {
   "cell_type": "code",
   "execution_count": 29,
   "metadata": {
    "scrolled": false
   },
   "outputs": [
    {
     "data": {
      "text/html": [
       "<div>\n",
       "<style scoped>\n",
       "    .dataframe tbody tr th:only-of-type {\n",
       "        vertical-align: middle;\n",
       "    }\n",
       "\n",
       "    .dataframe tbody tr th {\n",
       "        vertical-align: top;\n",
       "    }\n",
       "\n",
       "    .dataframe thead th {\n",
       "        text-align: right;\n",
       "    }\n",
       "</style>\n",
       "<table border=\"1\" class=\"dataframe\">\n",
       "  <thead>\n",
       "    <tr style=\"text-align: right;\">\n",
       "      <th></th>\n",
       "      <th>1D</th>\n",
       "      <th>15D</th>\n",
       "    </tr>\n",
       "  </thead>\n",
       "  <tbody>\n",
       "    <tr>\n",
       "      <th>count</th>\n",
       "      <td>69.000000</td>\n",
       "      <td>69.000000</td>\n",
       "    </tr>\n",
       "    <tr>\n",
       "      <th>mean</th>\n",
       "      <td>5.995371</td>\n",
       "      <td>5.621224</td>\n",
       "    </tr>\n",
       "    <tr>\n",
       "      <th>std</th>\n",
       "      <td>16.192957</td>\n",
       "      <td>17.366194</td>\n",
       "    </tr>\n",
       "    <tr>\n",
       "      <th>min</th>\n",
       "      <td>-27.586207</td>\n",
       "      <td>-27.764706</td>\n",
       "    </tr>\n",
       "    <tr>\n",
       "      <th>25%</th>\n",
       "      <td>-1.851852</td>\n",
       "      <td>-6.470588</td>\n",
       "    </tr>\n",
       "    <tr>\n",
       "      <th>50%</th>\n",
       "      <td>0.458333</td>\n",
       "      <td>4.216867</td>\n",
       "    </tr>\n",
       "    <tr>\n",
       "      <th>75%</th>\n",
       "      <td>8.947368</td>\n",
       "      <td>14.500000</td>\n",
       "    </tr>\n",
       "    <tr>\n",
       "      <th>max</th>\n",
       "      <td>96.969697</td>\n",
       "      <td>57.777778</td>\n",
       "    </tr>\n",
       "  </tbody>\n",
       "</table>\n",
       "</div>"
      ],
      "text/plain": [
       "              1D        15D\n",
       "count  69.000000  69.000000\n",
       "mean    5.995371   5.621224\n",
       "std    16.192957  17.366194\n",
       "min   -27.586207 -27.764706\n",
       "25%    -1.851852  -6.470588\n",
       "50%     0.458333   4.216867\n",
       "75%     8.947368  14.500000\n",
       "max    96.969697  57.777778"
      ]
     },
     "execution_count": 29,
     "metadata": {},
     "output_type": "execute_result"
    }
   ],
   "source": [
    "rent_df = pd.DataFrame(columns=[\"1D\", \"15D\"])\n",
    "time = [1, 10]\n",
    "for t in tickers:\n",
    "    rent_df.loc[t] = [rentability(t, c) for c in time]\n",
    "rent_df.describe()"
   ]
  },
  {
   "cell_type": "code",
   "execution_count": 30,
   "metadata": {},
   "outputs": [],
   "source": [
    "def average_rentability_lineplot():\n",
    "\n",
    "    average_rent_dict = {2015: rent_df_15, 2016: rent_df_16, 2017: rent_df_17, 2018: rent_df_18, 2019: rent_df_19, 2020: rent_df_20,\n",
    "                    2021: rent_df_21}\n",
    "\n",
    "    total_average_dict = {}\n",
    "\n",
    "    for c in [\"1D\", \"1M\", \"3M\", \"6M\"]:\n",
    "\n",
    "        void_dict = {}\n",
    "\n",
    "        for ano in range(2015, 2022):\n",
    "            try:\n",
    "                void_dict[ano] = [average_rent_dict[ano][c].mean(), average_rent_dict[ano][c].std()]\n",
    "            except:\n",
    "                void_dict[ano] = np.nan\n",
    "\n",
    "        total_average_dict[c] = void_dict \n",
    "\n",
    "    return total_average_dict"
   ]
  },
  {
   "cell_type": "code",
   "execution_count": 31,
   "metadata": {},
   "outputs": [],
   "source": [
    "average_lineplot = average_rentability_lineplot()"
   ]
  },
  {
   "cell_type": "code",
   "execution_count": 61,
   "metadata": {
    "scrolled": false
   },
   "outputs": [
    {
     "data": {
      "image/png": "[encoded data removed]",
      "text/plain": [
       "<Figure size 864x720 with 4 Axes>"
      ]
     },
     "metadata": {},
     "output_type": "display_data"
    }
   ],
   "source": [
    "sns.set(rc={'figure.figsize':(12,10)})\n",
    "sns.set_style('whitegrid')\n",
    "\n",
    "colors = {'1D':'black','1M':'red','3M':'green','6M':'orange'}\n",
    "fig, axs = plt.subplots(2, 2)\n",
    "#fig.title('Title', pad=20)\n",
    "fig.suptitle('Média das rentabilidades e desvio padrão durante períodos\\n\\n', y=0.90, fontsize=20)\n",
    "\n",
    "for i,c in enumerate(['1D','1M','3M','6M']):\n",
    "    df = pd.DataFrame(average_lineplot[c]).T\n",
    "    x = np.array(df.index)\n",
    "    y = np.array(df[0])\n",
    "    erro = np.array(df[1])\n",
    "\n",
    "    if i == 0 or i == 1:\n",
    "        axs[0,i].errorbar(x,y,yerr=erro, \n",
    "                          color = colors[c], ls = '-', # cor e tipo da linha\n",
    "                          fmt = 'o', mfc = 'red', mec = 'black',\n",
    "                          mew = 2, ms = 10, \n",
    "                          ecolor = colors[c],\n",
    "                          capsize = 10)\n",
    "\n",
    "        axs[0,i].set_title(c, fontsize=15)\n",
    "        axs[0,i].set_xlabel('Anos', fontsize = 17)\n",
    "        axs[0,i].set_ylabel(f'Rentabilidade (%) de {c}', fontsize = 17)\n",
    "\n",
    "    else:\n",
    "        axs[1,i-2].errorbar(x,y,yerr=erro, \n",
    "                            color = colors[c], ls = '-', # cor e tipo da linha\n",
    "                            fmt = 'o', mfc = 'red', mec = 'black',\n",
    "                            mew = 2, ms = 10, \n",
    "                            ecolor = colors[c],\n",
    "                            capsize = 10)\n",
    "\n",
    "        axs[1,i-2].set_title(c, fontsize=15)\n",
    "\n",
    "        axs[1,i-2].set_xlabel('Anos', fontsize = 17)\n",
    "        axs[1,i-2].set_ylabel(f'Rentabilidade (%) de {c}', fontsize = 17)\n",
    "\n",
    "    # plt.xlim([0,125])\n",
    "    # plt.ylim([0,125])\n",
    "\n",
    "fig.tight_layout(pad=1.5)"
   ]
  },
  {
   "cell_type": "code",
   "execution_count": 62,
   "metadata": {},
   "outputs": [],
   "source": [
    "def average_rentability_barplot():\n",
    "\n",
    "    average_rent_dict = {2015: rent_df_15, 2016: rent_df_16, 2017: rent_df_17, 2018: rent_df_18, 2019: rent_df_19, 2020: rent_df_20,\n",
    "                    2021: rent_df_21}\n",
    "\n",
    "    total_average_dict = {}\n",
    "\n",
    "    for c in [\"1D\", \"1M\", \"3M\", \"6M\"]:\n",
    "\n",
    "        void_dict = {}\n",
    "        auxiliar = 0\n",
    "        for ano in range(2015, 2022):\n",
    "            try:\n",
    "                x = average_rent_dict[ano][c].mean() + auxiliar\n",
    "                void_dict[ano] = [average_rent_dict[ano][c].mean(), average_rent_dict[ano][c].std(), x]\n",
    "                auxiliar = x\n",
    "            except:\n",
    "                void_dict[ano] = np.nan\n",
    "\n",
    "        total_average_dict[c] = void_dict    \n",
    "    return total_average_dict"
   ]
  },
  {
   "cell_type": "code",
   "execution_count": 63,
   "metadata": {},
   "outputs": [],
   "source": [
    "average_barplot = average_rentability_barplot()"
   ]
  },
  {
   "cell_type": "code",
   "execution_count": 64,
   "metadata": {},
   "outputs": [],
   "source": [
    "average_barplot_1d = pd.DataFrame(average_barplot[\"1D\"]).T.reset_index().rename(columns = {\"index\": \"Ano\", 0: \"Media\", 1: \"Desvio\", 2: \"Acumulada\"})\n",
    "average_barplot_1m = pd.DataFrame(average_barplot[\"1M\"]).T.reset_index().rename(columns = {\"index\": \"Ano\", 0: \"Media\", 1: \"Desvio\", 2: \"Acumulada\"})\n",
    "average_barplot_3m = pd.DataFrame(average_barplot[\"3M\"]).T.reset_index().rename(columns = {\"index\": \"Ano\", 0: \"Media\", 1: \"Desvio\", 2: \"Acumulada\"})\n",
    "average_barplot_6m = pd.DataFrame(average_barplot[\"6M\"]).T.reset_index().rename(columns = {\"index\": \"Ano\", 0: \"Media\", 1: \"Desvio\", 2: \"Acumulada\"})"
   ]
  },
  {
   "cell_type": "code",
   "execution_count": 145,
   "metadata": {},
   "outputs": [],
   "source": [
    "def plot_average_barplot(df):\n",
    "    sns.set(rc={'figure.figsize':(12,7)})\n",
    "    sns.set_palette('Dark2')\n",
    "    sns.set_style('whitegrid')\n",
    "    list_media = list(df[\"Media\"])\n",
    "    list_acumulada = list(df[\"Acumulada\"]) + list_media    \n",
    "    plt.ylim([round(min(list_acumulada) - 5), round(max(list_acumulada) + 5)])\n",
    "    axes = sns.lineplot(data = df[\"Acumulada\"], marker='o', sort = False)\n",
    "    axes2 = sns.barplot(data = df, x='Ano', y=\"Media\", alpha=0.5, ec= 'black')\n",
    "    for index, row in df.iterrows():\n",
    "        #axes.text(row.name, row.Media+0.175, round(row.Media,2), color=\"black\", ha=\"center\")\n",
    "        axes2.text(row.name, row.Acumulada+1.85, round(row.Acumulada,2), color=\"black\", ha=\"center\")"
   ]
  },
  {
   "cell_type": "code",
   "execution_count": 146,
   "metadata": {
    "scrolled": false
   },
   "outputs": [
    {
     "data": {
      "image/png": "[encoded data removed]",
      "text/plain": [
       "<Figure size 864x504 with 1 Axes>"
      ]
     },
     "metadata": {},
     "output_type": "display_data"
    }
   ],
   "source": [
    "plot_average_barplot(average_barplot_1d)"
   ]
  },
  {
   "cell_type": "code",
   "execution_count": 73,
   "metadata": {},
   "outputs": [
    {
     "data": {
      "image/png": "[encoded data removed]",
      "text/plain": [
       "<Figure size 864x504 with 1 Axes>"
      ]
     },
     "metadata": {},
     "output_type": "display_data"
    }
   ],
   "source": [
    "plot_average_barplot(average_barplot_1m)"
   ]
  },
  {
   "cell_type": "code",
   "execution_count": 74,
   "metadata": {},
   "outputs": [
    {
     "name": "stderr",
     "output_type": "stream",
     "text": [
      "posx and posy should be finite values\n",
      "posx and posy should be finite values\n",
      "posx and posy should be finite values\n",
      "posx and posy should be finite values\n"
     ]
    },
    {
     "data": {
      "image/png": "[encoded data removed]",
      "text/plain": [
       "<Figure size 864x504 with 1 Axes>"
      ]
     },
     "metadata": {},
     "output_type": "display_data"
    }
   ],
   "source": [
    "plot_average_barplot(average_barplot_3m)"
   ]
  },
  {
   "cell_type": "code",
   "execution_count": 75,
   "metadata": {},
   "outputs": [
    {
     "name": "stderr",
     "output_type": "stream",
     "text": [
      "posx and posy should be finite values\n",
      "posx and posy should be finite values\n",
      "posx and posy should be finite values\n",
      "posx and posy should be finite values\n"
     ]
    },
    {
     "data": {
      "image/png": "[encoded data removed]",
      "text/plain": [
       "<Figure size 864x504 with 1 Axes>"
      ]
     },
     "metadata": {},
     "output_type": "display_data"
    }
   ],
   "source": [
    "plot_average_barplot(average_barplot_6m)"
   ]
  },
  {
   "cell_type": "code",
   "execution_count": null,
   "metadata": {},
   "outputs": [],
   "source": [
    "list_rent_1d = []\n",
    "\n",
    "for t in tickers:\n",
    "    list_rent_1d.append(rentability(t, 1))\n",
    "\n",
    "dict_rent_1d = dict(zip(tickers,list_rent_1d))"
   ]
  },
  {
   "cell_type": "code",
   "execution_count": null,
   "metadata": {},
   "outputs": [],
   "source": [
    "df_rent = pd.DataFrame.from_dict(dict_rent_1d, orient='index').rename(columns={0:'Rentabilidade_1D'})\n",
    "df_rent = df_rent.reset_index().rename(columns={'index':'Ticker'})\n",
    "df_rent = df_rent.sort_values(\"Rentabilidade_1D\", ascending = False).reset_index(drop=True)\n",
    "df_rent.head()"
   ]
  },
  {
   "cell_type": "code",
   "execution_count": null,
   "metadata": {},
   "outputs": [],
   "source": [
    "menor_m15 = entremenos15_e_menos10 = entremenos10_e_men5 = entremen5_e_0 = 0\n",
    "entre0_e_5 = entre5_e_10 = entre10_e_15 = maior_15 = 0\n",
    "for i in range(df_rent.index.max() + 1):\n",
    "    \n",
    "    if (df_rent.loc[i, 'Rentabilidade_1D']) < -15:\n",
    "        menor_m15 += 1\n",
    "        \n",
    "    elif(df_rent.loc[i, 'Rentabilidade_1D']) >= -15 and (df_rent.loc[i, 'Rentabilidade_1D']) < -10:\n",
    "        entremenos15_e_menos10 += 1\n",
    "        \n",
    "    elif(df_rent.loc[i, 'Rentabilidade_1D']) >= -10 and (df_rent.loc[i, 'Rentabilidade_1D']) <-5:\n",
    "        entremenos10_e_men5 += 1\n",
    "    \n",
    "    elif(df_rent.loc[i, 'Rentabilidade_1D']) >= -5 and (df_rent.loc[i, 'Rentabilidade_1D']) <0:\n",
    "        entremen5_e_0 += 1 \n",
    "    \n",
    "    elif(df_rent.loc[i, 'Rentabilidade_1D']) >= 0 and (df_rent.loc[i, 'Rentabilidade_1D']) <5:\n",
    "        entre0_e_5 += 1 \n",
    "        \n",
    "    elif(df_rent.loc[i, 'Rentabilidade_1D']) >= 5 and (df_rent.loc[i, 'Rentabilidade_1D']) <10:\n",
    "        entre5_e_10 += 1 \n",
    "        \n",
    "    elif(df_rent.loc[i, 'Rentabilidade_1D']) >= 10 and (df_rent.loc[i, 'Rentabilidade_1D']) <15:\n",
    "        entre10_e_15 += 1 \n",
    "        \n",
    "    elif(df_rent.loc[i, 'Rentabilidade_1D']) >15:\n",
    "        maior_15 += 1 "
   ]
  },
  {
   "cell_type": "code",
   "execution_count": null,
   "metadata": {},
   "outputs": [],
   "source": [
    "df = pd.DataFrame({'< -15%': menor_m15, '-15% to -10%': entremenos15_e_menos10, '-10% to -5%': entremenos10_e_men5, \n",
    "                   '-5% to 0%': entremen5_e_0, '0% to 5%': entre0_e_5, '5% to 10%': entre5_e_10, \n",
    "                   '10% to 15%': entre10_e_15, '> 15%': maior_15}, index = [0])"
   ]
  },
  {
   "cell_type": "code",
   "execution_count": null,
   "metadata": {},
   "outputs": [],
   "source": [
    "DF = df.T\n",
    "DF = DF.reset_index().rename(columns={'index':'Valor', 0: 'Quantidade'})"
   ]
  },
  {
   "cell_type": "code",
   "execution_count": null,
   "metadata": {},
   "outputs": [],
   "source": [
    "sns.set(rc={'figure.figsize':(10,7)})\n",
    "sns.set_palette('bright')\n",
    "plot = sns.barplot(data=DF, x='Valor', y='Quantidade')\n",
    "for index, row in DF.iterrows():\n",
    "    plot.text(row.name, row.Quantidade+0.175, round(row.Quantidade,2), color=\"black\", ha=\"center\")"
   ]
  },
  {
   "cell_type": "markdown",
   "metadata": {},
   "source": [
    "## 4.3 Como se deu o comportamento das rentabilidades e volatilidades (incerteza de movimento) dos IPO's contra o IBOVESPA - índice que retrata a média da bolsa brasileira? "
   ]
  },
  {
   "cell_type": "code",
   "execution_count": null,
   "metadata": {},
   "outputs": [],
   "source": [
    "import pandas_datareader.data as web\n",
    "#Caso não tiver a biblioteca Yahoo Finance, tire a '#' da linha abaixo.\n",
    "#!pip install yfinance --upgrade --no-cache-dir\n",
    "import yfinance as yf\n",
    "yf.pdr_override()"
   ]
  },
  {
   "cell_type": "code",
   "execution_count": null,
   "metadata": {},
   "outputs": [],
   "source": [
    "date_ipo_dict = dict(zip(tickers, list(date_ipo_df['date']) ))"
   ]
  },
  {
   "cell_type": "code",
   "execution_count": null,
   "metadata": {},
   "outputs": [],
   "source": [
    "from IPython.display import clear_output\n",
    "\n",
    "historico_dict = {}\n",
    "\n",
    "for ticker in tickers:\n",
    "    clear_output(wait=True)\n",
    "    y_ticker = f'{ticker}.SA'\n",
    "    historico = web.get_data_yahoo(y_ticker)\n",
    "    historico = historico.reset_index(drop=False)[['Date','Adj Close']]\n",
    "    historico.insert(1,'Ticker',0)\n",
    "    historico['Ticker'] = historico.apply(lambda x: ticker,axis=1)\n",
    "    historico = historico[historico.Date >= date_ipo_dict[ticker] ]\n",
    "    historico_dict[ticker] = historico\n",
    "\n",
    "\n",
    "hist = historico_dict['WIZS3']\n",
    "for ticker in historico_dict:\n",
    "    if ticker == 'WIZS3':\n",
    "       continue\n",
    "    hist = pd.concat([hist,historico_dict[ticker]])\n",
    "\n",
    "hist = hist.sort_values('Date')\n",
    "hist = hist.reset_index(drop=True)\n",
    "\n",
    "rent_by_day = hist.pivot_table(values='Adj Close', index='Date', columns='Ticker')\n",
    "\n",
    "for c in rent_by_day: \n",
    "    fixing_close = hist[hist.Ticker == c].reset_index(drop=True).loc[0,'Adj Close']\n",
    "    rent_by_day[c] = ((rent_by_day[c] / fixing_close) - 1)* 100\n",
    "\n",
    "rent_by_day_mean = rent_by_day.mean(axis=1)\n",
    "rent_by_day_mean = pd.DataFrame(data=rent_by_day_mean, columns=['variation'])\n",
    "rent_by_day_mean = rent_by_day_mean.reset_index()\n",
    "rent_by_day_mean['Date'] = rent_by_day_mean.apply(lambda x: pd.to_datetime(x.Date,format='%Y-%m-%d',errors='coerce'), axis=1)\n",
    "rent_by_day_mean = rent_by_day_mean.set_index('Date')"
   ]
  },
  {
   "cell_type": "code",
   "execution_count": null,
   "metadata": {},
   "outputs": [],
   "source": [
    "cota_ibov = cota_ibov.reset_index()\n",
    "cota_ibov['Date'] = cota_ibov.apply(lambda x: pd.to_datetime(x.Date,format='%Y-%m-%d',errors='coerce'), axis=1)\n",
    "cota_ibov = cota_ibov.set_index(\"Date\")\n",
    "ipo_ibov = pd.concat([ rent_by_day_mean, cota_ibov], axis = 1)"
   ]
  },
  {
   "cell_type": "code",
   "execution_count": null,
   "metadata": {},
   "outputs": [],
   "source": [
    "def mm(dias,data,i):\n",
    "    data = data.iloc[i-dias:i]\n",
    "    return data.variation.mean()"
   ]
  },
  {
   "cell_type": "code",
   "execution_count": null,
   "metadata": {},
   "outputs": [],
   "source": [
    "rent_mm = rent_by_day_mean.copy()"
   ]
  },
  {
   "cell_type": "code",
   "execution_count": null,
   "metadata": {},
   "outputs": [],
   "source": [
    "rent_mm = rent_mm.reset_index()\n",
    "rent_mm['indice'] = list(rent_mm.index)\n",
    "rent_mm['media_movel_200'] = rent_mm.apply(lambda x: mm(200,rent_mm,x.indice), axis = 1)\n",
    "rent_mm['media_movel_100'] = rent_mm.apply(lambda x: mm(100,rent_mm,x.indice), axis = 1)"
   ]
  },
  {
   "cell_type": "code",
   "execution_count": null,
   "metadata": {},
   "outputs": [],
   "source": [
    "rent_lr = rent_mm.copy()\n",
    "rent_lr = rent_lr.dropna().reset_index(drop=True)\n",
    "#rent_lr['indice'] = list(rent_lr.index)\n",
    "#rent_lr.head()"
   ]
  },
  {
   "cell_type": "code",
   "execution_count": null,
   "metadata": {},
   "outputs": [],
   "source": [
    "rent_lr"
   ]
  },
  {
   "cell_type": "code",
   "execution_count": null,
   "metadata": {},
   "outputs": [],
   "source": [
    "result = linregress(rent_lr['indice'], rent_lr['media_movel_200'])\n",
    "x = result.slope\n",
    "y = result.intercept\n",
    "print(f'{x}x + {y}')"
   ]
  },
  {
   "cell_type": "code",
   "execution_count": null,
   "metadata": {},
   "outputs": [],
   "source": [
    "lista_x = list(rent_lr['indice'])\n",
    "lista_y = []\n",
    "\n",
    "for i in lista_x:\n",
    "    lista_y.append(i*result.slope + result.intercept)"
   ]
  },
  {
   "cell_type": "code",
   "execution_count": null,
   "metadata": {
    "scrolled": false
   },
   "outputs": [],
   "source": [
    "x = dict(zip(rent_lr.indice, lista_y))\n",
    "linr= pd.DataFrame.from_dict(x, orient='index').rename(columns={0:'lin_regress'})\n",
    "linr = linr.reset_index().rename(columns={'index': 'indice'})"
   ]
  },
  {
   "cell_type": "code",
   "execution_count": null,
   "metadata": {},
   "outputs": [],
   "source": [
    "linr"
   ]
  },
  {
   "cell_type": "code",
   "execution_count": null,
   "metadata": {},
   "outputs": [],
   "source": [
    "rent_mm = pd.merge(rent_mm, linr, how='outer', on= 'indice')"
   ]
  },
  {
   "cell_type": "code",
   "execution_count": null,
   "metadata": {},
   "outputs": [],
   "source": [
    "rent_mm"
   ]
  },
  {
   "cell_type": "code",
   "execution_count": null,
   "metadata": {},
   "outputs": [],
   "source": [
    "sns.set(rc={'figure.figsize':(17,9)})\n",
    "sns.set_palette('colorblind')\n",
    "loc = plticker.MultipleLocator(base=170.0)\n",
    "axes = sns.lineplot( data=cota_ibov, x='Date', y='Cumulative')\n",
    "axes2 = sns.lineplot(data=rent_by_day_mean, x = 'Date', y='variation')\n",
    "axes3 = sns.lineplot(data=rent_mm, x='Date', y='media_movel_200')\n",
    "axes4 = sns.lineplot(data=rent_mm, x='Date', y='lin_regress')\n",
    "axes.xaxis.set_major_locator(loc)"
   ]
  },
  {
   "cell_type": "code",
   "execution_count": null,
   "metadata": {},
   "outputs": [],
   "source": [
    "ibov = cota_ibov.reset_index().copy()\n",
    "variation = ipo_df.copy()\n",
    "variation['var'] = variation.apply(lambda x: (x.preult - x.preabe)/x.preabe, axis = 1)\n",
    "\n",
    "ibov['vol_media_diaria'] = 0\n",
    "ibov['vol_media_anual'] = 0\n",
    "ibov['codneg'] = 'ibov'\n",
    "\n",
    "variation['vol_media_diaria'] = 0\n",
    "variation['vol_media_anual'] = 0\n",
    "\n",
    "ibov['indice'] = list(ibov.index)\n",
    "\n",
    "variation['indice'] = list(variation.index)\n",
    "\n",
    "def vol_ant(data, ativo):\n",
    "    data = data[data.codneg == ativo]\n",
    "    abertura = dict_tickers[ativo]\n",
    "\n",
    "    if data.index.max() == 0:\n",
    "        vol = np.array([data['var'][0], (data['preabe'][0] - abertura)/abertura]).std()  \n",
    "        return vol\n",
    "    else:\n",
    "        vol = data['var'].std()\n",
    "        return vol\n",
    "    \n",
    "def vol_ant_ibov(data, ativo):\n",
    "    data = data[data.codneg == ativo]\n",
    "    vol = data['Var%'].std()\n",
    "    return vol"
   ]
  },
  {
   "cell_type": "code",
   "execution_count": null,
   "metadata": {},
   "outputs": [],
   "source": [
    "ibov['vol_media_diaria'] = ibov.apply(lambda x: vol_ant_ibov(ibov[:x['indice']+1],'ibov' ), axis = 1)\n",
    "ibov = ibov.drop(columns='indice')\n",
    "ibov['vol_media_anual'] = ibov['vol_media_diaria']*(252**(1/2))\n",
    "ibov"
   ]
  },
  {
   "cell_type": "code",
   "execution_count": null,
   "metadata": {},
   "outputs": [],
   "source": [
    "variation['vol_media_diaria'] = variation.apply(lambda x: vol_ant(variation[:x['indice']+1],x.codneg ), axis = 1)\n",
    "variation = variation.drop(columns='indice')\n",
    "variation['vol_media_anual'] = variation['vol_media_diaria']*(252**(1/2))\n",
    "variation"
   ]
  },
  {
   "cell_type": "code",
   "execution_count": null,
   "metadata": {},
   "outputs": [],
   "source": [
    "var_by_day = variation.pivot_table(values='vol_media_anual', index= 'date', columns='codneg')\n",
    "var_by_day_mean = var_by_day.mean(axis = 1)\n",
    "var_by_day_mean = pd.DataFrame(data=var_by_day_mean, columns=['media_volatilidade'])\n",
    "var_by_day_mean = var_by_day_mean.reset_index(drop=False)"
   ]
  },
  {
   "cell_type": "code",
   "execution_count": null,
   "metadata": {},
   "outputs": [],
   "source": [
    "sns.set(rc={'figure.figsize':(17,9)})\n",
    "sns.set_palette('colorblind')\n",
    "loc = plticker.MultipleLocator(base=120.0)\n",
    "axes = sns.lineplot( data=ibov, x='Date', y='Var%')\n",
    "axes2 = sns.lineplot( data=ibov, x='Date', y='vol_media_anual')\n",
    "axes.xaxis.set_major_locator(loc)"
   ]
  },
  {
   "cell_type": "code",
   "execution_count": null,
   "metadata": {
    "scrolled": false
   },
   "outputs": [],
   "source": [
    "sns.set(rc={'figure.figsize':(17,9)})\n",
    "sns.set_palette('colorblind')\n",
    "loc = plticker.MultipleLocator(base=120.0)\n",
    "axes = sns.lineplot( data=var_by_day_mean, x='date', y='media_volatilidade')\n",
    "axes.xaxis.set_major_locator(loc)"
   ]
  },
  {
   "cell_type": "markdown",
   "metadata": {},
   "source": [
    "## 4.4 Existe correlação entre rentabilidade alta e outra variável que não seja bons fundamentos da empresa, ou seja, puramente especulação?"
   ]
  },
  {
   "cell_type": "code",
   "execution_count": null,
   "metadata": {},
   "outputs": [],
   "source": [
    "ipo_details['Media_faixa'] = (ipo_details['Min_faixa'] + ipo_details['Max_faixa']) / 2\n",
    "ipo_details['%Faixa'] = (ipo_details['Preco_fixado'] / ipo_details['Media_faixa']) - 1"
   ]
  },
  {
   "cell_type": "code",
   "execution_count": null,
   "metadata": {},
   "outputs": [],
   "source": [
    "ipo_details"
   ]
  },
  {
   "cell_type": "code",
   "execution_count": null,
   "metadata": {},
   "outputs": [],
   "source": [
    "rent = rent_df.copy()\n",
    "details = ipo_details.set_index('Tickers').copy()\n",
    "correlacao = pd.concat([details, rent], axis =1)"
   ]
  },
  {
   "cell_type": "code",
   "execution_count": null,
   "metadata": {},
   "outputs": [],
   "source": [
    "today = rent_by_day.iloc[-1]"
   ]
  },
  {
   "cell_type": "code",
   "execution_count": null,
   "metadata": {},
   "outputs": [],
   "source": [
    "correlacao = pd.concat([correlacao, today], axis = 1)\n",
    "correlacao.columns.values[14] = 'Today'"
   ]
  },
  {
   "cell_type": "code",
   "execution_count": null,
   "metadata": {},
   "outputs": [],
   "source": [
    "correlacao = correlacao.drop(columns=['Varejo', 'Institucional', 'Estrangeiros', 'Outros', 'Total_Investidores'])\n",
    "correlacao"
   ]
  },
  {
   "cell_type": "code",
   "execution_count": null,
   "metadata": {
    "scrolled": false
   },
   "outputs": [],
   "source": [
    "sns.scatterplot(data=correlacao[correlacao.index!='BIDI4'], x='Setor', y='15D', hue='Setor')"
   ]
  },
  {
   "cell_type": "code",
   "execution_count": null,
   "metadata": {},
   "outputs": [],
   "source": [
    "covid = covid_df.copy()"
   ]
  },
  {
   "cell_type": "code",
   "execution_count": null,
   "metadata": {},
   "outputs": [],
   "source": [
    "covid"
   ]
  },
  {
   "cell_type": "code",
   "execution_count": null,
   "metadata": {},
   "outputs": [],
   "source": [
    "ibov"
   ]
  },
  {
   "cell_type": "code",
   "execution_count": null,
   "metadata": {},
   "outputs": [],
   "source": [
    "tristeza = ibov.copy()\n",
    "tristeza = tristeza[ibov.Date >= '2021-01-01']\n",
    "tristeza = tristeza.reset_index(drop=True)\n",
    "tristeza = tristeza.rename(columns={'Date': 'data'})\n",
    "tristeza"
   ]
  },
  {
   "cell_type": "code",
   "execution_count": null,
   "metadata": {
    "scrolled": false
   },
   "outputs": [],
   "source": [
    "desgraca = var_by_day_mean.copy()\n",
    "desgraca = desgraca[desgraca.index >= '2020-01-01']\n",
    "desgraca = desgraca.reset_index()\n",
    "desgraca = desgraca.rename(columns={'date': 'data'})\n",
    "desgraca"
   ]
  },
  {
   "cell_type": "code",
   "execution_count": null,
   "metadata": {},
   "outputs": [],
   "source": [
    "derrota = pd.merge(desgraca, covid, how='inner', on= 'data')\n",
    "derrota[100:150]"
   ]
  },
  {
   "cell_type": "code",
   "execution_count": null,
   "metadata": {
    "scrolled": false
   },
   "outputs": [],
   "source": [
    "derrota.corr()"
   ]
  },
  {
   "cell_type": "code",
   "execution_count": null,
   "metadata": {
    "scrolled": false
   },
   "outputs": [],
   "source": [
    "af = pd.concat([tristeza.set_index('data'), covid[covid.data>='2021-01-01'].set_index('data')],axis=1)\n",
    "af[100:150]"
   ]
  },
  {
   "cell_type": "code",
   "execution_count": null,
   "metadata": {
    "scrolled": true
   },
   "outputs": [],
   "source": [
    "af.corr()"
   ]
  },
  {
   "cell_type": "code",
   "execution_count": null,
   "metadata": {},
   "outputs": [],
   "source": [
    "sns.scatterplot(data=af, x='obitosNovos', y='vol_media_diaria')"
   ]
  },
  {
   "cell_type": "code",
   "execution_count": null,
   "metadata": {},
   "outputs": [],
   "source": [
    "sns.set(rc={'figure.figsize':(17,9)})\n",
    "sns.set_palette('colorblind')\n",
    "loc = plticker.MultipleLocator(base=120.0)\n",
    "axes = sns.lineplot( data=derrota, x='data', y='media_volatilidade')\n",
    "\n",
    "axes.xaxis.set_major_locator(loc)"
   ]
  },
  {
   "cell_type": "code",
   "execution_count": null,
   "metadata": {},
   "outputs": [],
   "source": [
    "sns.set(rc={'figure.figsize':(17,9)})\n",
    "sns.set_palette('colorblind')\n",
    "loc = plticker.MultipleLocator(base=120.0)\n",
    "axes = sns.lineplot( data=derrota, x='data', y='media_movel_14')\n",
    "axes.xaxis.set_major_locator(loc)"
   ]
  },
  {
   "cell_type": "markdown",
   "metadata": {
    "id": "R8qA70Ov8bzk"
   },
   "source": [
    "# 5 Conclusão"
   ]
  },
  {
   "cell_type": "markdown",
   "metadata": {
    "id": "K4lH8wNq8jzf"
   },
   "source": []
  }
 ],
 "metadata": {
  "colab": {
   "name": "Final_Report.ipynb",
   "provenance": []
  },
  "kernelspec": {
   "display_name": "Python 3",
   "language": "python",
   "name": "python3"
  },
  "language_info": {
   "codemirror_mode": {
    "name": "ipython",
    "version": 3
   },
   "file_extension": ".py",
   "mimetype": "text/x-python",
   "name": "python",
   "nbconvert_exporter": "python",
   "pygments_lexer": "ipython3",
   "version": "3.8.5"
  }
 },
 "nbformat": 4,
 "nbformat_minor": 1
}
