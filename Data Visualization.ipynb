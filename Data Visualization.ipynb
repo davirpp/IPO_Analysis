{
 "cells": [
  {
   "cell_type": "code",
   "execution_count": 1,
   "metadata": {},
   "outputs": [],
   "source": [
    "import pandas as pd\n",
    "import seaborn as sns\n",
    "import matplotlib \n",
    "import matplotlib.pyplot as plt\n",
    "ipo_df = pd.read_csv(\"C:/Users/davir/davigit/Projeto_Intro_CD/datasets/ipos_1521.csv\")\n",
    "precoipo = pd.read_csv(\"C:/Users/davir/davigit/Projeto_Intro_CD/datasets/preco_abe_ipo.csv\")"
   ]
  },
  {
   "cell_type": "code",
   "execution_count": 2,
   "metadata": {},
   "outputs": [],
   "source": [
    "tickers = [\"PSVM11\" , \"WIZS3\" ,  \"AALR3\" , \"MOVI3\" , \"PARD3\", \"AZUL4\", \"CRFB3\", \"IRBR3\", \"OMGE3\", \"CAML3\", \n",
    "                  \"BKBR3\", \"BRDT3\", \"GNDI3\", \"HAPV3\", \"BIDI4\", \"SBFG3\",\"NEOE3\", \"VIVA3\", \"BMGB4\", \"CEAB3\", \n",
    "                  \"MTRE3\", \"LWSA3\", \"MDNE3\", \"PRNR3\", \"ALPK3\", \"AMBP3\", \"SOMA3\", \"DMVF3\", \"LJQQ3\", \"LAVV3\", \n",
    "                  \"PGMN3\", \"PETZ3\", \"PLPL3\", \"MELK3\", \"HBSA3\", \"CURY3\", \"BOAS3\", \"SEQL3\", \"GMAT3\", \"TFCO4\", \n",
    "                  \"CASH3\", \"ENJU3\", \"AERI3\", \"RRRP3\", \"AVLL3\", \"RDOR3\", \"NGRD3\"]\n",
    "abertura = list(precoipo['preco'])\n",
    "dict_tickers = dict(zip(tickers, abertura))"
   ]
  },
  {
   "cell_type": "code",
   "execution_count": 3,
   "metadata": {
    "scrolled": true
   },
   "outputs": [
    {
     "data": {
      "text/html": [
       "<div>\n",
       "<style scoped>\n",
       "    .dataframe tbody tr th:only-of-type {\n",
       "        vertical-align: middle;\n",
       "    }\n",
       "\n",
       "    .dataframe tbody tr th {\n",
       "        vertical-align: top;\n",
       "    }\n",
       "\n",
       "    .dataframe thead th {\n",
       "        text-align: right;\n",
       "    }\n",
       "</style>\n",
       "<table border=\"1\" class=\"dataframe\">\n",
       "  <thead>\n",
       "    <tr style=\"text-align: right;\">\n",
       "      <th></th>\n",
       "      <th>tickers</th>\n",
       "      <th>date</th>\n",
       "    </tr>\n",
       "  </thead>\n",
       "  <tbody>\n",
       "    <tr>\n",
       "      <th>0</th>\n",
       "      <td>PSVM11</td>\n",
       "      <td>2015-03-10</td>\n",
       "    </tr>\n",
       "    <tr>\n",
       "      <th>1</th>\n",
       "      <td>WIZS3</td>\n",
       "      <td>2015-06-05</td>\n",
       "    </tr>\n",
       "    <tr>\n",
       "      <th>2</th>\n",
       "      <td>AALR3</td>\n",
       "      <td>2016-10-28</td>\n",
       "    </tr>\n",
       "    <tr>\n",
       "      <th>3</th>\n",
       "      <td>MOVI3</td>\n",
       "      <td>2017-02-08</td>\n",
       "    </tr>\n",
       "    <tr>\n",
       "      <th>4</th>\n",
       "      <td>PARD3</td>\n",
       "      <td>2017-02-14</td>\n",
       "    </tr>\n",
       "  </tbody>\n",
       "</table>\n",
       "</div>"
      ],
      "text/plain": [
       "  tickers       date\n",
       "0  PSVM11 2015-03-10\n",
       "1   WIZS3 2015-06-05\n",
       "2   AALR3 2016-10-28\n",
       "3   MOVI3 2017-02-08\n",
       "4   PARD3 2017-02-14"
      ]
     },
     "execution_count": 3,
     "metadata": {},
     "output_type": "execute_result"
    }
   ],
   "source": [
    "date_list = []\n",
    "for ticker in tickers:\n",
    "    df = ipo_df[ipo_df.codneg==ticker]\n",
    "    date_list.append(df[\"date\"].iloc[0])\n",
    "    \n",
    "date_ipo_df = pd.DataFrame(list(zip(tickers, date_list)), columns=[\"tickers\", \"date\"])\n",
    "date_ipo_df[\"date\"] = pd.to_datetime(date_ipo_df[\"date\"], format='%Y-%m-%d')\n",
    "date_ipo_df.head()"
   ]
  },
  {
   "cell_type": "code",
   "execution_count": 4,
   "metadata": {},
   "outputs": [
    {
     "data": {
      "text/html": [
       "<div>\n",
       "<style scoped>\n",
       "    .dataframe tbody tr th:only-of-type {\n",
       "        vertical-align: middle;\n",
       "    }\n",
       "\n",
       "    .dataframe tbody tr th {\n",
       "        vertical-align: top;\n",
       "    }\n",
       "\n",
       "    .dataframe thead th {\n",
       "        text-align: right;\n",
       "    }\n",
       "</style>\n",
       "<table border=\"1\" class=\"dataframe\">\n",
       "  <thead>\n",
       "    <tr style=\"text-align: right;\">\n",
       "      <th></th>\n",
       "      <th>Year</th>\n",
       "      <th>Quantity</th>\n",
       "    </tr>\n",
       "  </thead>\n",
       "  <tbody>\n",
       "    <tr>\n",
       "      <th>0</th>\n",
       "      <td>2015</td>\n",
       "      <td>2</td>\n",
       "    </tr>\n",
       "    <tr>\n",
       "      <th>1</th>\n",
       "      <td>2016</td>\n",
       "      <td>1</td>\n",
       "    </tr>\n",
       "    <tr>\n",
       "      <th>2</th>\n",
       "      <td>2017</td>\n",
       "      <td>9</td>\n",
       "    </tr>\n",
       "    <tr>\n",
       "      <th>3</th>\n",
       "      <td>2018</td>\n",
       "      <td>3</td>\n",
       "    </tr>\n",
       "    <tr>\n",
       "      <th>4</th>\n",
       "      <td>2019</td>\n",
       "      <td>5</td>\n",
       "    </tr>\n",
       "    <tr>\n",
       "      <th>5</th>\n",
       "      <td>2020</td>\n",
       "      <td>27</td>\n",
       "    </tr>\n",
       "  </tbody>\n",
       "</table>\n",
       "</div>"
      ],
      "text/plain": [
       "   Year  Quantity\n",
       "0  2015         2\n",
       "1  2016         1\n",
       "2  2017         9\n",
       "3  2018         3\n",
       "4  2019         5\n",
       "5  2020        27"
      ]
     },
     "execution_count": 4,
     "metadata": {},
     "output_type": "execute_result"
    }
   ],
   "source": [
    "lista = []\n",
    "for i in range(2015, 2021):\n",
    "    quant = date_ipo_df[date_ipo_df['date'].dt.year == i].count()[0]\n",
    "    lista.append(quant)\n",
    "\n",
    "ipos_per_year = list(zip([str(i) for i in range(2015, 2021)], lista))\n",
    "ipos_per_year = pd.DataFrame(ipos_per_year, columns=[\"Year\", \"Quantity\"])\n",
    "ipos_per_year\n"
   ]
  },
  {
   "cell_type": "markdown",
   "metadata": {},
   "source": [
    "## Quantity of IPO's per Year"
   ]
  },
  {
   "cell_type": "code",
   "execution_count": 7,
   "metadata": {
    "scrolled": true
   },
   "outputs": [
    {
     "data": {
      "image/png": "[encoded data removed]",
      "text/plain": [
       "<Figure size 432x288 with 1 Axes>"
      ]
     },
     "metadata": {
      "needs_background": "light"
     },
     "output_type": "display_data"
    }
   ],
   "source": [
    "quant_year_b = sns.barplot(x=\"Year\", y=\"Quantity\", data=ipos_per_year)\n",
    "for index, row in ipos_per_year.iterrows():\n",
    "    quant_year_b.text(row.name, row.Quantity+0.15, round(row.Quantity,2), color=\"black\", ha=\"center\")\n"
   ]
  },
  {
   "cell_type": "markdown",
   "metadata": {},
   "source": [
    "## Mean Rentability "
   ]
  },
  {
   "cell_type": "code",
   "execution_count": null,
   "metadata": {},
   "outputs": [],
   "source": []
  },
  {
   "cell_type": "markdown",
   "metadata": {},
   "source": [
    "## Comparison Rentability 2015-2019 and 2020"
   ]
  },
  {
   "cell_type": "code",
   "execution_count": null,
   "metadata": {},
   "outputs": [],
   "source": []
  },
  {
   "cell_type": "markdown",
   "metadata": {},
   "source": [
    "## Deaths by Covid and Volatility"
   ]
  },
  {
   "cell_type": "code",
   "execution_count": null,
   "metadata": {},
   "outputs": [],
   "source": []
  },
  {
   "cell_type": "markdown",
   "metadata": {},
   "source": [
    "## Correlation Death x Volatility"
   ]
  },
  {
   "cell_type": "code",
   "execution_count": null,
   "metadata": {},
   "outputs": [],
   "source": []
  },
  {
   "cell_type": "markdown",
   "metadata": {},
   "source": [
    "## Histogram about the Returns One-year IPO"
   ]
  },
  {
   "cell_type": "code",
   "execution_count": null,
   "metadata": {},
   "outputs": [],
   "source": []
  },
  {
   "cell_type": "markdown",
   "metadata": {},
   "source": [
    "## Comparison 'IPO ETF' and IBOVESPA"
   ]
  },
  {
   "cell_type": "code",
   "execution_count": null,
   "metadata": {},
   "outputs": [],
   "source": []
  }
 ],
 "metadata": {
  "kernelspec": {
   "display_name": "Python 3",
   "language": "python",
   "name": "python3"
  },
  "language_info": {
   "codemirror_mode": {
    "name": "ipython",
    "version": 3
   },
   "file_extension": ".py",
   "mimetype": "text/x-python",
   "name": "python",
   "nbconvert_exporter": "python",
   "pygments_lexer": "ipython3",
   "version": "3.8.5"
  }
 },
 "nbformat": 4,
 "nbformat_minor": 4
}
